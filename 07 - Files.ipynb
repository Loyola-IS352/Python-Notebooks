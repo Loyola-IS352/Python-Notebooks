{
 "cells": [
  {
   "cell_type": "markdown",
   "metadata": {},
   "source": [
    "# Introduction\n",
    "In this module, we explore new ways of acquiring data in our application. Up to this point, we have been using data values that are either entered by the user or are persistent in our programs. This limits the types of tasks our applications can handle. In this chapter we will learn how to use python to interface with external files. We will learn how to open files, read files line-by-line and write data to new or existing files. \n",
    "\n",
    "# Files \n",
    "## Opening Files\n",
    "Because python is an interpreted language, interfacing with the operating system is handled by the interpreter. Therefore, when files are ‘opened’ python requests a file handler that acts as a middleman between python and the file. If you think of it from an ownership perspective, python owns the commands in python and the operating system owns the files stored on the computer. Neither really understands how to interact with one-another, so a middleman is needed to translate python’s requests into directions the operating system understands. "
   ]
  },
  {
   "cell_type": "code",
   "execution_count": 1,
   "metadata": {},
   "outputs": [
    {
     "name": "stdout",
     "output_type": "stream",
     "text": [
      "<_io.TextIOWrapper name='support/random_numbers.txt' mode='r' encoding='UTF-8'>\n",
      "<class '_io.TextIOWrapper'>\n"
     ]
    }
   ],
   "source": [
    "with open('support/random_numbers.txt') as fileHandler: \n",
    "    print(fileHandler)\n",
    "    print(type(fileHandler))"
   ]
  },
  {
   "cell_type": "markdown",
   "metadata": {},
   "source": [
    "The **with** keyword above provides a safe way of working with files because files must be opened and closed to ensure data integrity. If your code crashes after you open the file, the file may be left open and may be corrupted. The with statement ensures that files are closed when the with block of code completes. For indentation purposes, code that needs access to the file handler should be indented one level beyond the indentation level of the with (just like conditional and iteration blocks).  \n",
    "\n",
    "## Reading files\n",
    "### Line-by-Line\n",
    "There are several mechanisms for reading from files. The first, and probably easiest, is to treat the file handler as an iterable list where each iteration through the for loop produces the next line of text from the source file. The code below reads the text one line at a time and exits the for loop when there are no lines left to read. \n",
    "\n",
    "Using fileHandler as an iterable..."
   ]
  },
  {
   "cell_type": "code",
   "execution_count": 2,
   "metadata": {},
   "outputs": [
    {
     "name": "stdout",
     "output_type": "stream",
     "text": [
      "926,927,928,929,930\n",
      "\n"
     ]
    }
   ],
   "source": [
    "with open('support/random_numbers.txt') as fileHandler: \n",
    "    for line in fileHandler:\n",
    "        print(line)\n",
    "        break"
   ]
  },
  {
   "cell_type": "code",
   "execution_count": 3,
   "metadata": {},
   "outputs": [
    {
     "name": "stdout",
     "output_type": "stream",
     "text": [
      "<class 'str'>\n",
      "Line 0: 926,927,928,929,930\n",
      "\n",
      "<class 'str'>\n",
      "Line 1: 646,647,648,649,650,651,652,653,654,655,656,657,658,659,660\n",
      "\n",
      "<class 'str'>\n",
      "Line 2: 488,489,490,491,492,493,494,495\n",
      "\n",
      "<class 'str'>\n",
      "Line 3: 31,32,33,34,35,36,37,38,39,40,41,42,43,44,45\n",
      "\n",
      "<class 'str'>\n",
      "Line 4: 169,170,171,172,173,174,175,176,177,178,179,180\n",
      "\n",
      "<class 'str'>\n",
      "Line 5: 419,420\n",
      "\n",
      "<class 'str'>\n",
      "Line 6: 455,456,457,458,459,460,461,462,463,464,465\n",
      "\n",
      "<class 'str'>\n",
      "Line 7: 883,884,885\n",
      "\n",
      "<class 'str'>\n",
      "Line 8: 241,242,243,244,245,246,247,248,249,250,251,252,253,254,255\n",
      "\n",
      "<class 'str'>\n",
      "Line 9: 786,787,788,789,790,791,792,793,794,795\n",
      "\n",
      "<class 'str'>\n",
      "Line 10: 137,138,139,140,141,142,143,144,145,146,147,148,149,150\n",
      "\n",
      "<class 'str'>\n",
      "Line 11: 912,913,914,915\n",
      "\n",
      "<class 'str'>\n",
      "Line 12: 81,82,83,84,85,86,87,88,89,90\n",
      "\n",
      "<class 'str'>\n",
      "Line 13: 256,257,258,259,260,261,262,263,264,265,266,267,268,269,270\n",
      "\n",
      "<class 'str'>\n",
      "Line 14: 450\n",
      "\n",
      "<class 'str'>\n",
      "Line 15: 649,650,651,652,653,654,655,656,657,658,659,660\n",
      "\n",
      "<class 'str'>\n",
      "Line 16: 194,195\n",
      "\n",
      "<class 'str'>\n",
      "Line 17: 825\n",
      "\n",
      "<class 'str'>\n",
      "Line 18: 739,740,741,742,743,744,745,746,747,748,749,750\n",
      "\n",
      "<class 'str'>\n",
      "Line 19: 805,806,807,808,809,810\n",
      "\n",
      "<class 'str'>\n",
      "Line 20: 395,396,397,398,399,400,401,402,403,404,405\n",
      "\n",
      "<class 'str'>\n",
      "Line 21: 358,359,360\n",
      "\n",
      "<class 'str'>\n",
      "Line 22: 351,352,353,354,355,356,357,358,359,360\n",
      "\n",
      "<class 'str'>\n",
      "Line 23: 575,576,577,578,579,580,581,582,583,584,585\n",
      "\n",
      "<class 'str'>\n",
      "Line 24: 1,2,3,4,5,6,7,8,9,10,11,12,13,14,15\n",
      "\n"
     ]
    }
   ],
   "source": [
    "with open('support/random_numbers.txt') as fileHandler: \n",
    "    lineNumber = 0\n",
    "    for line in fileHandler:\n",
    "        print(type(line))\n",
    "        print(f\"Line {lineNumber}: {line}\") \n",
    "        lineNumber += 1"
   ]
  },
  {
   "cell_type": "markdown",
   "metadata": {},
   "source": [
    "Using .readline()..."
   ]
  },
  {
   "cell_type": "code",
   "execution_count": 8,
   "metadata": {},
   "outputs": [
    {
     "name": "stdout",
     "output_type": "stream",
     "text": [
      "926,927,928,929,930\n",
      "\n"
     ]
    }
   ],
   "source": [
    "with open('support/random_numbers.txt') as fileHandler: \n",
    "    line = fileHandler.readline()\n",
    "    print(line)"
   ]
  },
  {
   "cell_type": "code",
   "execution_count": 9,
   "metadata": {},
   "outputs": [
    {
     "name": "stdout",
     "output_type": "stream",
     "text": [
      "<class 'str'>\n",
      "Line 0: 926,927,928,929,930\n",
      "\n",
      "<class 'str'>\n",
      "Line 1: 646,647,648,649,650,651,652,653,654,655,656,657,658,659,660\n",
      "\n",
      "<class 'str'>\n",
      "Line 2: 488,489,490,491,492,493,494,495\n",
      "\n",
      "<class 'str'>\n",
      "Line 3: 31,32,33,34,35,36,37,38,39,40,41,42,43,44,45\n",
      "\n",
      "<class 'str'>\n",
      "Line 4: 169,170,171,172,173,174,175,176,177,178,179,180\n",
      "\n",
      "<class 'str'>\n",
      "Line 5: 419,420\n",
      "\n",
      "<class 'str'>\n",
      "Line 6: 455,456,457,458,459,460,461,462,463,464,465\n",
      "\n",
      "<class 'str'>\n",
      "Line 7: 883,884,885\n",
      "\n",
      "<class 'str'>\n",
      "Line 8: 241,242,243,244,245,246,247,248,249,250,251,252,253,254,255\n",
      "\n",
      "<class 'str'>\n",
      "Line 9: 786,787,788,789,790,791,792,793,794,795\n",
      "\n",
      "<class 'str'>\n",
      "Line 10: 137,138,139,140,141,142,143,144,145,146,147,148,149,150\n",
      "\n",
      "<class 'str'>\n",
      "Line 11: 912,913,914,915\n",
      "\n",
      "<class 'str'>\n",
      "Line 12: 81,82,83,84,85,86,87,88,89,90\n",
      "\n",
      "<class 'str'>\n",
      "Line 13: 256,257,258,259,260,261,262,263,264,265,266,267,268,269,270\n",
      "\n",
      "<class 'str'>\n",
      "Line 14: 450\n",
      "\n",
      "<class 'str'>\n",
      "Line 15: 649,650,651,652,653,654,655,656,657,658,659,660\n",
      "\n",
      "<class 'str'>\n",
      "Line 16: 194,195\n",
      "\n",
      "<class 'str'>\n",
      "Line 17: 825\n",
      "\n",
      "<class 'str'>\n",
      "Line 18: 739,740,741,742,743,744,745,746,747,748,749,750\n",
      "\n",
      "<class 'str'>\n",
      "Line 19: 805,806,807,808,809,810\n",
      "\n",
      "<class 'str'>\n",
      "Line 20: 395,396,397,398,399,400,401,402,403,404,405\n",
      "\n",
      "<class 'str'>\n",
      "Line 21: 358,359,360\n",
      "\n",
      "<class 'str'>\n",
      "Line 22: 351,352,353,354,355,356,357,358,359,360\n",
      "\n",
      "<class 'str'>\n",
      "Line 23: 575,576,577,578,579,580,581,582,583,584,585\n",
      "\n",
      "<class 'str'>\n",
      "Line 24: 1,2,3,4,5,6,7,8,9,10,11,12,13,14,15\n",
      "\n"
     ]
    }
   ],
   "source": [
    "with open('support/random_numbers.txt') as fileHandler: \n",
    "    lineNumber = 0\n",
    "    while True:\n",
    "        line = fileHandler.readline()\n",
    "        if not line:\n",
    "            break\n",
    "        print(type(line))\n",
    "        print(f\"Line {lineNumber}: {line}\") \n",
    "        lineNumber += 1"
   ]
  },
  {
   "cell_type": "markdown",
   "metadata": {},
   "source": [
    "Using .readlines()..."
   ]
  },
  {
   "cell_type": "code",
   "execution_count": 20,
   "metadata": {},
   "outputs": [
    {
     "name": "stdout",
     "output_type": "stream",
     "text": [
      "926,927,928,929,930\n",
      "\n",
      "25\n"
     ]
    }
   ],
   "source": [
    "with open('support/random_numbers.txt') as fileHandler: \n",
    "    lines = fileHandler.readlines()\n",
    "    print(lines[0])\n",
    "    print(len(lines))"
   ]
  },
  {
   "cell_type": "code",
   "execution_count": 11,
   "metadata": {},
   "outputs": [
    {
     "name": "stdout",
     "output_type": "stream",
     "text": [
      "<class 'str'>\n",
      "Line 0: 926,927,928,929,930\n",
      "\n",
      "<class 'str'>\n",
      "Line 1: 646,647,648,649,650,651,652,653,654,655,656,657,658,659,660\n",
      "\n",
      "<class 'str'>\n",
      "Line 2: 488,489,490,491,492,493,494,495\n",
      "\n",
      "<class 'str'>\n",
      "Line 3: 31,32,33,34,35,36,37,38,39,40,41,42,43,44,45\n",
      "\n",
      "<class 'str'>\n",
      "Line 4: 169,170,171,172,173,174,175,176,177,178,179,180\n",
      "\n",
      "<class 'str'>\n",
      "Line 5: 419,420\n",
      "\n",
      "<class 'str'>\n",
      "Line 6: 455,456,457,458,459,460,461,462,463,464,465\n",
      "\n",
      "<class 'str'>\n",
      "Line 7: 883,884,885\n",
      "\n",
      "<class 'str'>\n",
      "Line 8: 241,242,243,244,245,246,247,248,249,250,251,252,253,254,255\n",
      "\n",
      "<class 'str'>\n",
      "Line 9: 786,787,788,789,790,791,792,793,794,795\n",
      "\n",
      "<class 'str'>\n",
      "Line 10: 137,138,139,140,141,142,143,144,145,146,147,148,149,150\n",
      "\n",
      "<class 'str'>\n",
      "Line 11: 912,913,914,915\n",
      "\n",
      "<class 'str'>\n",
      "Line 12: 81,82,83,84,85,86,87,88,89,90\n",
      "\n",
      "<class 'str'>\n",
      "Line 13: 256,257,258,259,260,261,262,263,264,265,266,267,268,269,270\n",
      "\n",
      "<class 'str'>\n",
      "Line 14: 450\n",
      "\n",
      "<class 'str'>\n",
      "Line 15: 649,650,651,652,653,654,655,656,657,658,659,660\n",
      "\n",
      "<class 'str'>\n",
      "Line 16: 194,195\n",
      "\n",
      "<class 'str'>\n",
      "Line 17: 825\n",
      "\n",
      "<class 'str'>\n",
      "Line 18: 739,740,741,742,743,744,745,746,747,748,749,750\n",
      "\n",
      "<class 'str'>\n",
      "Line 19: 805,806,807,808,809,810\n",
      "\n",
      "<class 'str'>\n",
      "Line 20: 395,396,397,398,399,400,401,402,403,404,405\n",
      "\n",
      "<class 'str'>\n",
      "Line 21: 358,359,360\n",
      "\n",
      "<class 'str'>\n",
      "Line 22: 351,352,353,354,355,356,357,358,359,360\n",
      "\n",
      "<class 'str'>\n",
      "Line 23: 575,576,577,578,579,580,581,582,583,584,585\n",
      "\n",
      "<class 'str'>\n",
      "Line 24: 1,2,3,4,5,6,7,8,9,10,11,12,13,14,15\n",
      "\n"
     ]
    }
   ],
   "source": [
    "with open('support/random_numbers.txt') as fileHandler: \n",
    "    lines = fileHandler.readlines()\n",
    "    lineNumber = 0\n",
    "    for line in lines:\n",
    "        print(type(line))\n",
    "        print(f\"Line {lineNumber}: {line}\") \n",
    "        lineNumber += 1"
   ]
  },
  {
   "cell_type": "markdown",
   "metadata": {},
   "source": [
    "Notice that this code seems to put an additional return after every line. This is because each line in the source file has a newline character (\\n) at the end of it, and the print function automatically appends a newline character to the end of printed statements. Therefore, it will be good practice to use the .strip() method to clean any extra returns from the line we’ve read from the source file. "
   ]
  },
  {
   "cell_type": "code",
   "execution_count": 12,
   "metadata": {},
   "outputs": [
    {
     "name": "stdout",
     "output_type": "stream",
     "text": [
      "<class 'str'>\n",
      "Line 0: '926,927,928,929,930\\n'\n",
      "<class 'str'>\n",
      "Line 1: '646,647,648,649,650,651,652,653,654,655,656,657,658,659,660\\n'\n",
      "<class 'str'>\n",
      "Line 2: '488,489,490,491,492,493,494,495\\n'\n",
      "<class 'str'>\n",
      "Line 3: '31,32,33,34,35,36,37,38,39,40,41,42,43,44,45\\n'\n",
      "<class 'str'>\n",
      "Line 4: '169,170,171,172,173,174,175,176,177,178,179,180\\n'\n",
      "<class 'str'>\n",
      "Line 5: '419,420\\n'\n",
      "<class 'str'>\n",
      "Line 6: '455,456,457,458,459,460,461,462,463,464,465\\n'\n",
      "<class 'str'>\n",
      "Line 7: '883,884,885\\n'\n",
      "<class 'str'>\n",
      "Line 8: '241,242,243,244,245,246,247,248,249,250,251,252,253,254,255\\n'\n",
      "<class 'str'>\n",
      "Line 9: '786,787,788,789,790,791,792,793,794,795\\n'\n",
      "<class 'str'>\n",
      "Line 10: '137,138,139,140,141,142,143,144,145,146,147,148,149,150\\n'\n",
      "<class 'str'>\n",
      "Line 11: '912,913,914,915\\n'\n",
      "<class 'str'>\n",
      "Line 12: '81,82,83,84,85,86,87,88,89,90\\n'\n",
      "<class 'str'>\n",
      "Line 13: '256,257,258,259,260,261,262,263,264,265,266,267,268,269,270\\n'\n",
      "<class 'str'>\n",
      "Line 14: '450\\n'\n",
      "<class 'str'>\n",
      "Line 15: '649,650,651,652,653,654,655,656,657,658,659,660\\n'\n",
      "<class 'str'>\n",
      "Line 16: '194,195\\n'\n",
      "<class 'str'>\n",
      "Line 17: '825\\n'\n",
      "<class 'str'>\n",
      "Line 18: '739,740,741,742,743,744,745,746,747,748,749,750\\n'\n",
      "<class 'str'>\n",
      "Line 19: '805,806,807,808,809,810\\n'\n",
      "<class 'str'>\n",
      "Line 20: '395,396,397,398,399,400,401,402,403,404,405\\n'\n",
      "<class 'str'>\n",
      "Line 21: '358,359,360\\n'\n",
      "<class 'str'>\n",
      "Line 22: '351,352,353,354,355,356,357,358,359,360\\n'\n",
      "<class 'str'>\n",
      "Line 23: '575,576,577,578,579,580,581,582,583,584,585\\n'\n",
      "<class 'str'>\n",
      "Line 24: '1,2,3,4,5,6,7,8,9,10,11,12,13,14,15\\n'\n"
     ]
    }
   ],
   "source": [
    "with open('support/random_numbers.txt') as fileHandler: \n",
    "    lineNumber = 0\n",
    "    for line in fileHandler:\n",
    "        print(type(line))\n",
    "        print(f\"Line {lineNumber}: {repr(line)}\") \n",
    "        lineNumber += 1"
   ]
  },
  {
   "cell_type": "code",
   "execution_count": 17,
   "metadata": {},
   "outputs": [
    {
     "name": "stdout",
     "output_type": "stream",
     "text": [
      "<class 'str'>\n",
      "Line 0: '926,927,928,929,930'\n",
      "<class 'str'>\n",
      "Line 1: '646,647,648,649,650,651,652,653,654,655,656,657,658,659,660'\n",
      "<class 'str'>\n",
      "Line 2: '488,489,490,491,492,493,494,495'\n",
      "<class 'str'>\n",
      "Line 3: '31,32,33,34,35,36,37,38,39,40,41,42,43,44,45'\n",
      "<class 'str'>\n",
      "Line 4: '169,170,171,172,173,174,175,176,177,178,179,180'\n",
      "<class 'str'>\n",
      "Line 5: '419,420'\n",
      "<class 'str'>\n",
      "Line 6: '455,456,457,458,459,460,461,462,463,464,465'\n",
      "<class 'str'>\n",
      "Line 7: '883,884,885'\n",
      "<class 'str'>\n",
      "Line 8: '241,242,243,244,245,246,247,248,249,250,251,252,253,254,255'\n",
      "<class 'str'>\n",
      "Line 9: '786,787,788,789,790,791,792,793,794,795'\n",
      "<class 'str'>\n",
      "Line 10: '137,138,139,140,141,142,143,144,145,146,147,148,149,150'\n",
      "<class 'str'>\n",
      "Line 11: '912,913,914,915'\n",
      "<class 'str'>\n",
      "Line 12: '81,82,83,84,85,86,87,88,89,90'\n",
      "<class 'str'>\n",
      "Line 13: '256,257,258,259,260,261,262,263,264,265,266,267,268,269,270'\n",
      "<class 'str'>\n",
      "Line 14: '450'\n",
      "<class 'str'>\n",
      "Line 15: '649,650,651,652,653,654,655,656,657,658,659,660'\n",
      "<class 'str'>\n",
      "Line 16: '194,195'\n",
      "<class 'str'>\n",
      "Line 17: '825'\n",
      "<class 'str'>\n",
      "Line 18: '739,740,741,742,743,744,745,746,747,748,749,750'\n",
      "<class 'str'>\n",
      "Line 19: '805,806,807,808,809,810'\n",
      "<class 'str'>\n",
      "Line 20: '395,396,397,398,399,400,401,402,403,404,405'\n",
      "<class 'str'>\n",
      "Line 21: '358,359,360'\n",
      "<class 'str'>\n",
      "Line 22: '351,352,353,354,355,356,357,358,359,360'\n",
      "<class 'str'>\n",
      "Line 23: '575,576,577,578,579,580,581,582,583,584,585'\n",
      "<class 'str'>\n",
      "Line 24: '1,2,3,4,5,6,7,8,9,10,11,12,13,14,15'\n"
     ]
    }
   ],
   "source": [
    "with open('support/random_numbers.txt') as fileHandler: \n",
    "    lineNumber = 0\n",
    "    for line in fileHandler:\n",
    "        cleanLine = line.strip()\n",
    "        print(type(cleanLine))\n",
    "        print(f\"Line {lineNumber}: {repr(cleanLine)}\") \n",
    "        lineNumber += 1"
   ]
  },
  {
   "cell_type": "markdown",
   "metadata": {},
   "source": [
    "### All at once\n",
    "Or, you can read the entire file contents into a variable. "
   ]
  },
  {
   "cell_type": "code",
   "execution_count": 19,
   "metadata": {},
   "outputs": [
    {
     "name": "stdout",
     "output_type": "stream",
     "text": [
      "926,927,928,929,930\n",
      "646,647,648,649,650,651,652,653,654,655,656,657,658,659,660\n",
      "488,489,490,491,492,493,494,495\n",
      "31,32,33,34,35,36,37,38,39,40,41,42,43,44,45\n",
      "169,170,171,172,173,174,175,176,177,178,179,180\n",
      "419,420\n",
      "455,456,457,458,459,460,461,462,463,464,465\n",
      "883,884,885\n",
      "241,242,243,244,245,246,247,248,249,250,251,252,253,254,255\n",
      "786,787,788,789,790,791,792,793,794,795\n",
      "137,138,139,140,141,142,143,144,145,146,147,148,149,150\n",
      "912,913,914,915\n",
      "81,82,83,84,85,86,87,88,89,90\n",
      "256,257,258,259,260,261,262,263,264,265,266,267,268,269,270\n",
      "450\n",
      "649,650,651,652,653,654,655,656,657,658,659,660\n",
      "194,195\n",
      "825\n",
      "739,740,741,742,743,744,745,746,747,748,749,750\n",
      "805,806,807,808,809,810\n",
      "395,396,397,398,399,400,401,402,403,404,405\n",
      "358,359,360\n",
      "351,352,353,354,355,356,357,358,359,360\n",
      "575,576,577,578,579,580,581,582,583,584,585\n",
      "1,2,3,4,5,6,7,8,9,10,11,12,13,14,15\n",
      "\n",
      "'926,927,928,929,930\\n646,647,648,649,650,651,652,653,654,655,656,657,658,659,660\\n488,489,490,491,492,493,494,495\\n31,32,33,34,35,36,37,38,39,40,41,42,43,44,45\\n169,170,171,172,173,174,175,176,177,178,179,180\\n419,420\\n455,456,457,458,459,460,461,462,463,464,465\\n883,884,885\\n241,242,243,244,245,246,247,248,249,250,251,252,253,254,255\\n786,787,788,789,790,791,792,793,794,795\\n137,138,139,140,141,142,143,144,145,146,147,148,149,150\\n912,913,914,915\\n81,82,83,84,85,86,87,88,89,90\\n256,257,258,259,260,261,262,263,264,265,266,267,268,269,270\\n450\\n649,650,651,652,653,654,655,656,657,658,659,660\\n194,195\\n825\\n739,740,741,742,743,744,745,746,747,748,749,750\\n805,806,807,808,809,810\\n395,396,397,398,399,400,401,402,403,404,405\\n358,359,360\\n351,352,353,354,355,356,357,358,359,360\\n575,576,577,578,579,580,581,582,583,584,585\\n1,2,3,4,5,6,7,8,9,10,11,12,13,14,15\\n'\n",
      "Length of lines:843\n",
      "<class 'str'>\n"
     ]
    }
   ],
   "source": [
    "with open('support/random_numbers.txt') as fileHandler: \n",
    "    fileContent = fileHandler.read() \n",
    "print(fileContent)\n",
    "print(repr(fileContent))\n",
    "print(\"Length of lines:\" + str(len(fileContent)))\n",
    "print(type(fileContent))"
   ]
  },
  {
   "cell_type": "markdown",
   "metadata": {},
   "source": [
    "## Searching a file\n",
    "When searching a file, it is often best to scan the file line-by-line. This will prevent any memory or storage issues if you are trying to process a very large data file (>1GB). For small files, it may be easiest to simply read in the entire file, but I would recommend you tailor your thinking to a line-by-line processing approach as it is a more generic, portable approach. "
   ]
  },
  {
   "cell_type": "code",
   "execution_count": 21,
   "metadata": {},
   "outputs": [
    {
     "name": "stdout",
     "output_type": "stream",
     "text": [
      "<class 'str'>\n",
      "this line is longer than 25 characters: 646,647,648,649,650,651,652,653,654,655,656,657,658,659,660\n",
      "<class 'str'>\n",
      "this line is longer than 25 characters: 488,489,490,491,492,493,494,495\n",
      "<class 'str'>\n",
      "this line is longer than 25 characters: 31,32,33,34,35,36,37,38,39,40,41,42,43,44,45\n",
      "<class 'str'>\n",
      "this line is longer than 25 characters: 169,170,171,172,173,174,175,176,177,178,179,180\n",
      "<class 'str'>\n",
      "this line is longer than 25 characters: 455,456,457,458,459,460,461,462,463,464,465\n",
      "<class 'str'>\n",
      "this line is longer than 25 characters: 241,242,243,244,245,246,247,248,249,250,251,252,253,254,255\n",
      "<class 'str'>\n",
      "this line is longer than 25 characters: 786,787,788,789,790,791,792,793,794,795\n",
      "<class 'str'>\n",
      "this line is longer than 25 characters: 137,138,139,140,141,142,143,144,145,146,147,148,149,150\n",
      "<class 'str'>\n",
      "this line is longer than 25 characters: 81,82,83,84,85,86,87,88,89,90\n",
      "<class 'str'>\n",
      "this line is longer than 25 characters: 256,257,258,259,260,261,262,263,264,265,266,267,268,269,270\n",
      "<class 'str'>\n",
      "this line is longer than 25 characters: 649,650,651,652,653,654,655,656,657,658,659,660\n",
      "<class 'str'>\n",
      "this line is longer than 25 characters: 739,740,741,742,743,744,745,746,747,748,749,750\n",
      "<class 'str'>\n",
      "this line is longer than 25 characters: 395,396,397,398,399,400,401,402,403,404,405\n",
      "<class 'str'>\n",
      "this line is longer than 25 characters: 351,352,353,354,355,356,357,358,359,360\n",
      "<class 'str'>\n",
      "this line is longer than 25 characters: 575,576,577,578,579,580,581,582,583,584,585\n",
      "<class 'str'>\n",
      "this line is longer than 25 characters: 1,2,3,4,5,6,7,8,9,10,11,12,13,14,15\n"
     ]
    }
   ],
   "source": [
    "with open('support/random_numbers.txt') as fileHandler: \n",
    "    for line in fileHandler: \n",
    "        cleanLine = line.strip() \n",
    "        if len(cleanLine) > 25:\n",
    "            print(type(cleanLine))\n",
    "            print(f\"this line is longer than 25 characters: {cleanLine}\") "
   ]
  },
  {
   "cell_type": "markdown",
   "metadata": {},
   "source": [
    "Your search for content needs to be aware of the fact that lines read in from a file are always read in as a string. Therefore, if you expect numbers, you will need to take the necessary steps to convert the content into a numeric form. The code above checks the length of the line to verify it is longer than 10 characters. If we wanted to convert the line to a list and then check for lines with more than 10 items, we would do this: "
   ]
  },
  {
   "cell_type": "code",
   "execution_count": 22,
   "metadata": {},
   "outputs": [
    {
     "name": "stdout",
     "output_type": "stream",
     "text": [
      "<class 'list'>\n",
      "this line has more than 10 elements: ['646', '647', '648', '649', '650', '651', '652', '653', '654', '655', '656', '657', '658', '659', '660']\n",
      "<class 'list'>\n",
      "this line has more than 10 elements: ['31', '32', '33', '34', '35', '36', '37', '38', '39', '40', '41', '42', '43', '44', '45']\n",
      "<class 'list'>\n",
      "this line has more than 10 elements: ['169', '170', '171', '172', '173', '174', '175', '176', '177', '178', '179', '180']\n",
      "<class 'list'>\n",
      "this line has more than 10 elements: ['455', '456', '457', '458', '459', '460', '461', '462', '463', '464', '465']\n",
      "<class 'list'>\n",
      "this line has more than 10 elements: ['241', '242', '243', '244', '245', '246', '247', '248', '249', '250', '251', '252', '253', '254', '255']\n",
      "<class 'list'>\n",
      "this line has more than 10 elements: ['137', '138', '139', '140', '141', '142', '143', '144', '145', '146', '147', '148', '149', '150']\n",
      "<class 'list'>\n",
      "this line has more than 10 elements: ['256', '257', '258', '259', '260', '261', '262', '263', '264', '265', '266', '267', '268', '269', '270']\n",
      "<class 'list'>\n",
      "this line has more than 10 elements: ['649', '650', '651', '652', '653', '654', '655', '656', '657', '658', '659', '660']\n",
      "<class 'list'>\n",
      "this line has more than 10 elements: ['739', '740', '741', '742', '743', '744', '745', '746', '747', '748', '749', '750']\n",
      "<class 'list'>\n",
      "this line has more than 10 elements: ['395', '396', '397', '398', '399', '400', '401', '402', '403', '404', '405']\n",
      "<class 'list'>\n",
      "this line has more than 10 elements: ['575', '576', '577', '578', '579', '580', '581', '582', '583', '584', '585']\n",
      "<class 'list'>\n",
      "this line has more than 10 elements: ['1', '2', '3', '4', '5', '6', '7', '8', '9', '10', '11', '12', '13', '14', '15']\n"
     ]
    }
   ],
   "source": [
    "with open('support/random_numbers.txt') as fileHandler: \n",
    "    for line in fileHandler: \n",
    "        cleanLine = line.strip() \n",
    "        numList = cleanLine.split(\",\") \n",
    "        if len(numList) > 10: \n",
    "            print(type(numList))\n",
    "            print(f\"this line has more than 10 elements: {numList}\") "
   ]
  },
  {
   "cell_type": "markdown",
   "metadata": {},
   "source": [
    "Because we are going line by line, we may need to aggregate content from different areas in the file. If we wanted to collect all the numbers greater than 500 in to a list, we would do the following:  "
   ]
  },
  {
   "cell_type": "code",
   "execution_count": 23,
   "metadata": {},
   "outputs": [
    {
     "name": "stdout",
     "output_type": "stream",
     "text": [
      "[926, 927, 928, 929, 930, 646, 647, 648, 649, 650, 651, 652, 653, 654, 655, 656, 657, 658, 659, 660, 883, 884, 885, 786, 787, 788, 789, 790, 791, 792, 793, 794, 795, 912, 913, 914, 915, 649, 650, 651, 652, 653, 654, 655, 656, 657, 658, 659, 660, 825, 739, 740, 741, 742, 743, 744, 745, 746, 747, 748, 749, 750, 805, 806, 807, 808, 809, 810, 575, 576, 577, 578, 579, 580, 581, 582, 583, 584, 585]\n"
     ]
    }
   ],
   "source": [
    "bigNumList = [] \n",
    "with open('support/random_numbers.txt') as fileHandler: \n",
    "    for line in fileHandler: \n",
    "        cleanLine = line.strip() \n",
    "        numList = cleanLine.split(\",\") \n",
    "        for num in numList: \n",
    "            if int(num) > 500: \n",
    "                bigNumList.append(int(num))\n",
    "\n",
    "print(bigNumList) "
   ]
  },
  {
   "cell_type": "markdown",
   "metadata": {},
   "source": [
    "## Writing a file\n",
    "Any time our application processes data, we will probably want to save the results in some format. To save them as a text file, we would simply use the write() method of our file handler to send data to our file just as we would use the print() function to send data to the console. "
   ]
  },
  {
   "cell_type": "code",
   "execution_count": 24,
   "metadata": {},
   "outputs": [],
   "source": [
    "with open('support/big_numbers.txt', 'w') as fileHandler: \n",
    "    for bigNum in bigNumList: \n",
    "        fileHandler.write(str(bigNum) + \"\\n\") "
   ]
  },
  {
   "cell_type": "markdown",
   "metadata": {},
   "source": [
    "In the code above, we create a file handler using the ‘w’ option which tells the operating system to open the file for the purpose of writing data to it. Be careful with the ‘w’ option because it will erase the content of the file if the file already exists. Otherwise, it will create the file. Also note the use of the str() method when writing to our file. Python can only write strings so any attempt to write an integer will result in a type conflict error. Finally, I append the newline character to the end of each line. This forces each number to a newline in our file. Without this character, all of the numbers would have appeared on the same line. \n",
    "# Exercise\n",
    "Write code to scan random_numbers.txt for lines with more than four or more 7's (you can use the .count('7') method on strings to count the occurrance of characters). "
   ]
  },
  {
   "cell_type": "code",
   "execution_count": 1,
   "metadata": {},
   "outputs": [],
   "source": [
    "# Step 1...\n",
    "\n",
    "# Step 2..."
   ]
  }
 ],
 "metadata": {
  "kernelspec": {
   "display_name": "Python 3",
   "language": "python",
   "name": "python3"
  },
  "language_info": {
   "codemirror_mode": {
    "name": "ipython",
    "version": 3
   },
   "file_extension": ".py",
   "mimetype": "text/x-python",
   "name": "python",
   "nbconvert_exporter": "python",
   "pygments_lexer": "ipython3",
   "version": "3.8.5"
  },
  "toc": {
   "base_numbering": 1,
   "nav_menu": {},
   "number_sections": true,
   "sideBar": true,
   "skip_h1_title": false,
   "title_cell": "Table of Contents",
   "title_sidebar": "Contents",
   "toc_cell": false,
   "toc_position": {},
   "toc_section_display": true,
   "toc_window_display": true
  }
 },
 "nbformat": 4,
 "nbformat_minor": 4
}
