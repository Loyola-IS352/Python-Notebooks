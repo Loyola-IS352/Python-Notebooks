{
 "cells": [
  {
   "cell_type": "markdown",
   "metadata": {},
   "source": [
    "# Introduction\n",
    "In this section, we will turn our attention to the dictionary data structure. The dictionary is an extremely flexible data structure, but it is also quite complex and can be difficult to understand. We will start by looking at similarities and differences between lists and dictionaries. As with lists, we will cover issues related to accessing and modifying dictionaries. We conclude with a discussion of example uses for dictionaries.  \n",
    "\n",
    "# Dictionaries\n",
    "Like lists, a collection of values. However, in a list, the elements are organized as a sequence of elements. In a dictionary they are organized as a collection of related data elements. This means that there is no order to a dictionary in the way that list elements are ordered. Like a list, dictionaries can include characters, numbers, strings or even other lists/dictionaries. \n",
    "\n",
    "Dictionaries can be thought of as similar in purpose and function as a typical english dictionary. Consider the following entry:\n",
    "<br><img src=\"http://thislondonhouse.hopto.org/Jupyter/Images/10-Dictionaries-01.png\" /><br>\n",
    "Presumably, 'python' is an entry in a word dictionary. This entry has other associated data elements such as definitions (a list of definitions), parts of speech (a list of parts of speech), language of origin, phonetic spelling, pronunciation, etc. Each element has its own value(s). So, when we think about a word dictionary, we know it has a hierarchical structure. The dictionary datatype allows us to creat similar structures within our python applications."
   ]
  },
  {
   "cell_type": "code",
   "execution_count": 2,
   "metadata": {},
   "outputs": [],
   "source": [
    "myList = ['whether','I','shall','turn','out','to','be','the','hero','of','my','own','life','or','whether','that','station','will','be','held','by','anybody','else','these','pages','must','show'] \n",
    "myDict = {'whether','I','shall','turn','out','to','be','the','hero','of','my','own','life','or','whether','that','station','will','be','held','by','anybody','else','these','pages','must','show'} \n",
    "emptyDict = {} "
   ]
  },
  {
   "cell_type": "code",
   "execution_count": 3,
   "metadata": {},
   "outputs": [
    {
     "name": "stdout",
     "output_type": "stream",
     "text": [
      "['whether', 'I', 'shall', 'turn', 'out', 'to', 'be', 'the', 'hero', 'of', 'my', 'own', 'life', 'or', 'whether', 'that', 'station', 'will', 'be', 'held', 'by', 'anybody', 'else', 'these', 'pages', 'must', 'show']\n",
      "<class 'list'>\n",
      "27\n"
     ]
    }
   ],
   "source": [
    "print(myList)\n",
    "print(type(myList))\n",
    "print(len(myList))"
   ]
  },
  {
   "cell_type": "code",
   "execution_count": 4,
   "metadata": {},
   "outputs": [
    {
     "name": "stdout",
     "output_type": "stream",
     "text": [
      "{'of', 'will', 'turn', 'that', 'show', 'whether', 'my', 'shall', 'own', 'station', 'hero', 'by', 'anybody', 'be', 'pages', 'life', 'I', 'else', 'must', 'held', 'these', 'the', 'or', 'to', 'out'}\n",
      "<class 'set'>\n",
      "25\n"
     ]
    }
   ],
   "source": [
    "print(myDict)\n",
    "print(type(myDict))\n",
    "print(len(myDict))"
   ]
  },
  {
   "cell_type": "code",
   "execution_count": 5,
   "metadata": {},
   "outputs": [
    {
     "name": "stdout",
     "output_type": "stream",
     "text": [
      "whether\n"
     ]
    }
   ],
   "source": [
    "print(myList[0])"
   ]
  },
  {
   "cell_type": "code",
   "execution_count": 6,
   "metadata": {},
   "outputs": [
    {
     "ename": "TypeError",
     "evalue": "'set' object is not subscriptable",
     "output_type": "error",
     "traceback": [
      "\u001b[0;31m---------------------------------------------------------------------------\u001b[0m",
      "\u001b[0;31mTypeError\u001b[0m                                 Traceback (most recent call last)",
      "\u001b[0;32m<ipython-input-6-b6f1a4cd721a>\u001b[0m in \u001b[0;36m<module>\u001b[0;34m\u001b[0m\n\u001b[0;32m----> 1\u001b[0;31m \u001b[0mprint\u001b[0m\u001b[0;34m(\u001b[0m\u001b[0mmyDict\u001b[0m\u001b[0;34m[\u001b[0m\u001b[0;34m'whether'\u001b[0m\u001b[0;34m]\u001b[0m\u001b[0;34m)\u001b[0m\u001b[0;34m\u001b[0m\u001b[0m\n\u001b[0m",
      "\u001b[0;31mTypeError\u001b[0m: 'set' object is not subscriptable"
     ]
    }
   ],
   "source": [
    "print(myDict['whether'])"
   ]
  },
  {
   "cell_type": "code",
   "execution_count": 7,
   "metadata": {},
   "outputs": [
    {
     "name": "stdout",
     "output_type": "stream",
     "text": [
      "whether\n",
      "I\n",
      "shall\n",
      "turn\n",
      "out\n",
      "to\n",
      "be\n",
      "the\n",
      "hero\n",
      "of\n",
      "my\n",
      "own\n",
      "life\n",
      "or\n",
      "whether\n",
      "that\n",
      "station\n",
      "will\n",
      "be\n",
      "held\n",
      "by\n",
      "anybody\n",
      "else\n",
      "these\n",
      "pages\n",
      "must\n",
      "show\n"
     ]
    }
   ],
   "source": [
    "for item in myList:\n",
    "    print(item)"
   ]
  },
  {
   "cell_type": "code",
   "execution_count": 8,
   "metadata": {},
   "outputs": [
    {
     "name": "stdout",
     "output_type": "stream",
     "text": [
      "of\n",
      "will\n",
      "turn\n",
      "that\n",
      "show\n",
      "whether\n",
      "my\n",
      "shall\n",
      "own\n",
      "station\n",
      "hero\n",
      "by\n",
      "anybody\n",
      "be\n",
      "pages\n",
      "life\n",
      "I\n",
      "else\n",
      "must\n",
      "held\n",
      "these\n",
      "the\n",
      "or\n",
      "to\n",
      "out\n"
     ]
    }
   ],
   "source": [
    "for item in myDict:\n",
    "    print(item)"
   ]
  },
  {
   "cell_type": "markdown",
   "metadata": {},
   "source": [
    "These examples show how dictionaries and lists are related and how they are different. The first variable is a list of words, the second variable is a dictionary of words. While this obscures the value of dictionaries, it illustrates how dictionaries and lists are similar. What sets dictionaries apart from lists is the flexibility afforded by organizing elements by keys instead of by position. For example, in a list, elements are ordered and you need to know the position of an element to be able to access the value stored in that position. In dictionaries, values are stored by a key value. Consider the following values: "
   ]
  },
  {
   "cell_type": "code",
   "execution_count": 9,
   "metadata": {},
   "outputs": [],
   "source": [
    "aList = ['Charles Dickens', 'm', 58, [1812, 1870]] \n",
    "aDict = {'name':'Charles Dickens', 'gender':'m', 'age':58, 'life_range':[1812, 1870]} "
   ]
  },
  {
   "cell_type": "code",
   "execution_count": 10,
   "metadata": {},
   "outputs": [
    {
     "name": "stdout",
     "output_type": "stream",
     "text": [
      "4\n",
      "4\n"
     ]
    }
   ],
   "source": [
    "print(len(aList))\n",
    "print(len(aDict))"
   ]
  },
  {
   "cell_type": "code",
   "execution_count": 11,
   "metadata": {},
   "outputs": [
    {
     "name": "stdout",
     "output_type": "stream",
     "text": [
      "58\n"
     ]
    }
   ],
   "source": [
    "print(aList[2])"
   ]
  },
  {
   "cell_type": "code",
   "execution_count": 12,
   "metadata": {},
   "outputs": [
    {
     "name": "stdout",
     "output_type": "stream",
     "text": [
      "58\n"
     ]
    }
   ],
   "source": [
    "print(aDict['age'])"
   ]
  },
  {
   "cell_type": "markdown",
   "metadata": {},
   "source": [
    "In the first example, the elements are simply stored in an ordered list and you need to know the position of each element to access it. If the list changes, your application will have to keep track of these changes so that it doesn’t lose access to values. In the second example, the values are stored in a contextual list. Regardless of how the dictionary changes over time, you will always be able to access the value of the author’s name by referring to the ‘name’ key. \n",
    "\n",
    "## Accessing Dictionaries \n",
    "\n",
    "### Referencing\n",
    "To access a specific element in a list, you use the bracket notation. You use the same notation for dicationaries, but dictionaries are unordered which means that the index position of an element is meaningless. Instead of using an index to reference a value, you use a key. "
   ]
  },
  {
   "cell_type": "code",
   "execution_count": 13,
   "metadata": {},
   "outputs": [
    {
     "name": "stdout",
     "output_type": "stream",
     "text": [
      "Charles Dickens\n"
     ]
    }
   ],
   "source": [
    "print(aList[0]) "
   ]
  },
  {
   "cell_type": "code",
   "execution_count": 14,
   "metadata": {},
   "outputs": [
    {
     "name": "stdout",
     "output_type": "stream",
     "text": [
      "Charles Dickens died in 1870 at age 58\n"
     ]
    }
   ],
   "source": [
    "print(aList[0] + \" died in \" + str(aList[3][1]) + \" at age \" + str(aList[2])) "
   ]
  },
  {
   "cell_type": "code",
   "execution_count": 15,
   "metadata": {},
   "outputs": [
    {
     "name": "stdout",
     "output_type": "stream",
     "text": [
      "Charles Dickens\n"
     ]
    }
   ],
   "source": [
    "print(aDict['name']) "
   ]
  },
  {
   "cell_type": "code",
   "execution_count": 17,
   "metadata": {},
   "outputs": [
    {
     "name": "stdout",
     "output_type": "stream",
     "text": [
      "Charles Dickens died in 1870 at age 58\n"
     ]
    }
   ],
   "source": [
    "print(aDict['name'] + \" died in \" + str(aDict['life_range'][1]) + \" at age \" + str(aDict['age'])) "
   ]
  },
  {
   "cell_type": "markdown",
   "metadata": {},
   "source": [
    "The first line prints the first element in the list. The second line prints the element that is associated with the ‘name’ key. The values are the same but the means of accessing the values differs.  \n",
    "\n",
    "### Traversing\n",
    "When traversing a list, the pointer starts at the first item and retrieves each item in order. When traversing a dictionary, the pointer starts at the first key and traverses each key."
   ]
  },
  {
   "cell_type": "code",
   "execution_count": 18,
   "metadata": {},
   "outputs": [
    {
     "name": "stdout",
     "output_type": "stream",
     "text": [
      "Item [0]: Charles Dickens\n",
      "Item [1]: m\n",
      "Item [2]: 58\n",
      "Item [3]: [1812, 1870]\n"
     ]
    }
   ],
   "source": [
    "for aItem in aList: \n",
    "    print(\"Item [\" + str(aList.index(aItem)) + \"]: \" + str(aItem)) "
   ]
  },
  {
   "cell_type": "code",
   "execution_count": 19,
   "metadata": {},
   "outputs": [
    {
     "name": "stdout",
     "output_type": "stream",
     "text": [
      "Item ['life_range']: [1812, 1870]\n",
      "Item ['age']: 58\n",
      "Item ['name']: Charles Dickens\n",
      "Item ['gender']: m\n"
     ]
    }
   ],
   "source": [
    "for aKey in aDict: \n",
    "    print(\"Item ['\" + str(aKey) + \"']: \" + str(aDict[aKey]))"
   ]
  },
  {
   "cell_type": "code",
   "execution_count": 20,
   "metadata": {},
   "outputs": [
    {
     "name": "stdout",
     "output_type": "stream",
     "text": [
      "Item ['life_range']: [1812, 1870]\n",
      "Item ['age']: 58\n",
      "Item ['name']: Charles Dickens\n",
      "Item ['gender']: m\n"
     ]
    }
   ],
   "source": [
    "for aKey, aValue in aDict.items():\n",
    "    print(\"Item ['\" + str(aKey) + \"']: \" + str(aValue))"
   ]
  },
  {
   "cell_type": "markdown",
   "metadata": {},
   "source": [
    "In the first loop, python loops through each element and sets the variable aItem equal to the current element in the list. In the second loop, python loops through each key and sets the aKey variable equal to the value of the key. Elements in the dictionary are then accessible via the retrieved key. \n",
    "\n",
    "## Modifying Dictionaries\n",
    "Dictionaries are malleable in many of the same ways that lists are malleable. You can add and delete items. Many of the methods associated with lists are available to dictionaries as well. \n",
    "\n",
    "### Adding Elements\n",
    "When adding elements to a dictionary,  you start by adding a key. Because dictionaries are unordered, it doesn’t make sense to add an element without an associated key.  \n"
   ]
  },
  {
   "cell_type": "code",
   "execution_count": 34,
   "metadata": {},
   "outputs": [
    {
     "name": "stdout",
     "output_type": "stream",
     "text": [
      "{'novels': ['Great Expectations', 'David Copperfiled', 'Tale of Two Cities', 'Bleak House'], 'name': 'Charles Dickens', 'occupation': 'authors', 'age': 58, 'life_range': [1812, 1870], 'nationality': 'English', 'gender': 'm'}\n"
     ]
    }
   ],
   "source": [
    "print(aDict)"
   ]
  },
  {
   "cell_type": "code",
   "execution_count": 25,
   "metadata": {},
   "outputs": [],
   "source": [
    "aDict['occupation'] = 'authors' "
   ]
  },
  {
   "cell_type": "code",
   "execution_count": 29,
   "metadata": {},
   "outputs": [
    {
     "data": {
      "text/plain": [
       "'English'"
      ]
     },
     "execution_count": 29,
     "metadata": {},
     "output_type": "execute_result"
    }
   ],
   "source": [
    "aDict.setdefault('nationality', 'British') "
   ]
  },
  {
   "cell_type": "code",
   "execution_count": 31,
   "metadata": {},
   "outputs": [],
   "source": [
    "novelsList = [\"Great Expectations\", \"David Copperfiled\", \"Tale of Two Cities\"] \n",
    "aDict['novels'] = novelsList "
   ]
  },
  {
   "cell_type": "markdown",
   "metadata": {},
   "source": [
    "As with lists, you can add strings, numbers, lists or even other dictionaries. The .setdefault() method creates a new key and gives it an initial value. It can be useful to use if you are unsure whether a key exists. If it doesn’t exist, .setdefault() will create it with an initial value. If it does exist it will leave the key and its value alone. \n",
    "\n",
    "When referencing elements in a dictionary, you can edit those elements just as if they were individual variables. "
   ]
  },
  {
   "cell_type": "code",
   "execution_count": 33,
   "metadata": {},
   "outputs": [],
   "source": [
    "aDict['novels'].append(\"Bleak House\") "
   ]
  },
  {
   "cell_type": "code",
   "execution_count": 35,
   "metadata": {},
   "outputs": [
    {
     "name": "stdout",
     "output_type": "stream",
     "text": [
      "['Great Expectations', 'David Copperfiled', 'Tale of Two Cities', 'Bleak House']\n"
     ]
    }
   ],
   "source": [
    "print(aDict['novels'])"
   ]
  },
  {
   "cell_type": "code",
   "execution_count": 36,
   "metadata": {},
   "outputs": [
    {
     "name": "stdout",
     "output_type": "stream",
     "text": [
      "4\n"
     ]
    }
   ],
   "source": [
    "print(len(aDict['novels']))"
   ]
  },
  {
   "cell_type": "code",
   "execution_count": 37,
   "metadata": {},
   "outputs": [
    {
     "name": "stdout",
     "output_type": "stream",
     "text": [
      "2\n"
     ]
    }
   ],
   "source": [
    "print(aDict['novels'].index('Tale of Two Cities'))"
   ]
  },
  {
   "cell_type": "code",
   "execution_count": 38,
   "metadata": {},
   "outputs": [
    {
     "name": "stdout",
     "output_type": "stream",
     "text": [
      "Bleak House\n"
     ]
    }
   ],
   "source": [
    "print(aDict['novels'][3])"
   ]
  },
  {
   "cell_type": "code",
   "execution_count": 40,
   "metadata": {},
   "outputs": [
    {
     "name": "stdout",
     "output_type": "stream",
     "text": [
      "dict_keys(['Charles Dickens', 'George Eliot', 'Jane Austen'])\n"
     ]
    }
   ],
   "source": [
    "authorDict = {'Charles Dickens':{'gender':'m', 'age':58, 'life_range':[1812, 1870], 'novels':[\"Great Expectations\", \"David Copperfiled\"]}}\n",
    "authorDict['Jane Austen'] = {'gender':'f', 'age':41, 'life_range':[1787, 1817], 'novels':['Pride and Prejudice', 'Emma']}\n",
    "authorDict['George Eliot'] = {'gender':'f', 'age':61, 'life_range':[1819, 1880], 'novels':['Middlemarch']}\n",
    "print(authorDict.keys())"
   ]
  },
  {
   "cell_type": "code",
   "execution_count": 41,
   "metadata": {},
   "outputs": [
    {
     "name": "stdout",
     "output_type": "stream",
     "text": [
      "f\n"
     ]
    }
   ],
   "source": [
    "print(authorDict['George Eliot']['gender'])"
   ]
  },
  {
   "cell_type": "markdown",
   "metadata": {},
   "source": [
    "**Note:** Keys in a dictionary must be unique. The example above assumes that there would never be another author with the same name in our data structure. This is likely, but not guaranteed. The example above should only serve as an example and not a best practice. In situations where you are storing multiple collections of like data, it is better to use a list structure where each record is appended to the list as in the example below."
   ]
  },
  {
   "cell_type": "code",
   "execution_count": 42,
   "metadata": {},
   "outputs": [],
   "source": [
    "authorList = []\n",
    "authorList.append({'name':'Charles Dickens', 'gender':'m', 'age':58, 'life_range':[1812, 1870], 'novels':[\"Great Expectations\", \"David Copperfiled\"]})\n",
    "authorList.append({'name':'Jane Austen', 'gender':'f', 'age':41, 'life_range':[1787, 1817], 'novels':['Pride and Prejudice', 'Emma']})\n",
    "authorList.append({'name':'George Eliot', 'gender':'f', 'age':61, 'life_range':[1819, 1880], 'novels':['Middlemarch']})"
   ]
  },
  {
   "cell_type": "markdown",
   "metadata": {},
   "source": [
    "In this code, dictionaries representing data about each author are appended to a list. This ensures that keys are not duplicated and that all data associated with each author are stored in a dictionary."
   ]
  },
  {
   "cell_type": "code",
   "execution_count": 43,
   "metadata": {},
   "outputs": [
    {
     "name": "stdout",
     "output_type": "stream",
     "text": [
      "Charles Dickens \t m \t 58 \t [1812, 1870] \t ['Great Expectations', 'David Copperfiled']\n",
      "Jane Austen \t f \t 41 \t [1787, 1817] \t ['Pride and Prejudice', 'Emma']\n",
      "George Eliot \t f \t 61 \t [1819, 1880] \t ['Middlemarch']\n"
     ]
    }
   ],
   "source": [
    "for author in authorList:\n",
    "    print(author['name'], \"\\t\", author['gender'], \"\\t\", author['age'], \"\\t\", author['life_range'], \"\\t\", author['novels'])"
   ]
  },
  {
   "cell_type": "markdown",
   "metadata": {},
   "source": [
    "### Deleting Elements\n",
    "In dictionaries, elements are deleted when keys are deleted. The .pop method accepts a key value as input and it searches for the key and deletes the reference to it. "
   ]
  },
  {
   "cell_type": "code",
   "execution_count": 44,
   "metadata": {},
   "outputs": [
    {
     "name": "stdout",
     "output_type": "stream",
     "text": [
      "Charles Dickens died in 1870 at age 58\n",
      "Charles Dickens died in 1870 at age 58\n"
     ]
    }
   ],
   "source": [
    "print(aList[0] + \" died in \" + str(aList[3][1]) + \" at age \" + str(aList[2]))\n",
    "print(aDict['name'] + \" died in \" + str(aDict['life_range'][1]) + \" at age \" + str(aDict['age']))"
   ]
  },
  {
   "cell_type": "code",
   "execution_count": 45,
   "metadata": {},
   "outputs": [
    {
     "ename": "IndexError",
     "evalue": "list index out of range",
     "output_type": "error",
     "traceback": [
      "\u001b[0;31m---------------------------------------------------------------------------\u001b[0m",
      "\u001b[0;31mIndexError\u001b[0m                                Traceback (most recent call last)",
      "\u001b[0;32m<ipython-input-45-0447fc427bf3>\u001b[0m in \u001b[0;36m<module>\u001b[0;34m\u001b[0m\n\u001b[1;32m      1\u001b[0m \u001b[0maList\u001b[0m\u001b[0;34m.\u001b[0m\u001b[0mpop\u001b[0m\u001b[0;34m(\u001b[0m\u001b[0;36m1\u001b[0m\u001b[0;34m)\u001b[0m\u001b[0;34m\u001b[0m\u001b[0m\n\u001b[0;32m----> 2\u001b[0;31m \u001b[0mprint\u001b[0m\u001b[0;34m(\u001b[0m\u001b[0maList\u001b[0m\u001b[0;34m[\u001b[0m\u001b[0;36m0\u001b[0m\u001b[0;34m]\u001b[0m \u001b[0;34m+\u001b[0m \u001b[0;34m\" died in \"\u001b[0m \u001b[0;34m+\u001b[0m \u001b[0mstr\u001b[0m\u001b[0;34m(\u001b[0m\u001b[0maList\u001b[0m\u001b[0;34m[\u001b[0m\u001b[0;36m3\u001b[0m\u001b[0;34m]\u001b[0m\u001b[0;34m[\u001b[0m\u001b[0;36m1\u001b[0m\u001b[0;34m]\u001b[0m\u001b[0;34m)\u001b[0m \u001b[0;34m+\u001b[0m \u001b[0;34m\" at age \"\u001b[0m \u001b[0;34m+\u001b[0m \u001b[0mstr\u001b[0m\u001b[0;34m(\u001b[0m\u001b[0maList\u001b[0m\u001b[0;34m[\u001b[0m\u001b[0;36m2\u001b[0m\u001b[0;34m]\u001b[0m\u001b[0;34m)\u001b[0m\u001b[0;34m)\u001b[0m\u001b[0;34m\u001b[0m\u001b[0m\n\u001b[0m",
      "\u001b[0;31mIndexError\u001b[0m: list index out of range"
     ]
    }
   ],
   "source": [
    "aList.pop(1) \n",
    "print(aList[0] + \" died in \" + str(aList[3][1]) + \" at age \" + str(aList[2]))"
   ]
  },
  {
   "cell_type": "code",
   "execution_count": 46,
   "metadata": {},
   "outputs": [
    {
     "name": "stdout",
     "output_type": "stream",
     "text": [
      "Charles Dickens died in 1870 at age 58\n"
     ]
    }
   ],
   "source": [
    "aDict.pop('gender') \n",
    "print(aDict['name'] + \" died in \" + str(aDict['life_range'][1]) + \" at age \" + str(aDict['age']))"
   ]
  },
  {
   "cell_type": "markdown",
   "metadata": {},
   "source": [
    "The code above illustrates an advantage of dictionaries. Because the dictionary is unordered, changes to the contents of a dictionary do not affect the ways in which you reference other elements in the data structure. \n",
    "\n",
    "### Dictionary Methods\n",
    "Dictionaries share most of their methods with lists, but there are two useful methods that are unique to dictionaries: .keys() and .values(). The .keys() method returns a list of all keys in the dictionary. This method is not recursive (meaning it won’t return the keys of a dictionary inside a dictionary), and will only show the keys of the elements at the root level of the specified dictionary. "
   ]
  },
  {
   "cell_type": "code",
   "execution_count": 48,
   "metadata": {},
   "outputs": [
    {
     "name": "stdout",
     "output_type": "stream",
     "text": [
      "dict_keys(['Charles Dickens', 'George Eliot', 'Jane Austen'])\n"
     ]
    }
   ],
   "source": [
    "print(authorDict.keys()) "
   ]
  },
  {
   "cell_type": "code",
   "execution_count": 49,
   "metadata": {},
   "outputs": [
    {
     "name": "stdout",
     "output_type": "stream",
     "text": [
      "True\n"
     ]
    }
   ],
   "source": [
    "if 'Charles Dickens' in authorDict.keys(): \n",
    "    print(True) \n",
    "else: \n",
    "    print(False) "
   ]
  },
  {
   "cell_type": "markdown",
   "metadata": {},
   "source": [
    "The .keys() method is particularly useful because, as discussed above, referencing a key that does not exist will raise an exception in your code. Therefore, the .setdefault() and .keys() methods both provide a mechanism for verifying the existence of keys without causing an error. \n",
    "\n",
    "Similarly, the .values() method returns a list of all values represented in the dictionary. This will return all values in the dictionary including those in subdictionaries, but all lower-level data elements will maintain their structure. "
   ]
  },
  {
   "cell_type": "code",
   "execution_count": 50,
   "metadata": {},
   "outputs": [
    {
     "name": "stdout",
     "output_type": "stream",
     "text": [
      "dict_values([{'life_range': [1812, 1870], 'novels': ['Great Expectations', 'David Copperfiled'], 'gender': 'm', 'age': 58}, {'life_range': [1819, 1880], 'novels': ['Middlemarch'], 'gender': 'f', 'age': 61}, {'life_range': [1787, 1817], 'novels': ['Pride and Prejudice', 'Emma'], 'gender': 'f', 'age': 41}])\n"
     ]
    }
   ],
   "source": [
    "print(authorDict.values()) "
   ]
  },
  {
   "cell_type": "code",
   "execution_count": 51,
   "metadata": {},
   "outputs": [
    {
     "name": "stdout",
     "output_type": "stream",
     "text": [
      "False\n",
      "3\n"
     ]
    }
   ],
   "source": [
    "if 'f' in authorDict.values(): \n",
    "    print(True) \n",
    "else: \n",
    "    print(False) \n",
    "print(len(authorDict.values()))"
   ]
  },
  {
   "cell_type": "markdown",
   "metadata": {},
   "source": [
    "If we wanted to traverse our dictionary and look for entries that have specific values, we could use the .items() method which returns an iteratble tuple containing the key-value pairs for each entry in the dictionary. See the code below:"
   ]
  },
  {
   "cell_type": "code",
   "execution_count": 47,
   "metadata": {},
   "outputs": [
    {
     "name": "stdout",
     "output_type": "stream",
     "text": [
      "George Eliot is female\n",
      "Jane Austen is female\n"
     ]
    }
   ],
   "source": [
    "for author, authorData in authorDict.items():\n",
    "    if authorData['gender'] == 'f':\n",
    "        print(author + ' is female')"
   ]
  },
  {
   "cell_type": "markdown",
   "metadata": {},
   "source": [
    "Another method that may be useful is the .copy() method. When creating dictionaries, you cannot create a copy by creating a new variable and setting that variable equal to your existing dictionary (You can do this, but it creates a referene rather than a copy...which means that any changes made to either dictionary are replicated in the other). To create an independent copy, you will need to use the .copy() method. Consider the following code:"
   ]
  },
  {
   "cell_type": "code",
   "execution_count": 57,
   "metadata": {},
   "outputs": [],
   "source": [
    "aDict = {'name':'Charles Dickens', 'gender':'m', 'age':58, 'life_range':[1812, 1870]} "
   ]
  },
  {
   "cell_type": "code",
   "execution_count": 59,
   "metadata": {},
   "outputs": [],
   "source": [
    "aNewDict = aDict"
   ]
  },
  {
   "cell_type": "code",
   "execution_count": 63,
   "metadata": {},
   "outputs": [
    {
     "name": "stdout",
     "output_type": "stream",
     "text": [
      "{'life_range': [1812, 1870], 'name': 'Charles Dickens', 'gender': 'm', 'age': 58}\n",
      "{'life_range': [1812, 1870], 'name': 'Charles Dickens', 'gender': 'm'}\n"
     ]
    }
   ],
   "source": [
    "print(aNewDict)\n",
    "print(aDict)"
   ]
  },
  {
   "cell_type": "code",
   "execution_count": 62,
   "metadata": {},
   "outputs": [
    {
     "data": {
      "text/plain": [
       "58"
      ]
     },
     "execution_count": 62,
     "metadata": {},
     "output_type": "execute_result"
    }
   ],
   "source": [
    "aDict.pop('age')"
   ]
  },
  {
   "cell_type": "code",
   "execution_count": 61,
   "metadata": {},
   "outputs": [],
   "source": [
    "aNewDict = aDict.copy()"
   ]
  },
  {
   "cell_type": "markdown",
   "metadata": {},
   "source": [
    "### Dictionary Functions\n",
    "As with dictionary methods, many of the functions available to lists are available to dictionaries. The sorted() function accepts a dictionary as input and returns a list of dictionary keys sorted alphabetically. This can be useful in instances where you want to force order on a dictionary (which is unordered by nature)."
   ]
  },
  {
   "cell_type": "code",
   "execution_count": 64,
   "metadata": {},
   "outputs": [
    {
     "name": "stdout",
     "output_type": "stream",
     "text": [
      "['gender', 'life_range', 'name']\n"
     ]
    }
   ],
   "source": [
    "sortedKeys = sorted(aDict)\n",
    "print(sortedKeys)"
   ]
  },
  {
   "cell_type": "markdown",
   "metadata": {},
   "source": [
    "Consider the following example that creates a dictionary of common words. This dictionary is used to keep track of the number of times a common word appears in the string. First the dictionary of common words is initialized with each key representing a common word and the value of the key set to zero (the number of times the word has appeared). The string is split on whitespace to create a list of words and each word is check "
   ]
  },
  {
   "cell_type": "code",
   "execution_count": 65,
   "metadata": {},
   "outputs": [
    {
     "name": "stdout",
     "output_type": "stream",
     "text": [
      "Found 'to' key\n",
      "Found 'be' key\n",
      "Found 'the' key\n",
      "Found 'of' key\n",
      "Found 'or' key\n",
      "Found 'that' key\n",
      "Found 'be' key\n",
      "Found 'the' key\n",
      "Found 'of' key\n",
      "Found 'that' key\n",
      "Found 'and' key\n",
      "Found 'that' key\n",
      "Found 'the' key\n",
      "Found 'to' key\n",
      "Found 'and' key\n",
      "Found 'to' key\n",
      "{'be': 2, 'of': 2, 'the': 3, 'or': 1, 'that': 3, 'to': 3, 'and': 2}\n"
     ]
    }
   ],
   "source": [
    "copperFieldIntro = \"\"\"Whether I shall turn out to be the hero of my own life, or whether that station will be held by anybody else, these pages must show. To begin my life with the beginning of my life, I record that I was born (as I have been informed and believe) on a Friday, at twelve o'clock at night. It was remarked that the clock began to strike, and I began to cry, simultaneously.\"\"\"\n",
    "commonWordDict = {'to':0,'be':0,'the':0,'of':0,'or':0,'that':0,'and':0}\n",
    "for aWord in copperFieldIntro.split():\n",
    "    if aWord in commonWordDict.keys():\n",
    "        print(\"Found '\" + aWord + \"' key\")\n",
    "        commonWordDict[aWord] += 1\n",
    "print(commonWordDict)"
   ]
  },
  {
   "cell_type": "markdown",
   "metadata": {},
   "source": [
    "The next two blocks of codes consider different ways of presenting the data stored in the common words dictionary. In the first block, the keys are sorted alphabetically and used to iterate through the elements in the dictionary. In the second block, the keys are sorted based on their values and this list is then used to iterate through the dicitionary elements."
   ]
  },
  {
   "cell_type": "code",
   "execution_count": 66,
   "metadata": {},
   "outputs": [
    {
     "name": "stdout",
     "output_type": "stream",
     "text": [
      "['and', 'be', 'of', 'or', 'that', 'the', 'to']\n",
      "and 2\n",
      "be 2\n",
      "of 2\n",
      "or 1\n",
      "that 3\n",
      "the 3\n",
      "to 3\n"
     ]
    }
   ],
   "source": [
    "print(sorted(commonWordDict))\n",
    "for word in sorted(commonWordDict):\n",
    "    print(word, commonWordDict[word])"
   ]
  },
  {
   "cell_type": "code",
   "execution_count": 67,
   "metadata": {},
   "outputs": [
    {
     "name": "stdout",
     "output_type": "stream",
     "text": [
      "the 3\n",
      "that 3\n",
      "to 3\n",
      "be 2\n",
      "of 2\n",
      "and 2\n",
      "or 1\n"
     ]
    }
   ],
   "source": [
    "sortedKeys = sorted(commonWordDict, key=commonWordDict.__getitem__, reverse=True)\n",
    "for word in sorted(commonWordDict, key=commonWordDict.__getitem__, reverse=True):\n",
    "    print(word, commonWordDict[word])"
   ]
  },
  {
   "cell_type": "code",
   "execution_count": 68,
   "metadata": {},
   "outputs": [
    {
     "name": "stdout",
     "output_type": "stream",
     "text": [
      "the\n"
     ]
    }
   ],
   "source": [
    "freqWord = \"\"\n",
    "for key, value in commonWordDict.items():\n",
    "    if freqWord == \"\" or commonWordDict[freqWord] < value:\n",
    "        freqWord = key\n",
    "\n",
    "print(freqWord)"
   ]
  },
  {
   "cell_type": "markdown",
   "metadata": {},
   "source": [
    "# Exercise\n",
    "Write code to create an empty dictionary. Add entries for your immediate family. Use their names as keys and let each key contain a dictionary as a value. The nested dictionary should contain keys and values about each member of your family (e.g., age, height, birthday, etc.)."
   ]
  },
  {
   "cell_type": "code",
   "execution_count": null,
   "metadata": {},
   "outputs": [],
   "source": [
    "# Step 1...\n",
    "\n",
    "# Step 2..."
   ]
  }
 ],
 "metadata": {
  "kernelspec": {
   "display_name": "Python 3",
   "language": "python",
   "name": "python3"
  },
  "language_info": {
   "codemirror_mode": {
    "name": "ipython",
    "version": 3
   },
   "file_extension": ".py",
   "mimetype": "text/x-python",
   "name": "python",
   "nbconvert_exporter": "python",
   "pygments_lexer": "ipython3",
   "version": "3.5.2"
  },
  "toc": {
   "base_numbering": 1,
   "nav_menu": {},
   "number_sections": true,
   "sideBar": true,
   "skip_h1_title": false,
   "title_cell": "Table of Contents",
   "title_sidebar": "Contents",
   "toc_cell": false,
   "toc_position": {},
   "toc_section_display": true,
   "toc_window_display": true
  }
 },
 "nbformat": 4,
 "nbformat_minor": 4
}
