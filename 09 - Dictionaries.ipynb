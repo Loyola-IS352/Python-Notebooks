{
  "cells": [
    {
      "metadata": {},
      "cell_type": "markdown",
      "source": "# Dictionaries\nIn this section, start to look at dictionaries and their similarities and differences from lists.  \n\nLike lists, a collection of values. However, in a list, the elements are organized as a sequence of elements. In a dictionary they are organized as a collection of related data elements. This means that there is no order to a dictionary in the way that list elements are ordered. Like a list, dictionaries can include characters, numbers, strings or even other lists/dictionaries. \n\nDictionaries can be thought of as similar in purpose and function as a typical english dictionary. Consider the following entry:\n<img src=\"http://thislondonhouse.hopto.org/Jupyter/Images/10-Dictionaries-01.png\" />\nPresumably, 'python' is an entry in a word dictionary. This entry has other associated data elements such as definitions (a list of definitions), parts of speech (a list of parts of speech), language of origin, phonetic spelling, pronunciation, etc. Each element has its own value(s). So, when we think about a word dictionary, we know it has a hierarchical structure. The dictionary datatype allows us to creat similar structures within our python applications."
    },
    {
      "metadata": {
        "trusted": true
      },
      "cell_type": "code",
      "source": "myList = ['whether','I','shall','turn','out','to','be','the','hero','of','my','own','life','or','whether','that','station','will','be','held','by','anybody','else','these','pages','must','show'] \nmyDict = {'whether','I','shall','turn','out','to','be','the','hero','of','my','own','life','or','whether','that','station','will','be','held','by','anybody','else','these','pages','must','show'} \nemptyDict = {} ",
      "execution_count": null,
      "outputs": []
    },
    {
      "metadata": {
        "trusted": true
      },
      "cell_type": "code",
      "source": "print(myList)\nprint(type(myList))\nprint(len(myList))",
      "execution_count": null,
      "outputs": []
    },
    {
      "metadata": {
        "trusted": true
      },
      "cell_type": "code",
      "source": "print(myDict)\nprint(type(myDict))\nprint(len(myDict))",
      "execution_count": null,
      "outputs": []
    },
    {
      "metadata": {
        "trusted": true
      },
      "cell_type": "code",
      "source": "print(myList[0])",
      "execution_count": null,
      "outputs": []
    },
    {
      "metadata": {
        "trusted": true
      },
      "cell_type": "code",
      "source": "print(myDict['whether'])",
      "execution_count": null,
      "outputs": []
    },
    {
      "metadata": {
        "trusted": true
      },
      "cell_type": "code",
      "source": "for item in myList:\n    print(item)",
      "execution_count": null,
      "outputs": []
    },
    {
      "metadata": {
        "trusted": true
      },
      "cell_type": "code",
      "source": "for item in myDict:\n    print(item)",
      "execution_count": null,
      "outputs": []
    },
    {
      "metadata": {},
      "cell_type": "markdown",
      "source": "These examples show how dictionaries and lists are related and how they are different. The first variable is a list of words, the second variable is a dictionary of words. While this obscures the value of dictionaries, it illustrates how dictionaries and lists are similar. What sets dictionaries apart from lists is the flexibility afforded by organizing elements by keys instead of by position. For example, in a list, elements are ordered and you need to know the position of an element to be able to access the value stored in that position. In dictionaries, values are stored by a key value. Consider the following values: "
    },
    {
      "metadata": {
        "trusted": true
      },
      "cell_type": "code",
      "source": "aList = ['Charles Dickens', 'm', 58, [1812, 1870]] \naDict = {'name':'Charles Dickens', 'gender':'m', 'age':58, 'life_range':[1812, 1870]} ",
      "execution_count": null,
      "outputs": []
    },
    {
      "metadata": {
        "trusted": true
      },
      "cell_type": "code",
      "source": "print(len(aList))\nprint(len(aDict))",
      "execution_count": null,
      "outputs": []
    },
    {
      "metadata": {
        "trusted": true
      },
      "cell_type": "code",
      "source": "print(aList[2])",
      "execution_count": null,
      "outputs": []
    },
    {
      "metadata": {
        "trusted": true
      },
      "cell_type": "code",
      "source": "print(aDict['age'])",
      "execution_count": null,
      "outputs": []
    },
    {
      "metadata": {},
      "cell_type": "markdown",
      "source": "In the first example, the elements are simply stored in an ordered list and you need to know the position of each element to access it. If the list changes, your application will have to keep track of these changes so that it doesn’t lose access to values. In the second example, the values are stored in a contextual list. Regardless of how the dictionary changes over time, you will always be able to access the value of the author’s name by referring to the ‘name’ key. \n\n## Accessing Dictionaries \n\n### Referencing\nTo access a specific element in a list, you use the bracket notation. You use the same notation for dicationaries, but dictionaries are unordered which means that the index position of an element is meaningless. Instead of using an index to reference a value, you use a key. "
    },
    {
      "metadata": {
        "trusted": true
      },
      "cell_type": "code",
      "source": "print(aList[0]) ",
      "execution_count": null,
      "outputs": []
    },
    {
      "metadata": {
        "trusted": true
      },
      "cell_type": "code",
      "source": "print(aList[0] + \" died in \" + str(aList[3][1]) + \" at age \" + str(aList[2])) ",
      "execution_count": null,
      "outputs": []
    },
    {
      "metadata": {
        "trusted": true
      },
      "cell_type": "code",
      "source": "print(aDict['name']) ",
      "execution_count": null,
      "outputs": []
    },
    {
      "metadata": {
        "trusted": true
      },
      "cell_type": "code",
      "source": "print(aDict['name'] + \" died in \" + str(aDict['life_range'][1]) + \" at age \" + str(aDict['age'])) ",
      "execution_count": null,
      "outputs": []
    },
    {
      "metadata": {},
      "cell_type": "markdown",
      "source": "The first line prints the first element in the list. The second line prints the element that is associated with the ‘name’ key. The values are the same but the means of accessing the values differs.  \n\n### Traversing\nWhen traversing a list, the pointer starts at the first item and retrieves each item in order. When traversing a dictionary, the pointer starts at the first key and traverses each key."
    },
    {
      "metadata": {
        "trusted": true
      },
      "cell_type": "code",
      "source": "for aItem in aList: \n    print(\"Item [\" + str(aList.index(aItem)) + \"]: \" + str(aItem)) ",
      "execution_count": null,
      "outputs": []
    },
    {
      "metadata": {
        "trusted": true
      },
      "cell_type": "code",
      "source": "for aKey in aDict: \n    print(\"Item ['\" + str(aKey) + \"']: \" + str(aDict[aKey]))",
      "execution_count": null,
      "outputs": []
    },
    {
      "metadata": {
        "trusted": true
      },
      "cell_type": "code",
      "source": "for aKey, aValue in aDict.items():\n    print(\"Item ['\" + str(aKey) + \"']: \" + str(aValue))",
      "execution_count": null,
      "outputs": []
    },
    {
      "metadata": {},
      "cell_type": "markdown",
      "source": "In the first loop, python loops through each element and sets the variable aItem equal to the current element in the list. In the second loop, python loops through each key and sets the aKey variable equal to the value of the key. Elements in the dictionary are then accessible via the retrieved key. \n\n## Modifying Dictionaries\nDictionaries are malleable in many of the same ways that lists are malleable. You can add and delete items. Many of the methods associated with lists are available to dictionaries as well. \n\n### Adding Elements\nWhen adding elements to a dictionary,  you start by adding a key. Because dictionaries are unordered, it doesn’t make sense to add an element without an associated key.  \n"
    },
    {
      "metadata": {
        "trusted": true
      },
      "cell_type": "code",
      "source": "print(aDict)",
      "execution_count": null,
      "outputs": []
    },
    {
      "metadata": {
        "trusted": true
      },
      "cell_type": "code",
      "source": "aDict['occupation'] = 'author' ",
      "execution_count": null,
      "outputs": []
    },
    {
      "metadata": {
        "trusted": true
      },
      "cell_type": "code",
      "source": "aDict.setdefault('nationality', 'English') ",
      "execution_count": null,
      "outputs": []
    },
    {
      "metadata": {
        "trusted": true
      },
      "cell_type": "code",
      "source": "novelsList = [\"Great Expectations\", \"David Copperfiled\", \"Tale of Two Cities\"] \naDict['novels'] = novelsList ",
      "execution_count": null,
      "outputs": []
    },
    {
      "metadata": {},
      "cell_type": "markdown",
      "source": "As with lists, you can add strings, numbers, lists or even other dictionaries. The .setdefault() method creates a new key and gives it an initial value. It can be useful to use if you are unsure whether a key exists. If it doesn’t exist, .setdefault() will create it with an initial value. If it does exist it will leave the key and its value alone. \n\nWhen referencing elements in a dictionary, you can edit those elements just as if they were individual variables. "
    },
    {
      "metadata": {
        "trusted": true
      },
      "cell_type": "code",
      "source": "aDict['novels'].append(\"Bleak House\") ",
      "execution_count": null,
      "outputs": []
    },
    {
      "metadata": {
        "trusted": true
      },
      "cell_type": "code",
      "source": "print(aDict['novels'])",
      "execution_count": null,
      "outputs": []
    },
    {
      "metadata": {
        "trusted": true
      },
      "cell_type": "code",
      "source": "print(len(aDict['novels']))",
      "execution_count": null,
      "outputs": []
    },
    {
      "metadata": {
        "trusted": true
      },
      "cell_type": "code",
      "source": "print(aDict['novels'].index('Tale of Two Cities'))",
      "execution_count": null,
      "outputs": []
    },
    {
      "metadata": {
        "trusted": true
      },
      "cell_type": "code",
      "source": "print(aDict['novels'][3])",
      "execution_count": null,
      "outputs": []
    },
    {
      "metadata": {
        "trusted": true
      },
      "cell_type": "code",
      "source": "authorDict = {'Charles Dickens':{'gender':'m', 'age':58, 'life_range':[1812, 1870], 'novels':[\"Great Expectations\", \"David Copperfiled\"]}}\nauthorDict['Jane Austen'] = {'gender':'f', 'age':41, 'life_range':[1787, 1817], 'novels':['Pride and Prejudice', 'Emma']}\nauthorDict['George Eliot'] = {'gender':'f', 'age':61, 'life_range':[1819, 1880], 'novels':['Middlemarch']}\nprint(authorDict.keys())",
      "execution_count": null,
      "outputs": []
    },
    {
      "metadata": {
        "trusted": true
      },
      "cell_type": "code",
      "source": "print(authorDict['George Eliot']['gender'])",
      "execution_count": null,
      "outputs": []
    },
    {
      "metadata": {},
      "cell_type": "markdown",
      "source": "### Deleting Elements\nIn dictionaries, elements are deleted when keys are deleted. The .pop method accepts a key value as input and it searches for the key and deletes the reference to it. "
    },
    {
      "metadata": {
        "trusted": true
      },
      "cell_type": "code",
      "source": "print(aList[0] + \" died in \" + str(aList[3][1]) + \" at age \" + str(aList[2]))\nprint(aDict['name'] + \" died in \" + str(aDict['life_range'][1]) + \" at age \" + str(aDict['age']))",
      "execution_count": null,
      "outputs": []
    },
    {
      "metadata": {
        "trusted": true
      },
      "cell_type": "code",
      "source": "aList.pop(1) \nprint(aList[0] + \" died in \" + str(aList[3][1]) + \" at age \" + str(aList[2]))",
      "execution_count": null,
      "outputs": []
    },
    {
      "metadata": {
        "trusted": true
      },
      "cell_type": "code",
      "source": "aDict.pop('gender') \nprint(aDict['name'] + \" died in \" + str(aDict['life_range'][1]) + \" at age \" + str(aDict['age']))",
      "execution_count": null,
      "outputs": []
    },
    {
      "metadata": {},
      "cell_type": "markdown",
      "source": "The code above illustrates an advantage of dictionaries. Because the dictionary is unordered, changes to the contents of a dictionary do not affect the ways in which you reference other elements in the data structure. \n\n### Dictionary Methods\nDictionaries share most of their methods with lists, but there are two useful methods that are unique to dictionaries: .keys() and .values(). The .keys() method returns a list of all keys in the dictionary. This method is not recursive (meaning it won’t return the keys of a dictionary inside a dictionary), and will only show the keys of the elements at the root level of the specified dictionary. "
    },
    {
      "metadata": {
        "trusted": true
      },
      "cell_type": "code",
      "source": "print(authorDict.keys()) \nif 'Charles Dickens' in authorDict.keys(): \n    print(True) \nelse: \n    print(False) ",
      "execution_count": null,
      "outputs": []
    },
    {
      "metadata": {},
      "cell_type": "markdown",
      "source": "The .keys() method is particularly useful because, as discussed above, referencing a key that does not exist will raise an exception in your code. Therefore, the .setdefault() and .keys() methods both provide a mechanism for verifying the existence of keys without causing an error. \n\nSimilarly, the .values() method returns a list of all values represented in the dictionary. This will return all values in the dictionary including those in subdictionaries, but all lower-level data elements will maintain their structure. "
    },
    {
      "metadata": {
        "trusted": true
      },
      "cell_type": "code",
      "source": "print(authorDict.values()) \nif 'f' in authorDict.values(): \n    print(True) \nelse: \n    print(False) \nprint(len(authorDict.values()))",
      "execution_count": null,
      "outputs": []
    },
    {
      "metadata": {},
      "cell_type": "markdown",
      "source": "If we wanted to traverse our dictionary and look for entries that have specific values, we could use the .items() method which returns an iteratble tuple containing the key-value pairs for each entry in the dictionary. See the code below:"
    },
    {
      "metadata": {
        "trusted": true
      },
      "cell_type": "code",
      "source": "for author, authorData in authorDict.items():\n    if authorData['gender'] == 'f':\n        print(author + ' is female')",
      "execution_count": null,
      "outputs": []
    },
    {
      "metadata": {},
      "cell_type": "markdown",
      "source": "Another method that may be useful is the .copy() method. When creating dictionaries, you cannot create a copy by creating a new variable and setting that variable equal to your existing dictionary (You can do this, but it creates a referene rather than a copy...which means that any changes made to either dictionary are replicated in the other). To create an independent copy, you will need to use the .copy() method. Consider the following code:"
    },
    {
      "metadata": {
        "trusted": true
      },
      "cell_type": "code",
      "source": "aDict = {'name':'Charles Dickens', 'gender':'m', 'age':58, 'life_range':[1812, 1870]} ",
      "execution_count": null,
      "outputs": []
    },
    {
      "metadata": {
        "trusted": true
      },
      "cell_type": "code",
      "source": "aNewDict = aDict",
      "execution_count": null,
      "outputs": []
    },
    {
      "metadata": {
        "trusted": true
      },
      "cell_type": "code",
      "source": "print(aNewDict)\nprint(aDict)",
      "execution_count": null,
      "outputs": []
    },
    {
      "metadata": {
        "trusted": true
      },
      "cell_type": "code",
      "source": "aDict.pop('age')",
      "execution_count": null,
      "outputs": []
    },
    {
      "metadata": {
        "trusted": true
      },
      "cell_type": "code",
      "source": "aNewDict = aDict.copy()",
      "execution_count": null,
      "outputs": []
    },
    {
      "metadata": {},
      "cell_type": "markdown",
      "source": "### Dictionary Functions\nAs with dictionary methods, many of the functions available to lists are available to dictionaries. The sorted() function accepts a dictionary as input and returns a list of dictionary keys sorted alphabetically. This can be useful in instances where you want to force order on a dictionary (which is unordered by nature)."
    },
    {
      "metadata": {
        "trusted": true
      },
      "cell_type": "code",
      "source": "sortedKeys = sorted(aDict)\nprint(sortedKeys)",
      "execution_count": null,
      "outputs": []
    },
    {
      "metadata": {},
      "cell_type": "markdown",
      "source": "Consider the following example that creates a dictionary of common words. This dictionary is used to keep track of the number of times a common word appears in the string. First the dictionary of common words is initialized with each key representing a common word and the value of the key set to zero (the number of times the word has appeared). The string is split on whitespace to create a list of words and each word is check "
    },
    {
      "metadata": {
        "trusted": true
      },
      "cell_type": "code",
      "source": "copperFieldIntro = \"\"\"Whether I shall turn out to be the hero of my own life, or whether that\nstation will be held by anybody else, these pages must show. To begin my\nlife with the beginning of my life, I record that I was born (as I have\nbeen informed and believe) on a Friday, at twelve o'clock at night.\nIt was remarked that the clock began to strike, and I began to cry,\nsimultaneously.\"\"\"\ncommonWordDict = {'to':0,'be':0,'the':0,'of':0,'or':0,'that':0,'and':0}\nfor aWord in copperFieldIntro.split():\n    if aWord in commonWordDict.keys():\n        print(\"Found '\" + aWord + \"' key\")\n        commonWordDict[aWord] += 1\nprint(commonWordDict)",
      "execution_count": null,
      "outputs": []
    },
    {
      "metadata": {},
      "cell_type": "markdown",
      "source": "The next two blocks of codes consider different ways of presenting the data stored in the common words dictionary. In the first block, the keys are sorted alphabetically and used to iterate through the elements in the dictionary. In the second block, the keys are sorted based on their values and this list is then used to iterate through the dicitionary elements."
    },
    {
      "metadata": {
        "trusted": true
      },
      "cell_type": "code",
      "source": "print(sorted(commonWordDict))\nfor word in sorted(commonWordDict):\n    print(word, commonWordDict[word])",
      "execution_count": null,
      "outputs": []
    },
    {
      "metadata": {
        "trusted": true
      },
      "cell_type": "code",
      "source": "sortedKeys = sorted(commonWordDict, key=commonWordDict.__getitem__, reverse=True)\nfor word in sorted(commonWordDict, key=commonWordDict.__getitem__, reverse=True):\n    print(word, commonWordDict[word])",
      "execution_count": null,
      "outputs": []
    },
    {
      "metadata": {
        "trusted": true
      },
      "cell_type": "code",
      "source": "freqWord = \"\"\nfor key, value in commonWordDict.items():\n    if freqWord == \"\" or commonWordDict[freqWord] < value:\n        freqWord = key\n\nprint(freqWord)",
      "execution_count": null,
      "outputs": []
    }
  ],
  "metadata": {
    "toc": {
      "nav_menu": {},
      "number_sections": true,
      "sideBar": true,
      "skip_h1_title": false,
      "base_numbering": 1,
      "title_cell": "Table of Contents",
      "title_sidebar": "Contents",
      "toc_cell": false,
      "toc_position": {},
      "toc_section_display": true,
      "toc_window_display": true
    },
    "kernelspec": {
      "name": "python2",
      "display_name": "Python 2",
      "language": "python"
    },
    "language_info": {
      "mimetype": "text/x-python",
      "nbconvert_exporter": "python",
      "name": "python",
      "pygments_lexer": "ipython2",
      "version": "2.7.15",
      "file_extension": ".py",
      "codemirror_mode": {
        "version": 2,
        "name": "ipython"
      }
    }
  },
  "nbformat": 4,
  "nbformat_minor": 2
}