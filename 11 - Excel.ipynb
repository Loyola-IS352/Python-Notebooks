{
  "cells": [
    {
      "metadata": {
        "trusted": false
      },
      "cell_type": "markdown",
      "source": "# Excel\nExcel is perhaps the most popular busies technology. As such, it is immensely useful that we be able to interact with Excel by either extracting data from or importing data to Excel files. To do this, we will be using the openpyxl library. This library will give us direct access to excel files. \n\nTo be effective in our use of the openpyxl library, we need to establish some terminology that is common to Excel: An Excel document is called a workbook. A single workbook is saved in a file with the .xlsx extension. Data in the workbook are stored on worksheets. Each workbook will have one or more sheet (or worksheet). The sheet the user is currently viewing (or last viewed before closing Excel) is called the active sheet. Each sheet is a collection of cells which are arranged in columns and rows. Columns are listed alphabetically such that column ‘A’ is the first column. Rows are arranged numerically such that the first row is number 1. Cells may contain number or text values."
    },
    {
      "metadata": {
        "trusted": true
      },
      "cell_type": "code",
      "source": "!pip install 'openpyxl==2.6.4'",
      "execution_count": 1,
      "outputs": [
        {
          "output_type": "stream",
          "text": "Collecting openpyxl==2.6.4\n\u001b[?25l  Downloading https://files.pythonhosted.org/packages/d6/26/eb28e975b7a37aad38d7ec4f7a0f652bdee6ecf36e6bd06f473c5af9b87b/openpyxl-2.6.4.tar.gz (173kB)\n\u001b[K     |████████████████████████████████| 174kB 2.4MB/s eta 0:00:01\n\u001b[?25hRequirement already satisfied: jdcal in /home/nbuser/anaconda3_420/lib/python3.5/site-packages (from openpyxl==2.6.4) (1.2)\nRequirement already satisfied: et_xmlfile in /home/nbuser/anaconda3_420/lib/python3.5/site-packages (from openpyxl==2.6.4) (1.0.1)\nBuilding wheels for collected packages: openpyxl\n  Building wheel for openpyxl (setup.py) ... \u001b[?25ldone\n\u001b[?25h  Created wheel for openpyxl: filename=openpyxl-2.6.4-py2.py3-none-any.whl size=247352 sha256=d135575a3f64c10ab206beebdad971bcdc05e776d25f0406b3613062950214d8\n  Stored in directory: /home/nbuser/.cache/pip/wheels/58/1d/e3/7c7ee57db55ac00dd5c4632287d8401cdd08ed59c965306f9c\nSuccessfully built openpyxl\nInstalling collected packages: openpyxl\n  Found existing installation: openpyxl 2.3.2\n    Uninstalling openpyxl-2.3.2:\n      Successfully uninstalled openpyxl-2.3.2\nSuccessfully installed openpyxl-2.6.4\n",
          "name": "stdout"
        }
      ]
    },
    {
      "metadata": {},
      "cell_type": "markdown",
      "source": "We start by installing the openpyxl library. The screenshot below illustrates this installation in PyCharm. In the Project \n<img src=\"http://thislondonhouse.hopto.org/Jupyter/Images/11-Excel-01.png\" width=\"50%\" />\nThen search for ‘openpyxl’ and click install package.\n<img src=\"http://thislondonhouse.hopto.org/Jupyter/Images/11-Excel-02.png\" width=\"50%\" />\n\n## Accessing Workbooks\nWe open excel files using the openpyxl.load_workbook() method. This method accepts a string representing the location of an excel file and returns a workbook object. For more information see here: https://openpyxl.readthedocs.io/en/stable/tutorial.html"
    },
    {
      "metadata": {
        "trusted": true
      },
      "cell_type": "code",
      "source": "import openpyxl",
      "execution_count": 2,
      "outputs": []
    },
    {
      "metadata": {
        "trusted": true
      },
      "cell_type": "code",
      "source": "xlsxFile = 'support/censuspopdata.xlsx'\nwb = openpyxl.load_workbook(xlsxFile)",
      "execution_count": null,
      "outputs": []
    },
    {
      "metadata": {},
      "cell_type": "markdown",
      "source": "Alternatively, we can create an empty workbook using the openpyxl.Workbook() method."
    },
    {
      "metadata": {
        "trusted": true
      },
      "cell_type": "code",
      "source": "wbEmpty = openpyxl.Workbook()",
      "execution_count": 3,
      "outputs": []
    },
    {
      "metadata": {},
      "cell_type": "markdown",
      "source": "For the remainder of this session, we will be using the empty workbook and we will populate it with data from the novels.txt file.\n\n## Accessing Worksheets\nWorkbooks are made up of one or more worksheets. Within openpyxl, you can query the number and name of available worksheets. You can also create and delete worksheets. We can access a list of worksheet names by referencing the property .sheetnames. This property provides a list of strings that represent the sheets in the workbook. Because it is a list, it has a length and you can access individual values with index values."
    },
    {
      "metadata": {
        "trusted": true
      },
      "cell_type": "code",
      "source": "type(wbEmpty)",
      "execution_count": 4,
      "outputs": [
        {
          "output_type": "execute_result",
          "execution_count": 4,
          "data": {
            "text/plain": "openpyxl.workbook.workbook.Workbook"
          },
          "metadata": {}
        }
      ]
    },
    {
      "metadata": {
        "trusted": true
      },
      "cell_type": "code",
      "source": "wbEmpty.sheetnames",
      "execution_count": 5,
      "outputs": [
        {
          "output_type": "execute_result",
          "execution_count": 5,
          "data": {
            "text/plain": "['Sheet']"
          },
          "metadata": {}
        }
      ]
    },
    {
      "metadata": {
        "trusted": true
      },
      "cell_type": "code",
      "source": "sheetList = wbEmpty.sheetnames\nprint(len(sheetList))\nprint(sheetList)",
      "execution_count": 18,
      "outputs": [
        {
          "output_type": "stream",
          "text": "2\n['Sheet', 'Top English Novels']\n",
          "name": "stdout"
        }
      ]
    },
    {
      "metadata": {
        "trusted": true
      },
      "cell_type": "code",
      "source": "wbEmpty[sheetList[0]].title",
      "execution_count": 7,
      "outputs": [
        {
          "output_type": "execute_result",
          "execution_count": 7,
          "data": {
            "text/plain": "'Sheet'"
          },
          "metadata": {}
        }
      ]
    },
    {
      "metadata": {
        "trusted": true
      },
      "cell_type": "code",
      "source": "wbEmpty['Sheet'].title",
      "execution_count": 11,
      "outputs": [
        {
          "output_type": "execute_result",
          "execution_count": 11,
          "data": {
            "text/plain": "'Sheet'"
          },
          "metadata": {}
        }
      ]
    },
    {
      "metadata": {
        "trusted": true
      },
      "cell_type": "code",
      "source": "wbEmpty.active.title",
      "execution_count": 8,
      "outputs": [
        {
          "output_type": "execute_result",
          "execution_count": 8,
          "data": {
            "text/plain": "'Sheet'"
          },
          "metadata": {}
        }
      ]
    },
    {
      "metadata": {},
      "cell_type": "markdown",
      "source": "We create sheets using the .create_sheet() method. This method expects a string value which represents the title of the sheet. The method returns a reference to the created worksheet."
    },
    {
      "metadata": {
        "trusted": true
      },
      "cell_type": "code",
      "source": "wbEmpty.create_sheet(\"Top English Novels\")",
      "execution_count": 12,
      "outputs": [
        {
          "output_type": "execute_result",
          "execution_count": 12,
          "data": {
            "text/plain": "<Worksheet \"Top English Novels\">"
          },
          "metadata": {}
        }
      ]
    },
    {
      "metadata": {
        "trusted": true
      },
      "cell_type": "code",
      "source": "ws = wbEmpty.create_sheet(\"Another Sheet\")",
      "execution_count": 13,
      "outputs": []
    },
    {
      "metadata": {
        "trusted": true
      },
      "cell_type": "code",
      "source": "ws.title",
      "execution_count": 16,
      "outputs": [
        {
          "output_type": "execute_result",
          "execution_count": 16,
          "data": {
            "text/plain": "'Another Sheet'"
          },
          "metadata": {}
        }
      ]
    },
    {
      "metadata": {},
      "cell_type": "markdown",
      "source": "We can delete worksheets using the .remove_sheet() method. This method expects as worksheet variable as an input parameter. The worksheet that is passed to this method is then deleted."
    },
    {
      "metadata": {
        "trusted": true
      },
      "cell_type": "code",
      "source": "wbEmpty.remove(ws)",
      "execution_count": 17,
      "outputs": []
    },
    {
      "metadata": {},
      "cell_type": "markdown",
      "source": "Worksheets are referenced using string keys which represent the title of the worksheet. The resulting variable is a worksheet object which has various methods and parameters. "
    },
    {
      "metadata": {
        "trusted": true
      },
      "cell_type": "code",
      "source": "ws = wbEmpty[\"Top English Novels\"]",
      "execution_count": 19,
      "outputs": []
    },
    {
      "metadata": {
        "trusted": true
      },
      "cell_type": "code",
      "source": "ws.title",
      "execution_count": 20,
      "outputs": [
        {
          "output_type": "execute_result",
          "execution_count": 20,
          "data": {
            "text/plain": "'Top English Novels'"
          },
          "metadata": {}
        }
      ]
    },
    {
      "metadata": {
        "trusted": true
      },
      "cell_type": "code",
      "source": "ws.max_row",
      "execution_count": 56,
      "outputs": [
        {
          "output_type": "execute_result",
          "execution_count": 56,
          "data": {
            "text/plain": "1"
          },
          "metadata": {}
        }
      ]
    },
    {
      "metadata": {
        "trusted": true
      },
      "cell_type": "code",
      "source": "ws.max_column",
      "execution_count": 57,
      "outputs": [
        {
          "output_type": "execute_result",
          "execution_count": 57,
          "data": {
            "text/plain": "4"
          },
          "metadata": {}
        }
      ]
    },
    {
      "metadata": {
        "trusted": true
      },
      "cell_type": "code",
      "source": "ws.min_row",
      "execution_count": 58,
      "outputs": [
        {
          "output_type": "execute_result",
          "execution_count": 58,
          "data": {
            "text/plain": "1"
          },
          "metadata": {}
        }
      ]
    },
    {
      "metadata": {
        "trusted": true
      },
      "cell_type": "code",
      "source": "ws.min_column",
      "execution_count": 59,
      "outputs": [
        {
          "output_type": "execute_result",
          "execution_count": 59,
          "data": {
            "text/plain": "1"
          },
          "metadata": {}
        }
      ]
    },
    {
      "metadata": {},
      "cell_type": "markdown",
      "source": "We can add elements to worksheets cell-by-cell or row-by-row. The append method is used to add rows of data. The append method expects to receive a list or tuple of values with the first element being placed in column A. Each row is appended below the bottommost row. We will look at add data to individual cells in the following section."
    },
    {
      "metadata": {
        "trusted": true
      },
      "cell_type": "code",
      "source": "ws.append([\"Author\", \"Title\", \"Year\", \"Rank\"])",
      "execution_count": 39,
      "outputs": []
    },
    {
      "metadata": {
        "trusted": true
      },
      "cell_type": "code",
      "source": "data = []\ndata.append(\"Author\")\ndata.append(\"Title\")\ndata.append(\"Year\")\ndata.append(\"Rank\")",
      "execution_count": 31,
      "outputs": []
    },
    {
      "metadata": {
        "trusted": true
      },
      "cell_type": "code",
      "source": "data",
      "execution_count": 45,
      "outputs": [
        {
          "output_type": "execute_result",
          "execution_count": 45,
          "data": {
            "text/plain": "['Author', 'Title', 'Year', 'Rank']"
          },
          "metadata": {}
        }
      ]
    },
    {
      "metadata": {
        "trusted": true
      },
      "cell_type": "code",
      "source": "ws.append(data)",
      "execution_count": 51,
      "outputs": []
    },
    {
      "metadata": {
        "trusted": true
      },
      "cell_type": "code",
      "source": "ws.delete_rows(2)",
      "execution_count": 53,
      "outputs": []
    },
    {
      "metadata": {
        "trusted": true
      },
      "cell_type": "code",
      "source": "ws.delete_rows(2,5)",
      "execution_count": 55,
      "outputs": []
    },
    {
      "metadata": {},
      "cell_type": "markdown",
      "source": "Before we move on to accessing cells, we need to populate the worksheet. The following lines write the contents of our novelList to the worksheet."
    },
    {
      "metadata": {
        "trusted": true
      },
      "cell_type": "code",
      "source": "novelList = []\nwith open(\"support/novels.txt\") as fileHandler:\n    for line in fileHandler:\n        rank = line[:line.find(\".\")].strip()\n        title = line[line.find(\".\") + 1:line.find(\"(\")].strip()\n        author = line[line.find(\"(\") + 1:line.find(\",\", line.find(\"(\"))].strip()\n        year = line.strip()[-5:-1]\n        novelList.append([author, title, year, rank])",
      "execution_count": 60,
      "outputs": []
    },
    {
      "metadata": {
        "trusted": true
      },
      "cell_type": "code",
      "source": "len(novelList)",
      "execution_count": 61,
      "outputs": [
        {
          "output_type": "execute_result",
          "execution_count": 61,
          "data": {
            "text/plain": "100"
          },
          "metadata": {}
        }
      ]
    },
    {
      "metadata": {
        "trusted": true
      },
      "cell_type": "code",
      "source": "type(novelList[0])",
      "execution_count": 62,
      "outputs": [
        {
          "output_type": "execute_result",
          "execution_count": 62,
          "data": {
            "text/plain": "list"
          },
          "metadata": {}
        }
      ]
    },
    {
      "metadata": {
        "trusted": true
      },
      "cell_type": "code",
      "source": "len(novelList[0])",
      "execution_count": 63,
      "outputs": [
        {
          "output_type": "execute_result",
          "execution_count": 63,
          "data": {
            "text/plain": "4"
          },
          "metadata": {}
        }
      ]
    },
    {
      "metadata": {
        "trusted": true
      },
      "cell_type": "code",
      "source": "novelList[0]",
      "execution_count": 64,
      "outputs": [
        {
          "output_type": "execute_result",
          "execution_count": 64,
          "data": {
            "text/plain": "['PG Wodehouse', 'The Code of the Woosters', '1938', '100']"
          },
          "metadata": {}
        }
      ]
    },
    {
      "metadata": {
        "trusted": true
      },
      "cell_type": "code",
      "source": "novelList[0][0]",
      "execution_count": 65,
      "outputs": [
        {
          "output_type": "execute_result",
          "execution_count": 65,
          "data": {
            "text/plain": "'PG Wodehouse'"
          },
          "metadata": {}
        }
      ]
    },
    {
      "metadata": {
        "trusted": true
      },
      "cell_type": "code",
      "source": "for novel in novelList:\n    print(\"Appending \", novel)\n    ws.append(novel)",
      "execution_count": 66,
      "outputs": [
        {
          "output_type": "stream",
          "text": "Appending  ['PG Wodehouse', 'The Code of the Woosters', '1938', '100']\nAppending  ['Ali Smith', 'There but for the', '2011', '99']\nAppending  ['Malcolm Lowry', 'Under the Volcano', '1947', '98']\nAppending  ['CS Lewis', 'The Chronicles of Narnia', '1954', '97']\nAppending  ['Doris Lessing', 'Memoirs of a Survivor', '1974', '96']\nAppending  ['Hanif Kureishi', 'The Buddha of Suburbia', '1990', '95']\nAppending  ['James Hogg', 'The Private Memoirs and Confessions of a Justified Sinner', '1824', '94']\nAppending  ['William Golding', 'Lord of the Flies', '1954', '93']\nAppending  ['Stella Gibbons', 'Cold Comfort Farm', '1932', '92']\nAppending  ['John Galsworthy', 'The Forsyte Saga', '1922', '91']\nAppending  ['Wilkie Collins', 'The Woman in White', '1859', '90']\nAppending  ['Joyce Cary', 'The Horse’s Mouth', '1944', '89']\nAppending  ['Elizabeth Bowen', 'The Death of the Heart', '1938', '88']\nAppending  ['Arnold Bennett', 'The Old Wives’ Tale', '1908', '87']\nAppending  ['Sybille Bedford', 'A Legacy', '1956', '86']\nAppending  ['Pat Barker', 'Regeneration Trilogy', '1995', '85']\nAppending  ['Evelyn Waugh', 'Scoop', '1938', '84']\nAppending  ['Anthony Trollope', 'Barchester Towers', '1857', '83']\nAppending  ['Edward St Aubyn', 'The Patrick Melrose Novels', '2012', '82']\nAppending  ['Paul Scott', 'The Jewel in the Crown', '1966', '81']\nAppending  ['Barbara Pym', 'Excellent Women', '1952', '80']\nAppending  ['Philip Pullman', 'His Dark Materials', '2000', '79']\nAppending  ['VS Naipaul', 'A House for Mr Biswas', '1961', '78']\nAppending  ['W Somerset Maugham', 'Of Human Bondage', '1915', '77']\nAppending  ['Andrea Levy', 'Small Island', '2004', '76']\nAppending  ['DH Lawrence', 'Women in Love', '1920', '75']\nAppending  ['Thomas Hardy', 'The Mayor of Casterbridge', '1886', '74']\nAppending  ['Penelope Fitzgerald', 'The Blue Flower', '1995', '73']\nAppending  ['Graham Greene', 'The Heart of the Matter', '1948', '72']\nAppending  ['Jane Gardam', 'Old Filth', '2004', '71']\nAppending  ['George Eliot', 'Daniel Deronda', '1876', '70']\nAppending  ['Joseph Conrad', 'Nostromo', '1904', '69']\nAppending  ['Anthony Burgess', 'A Clockwork Orange', '1962', '68']\nAppending  ['JG  Ballard 1973)', 'Crash', '1973', '67']\nAppending  ['Jane Austen', 'Sense and Sensibility', '1811', '66']\nAppending  ['Virginia Woolf', 'Orlando', '1928', '65']\nAppending  ['Anthony Trollope', 'The Way We Live Now', '1875', '64']\nAppending  ['Muriel Spark', 'The Prime of Miss Jean Brodie', '1961', '63']\nAppending  ['George Orwell', 'Animal Farm', '1945', '62']\nAppending  ['Iris Murdoch', 'The Sea, The Sea', '1978', '61']\nAppending  ['DH Lawrence', 'Sons and Lovers', '1913', '60']\nAppending  ['Alan Hollinghurst', 'The Line of Beauty', '2004', '59']\nAppending  ['Henry Green', 'Loving', '1945', '58']\nAppending  ['Ford Madox Ford', 'Parade’s End', '1928', '57']\nAppending  ['Jeanette Winterson', 'Oranges Are Not the Only Fruit', '1985', '56']\nAppending  ['Jonathan Swift', 'Gulliver’s Travels', '1726', '55']\nAppending  ['Zadie Smith', 'NW', '2012', '54']\nAppending  ['Jean Rhys', 'Wide Sargasso Sea', '1966', '53']\nAppending  ['George Gissing', 'New Grub Street', '1891', '52']\nAppending  ['Thomas Hardy', 'Tess of the d’Urbervilles', '1891', '51']\nAppending  ['EM Forster', 'A Passage to India', '1924', '50']\nAppending  ['AS Byatt', 'Possession', '1990', '49']\nAppending  ['Kingsley Amis', 'Lucky Jim', '1954', '48']\nAppending  ['Laurence Sterne', 'The Life and Opinions of Tristram Shandy, Gentleman', '1759', '47']\nAppending  ['Salman Rushdie', 'Midnight’s Children', '1981', '46']\nAppending  ['Sarah Waters', 'The Little Stranger', '2009', '45']\nAppending  ['Hilary Mantel', 'Wolf Hall', '2009', '44']\nAppending  ['Alan Hollinghurst', 'The Swimming Pool Library', '1988', '43']\nAppending  ['Graham Greene', 'Brighton Rock', '1938', '42']\nAppending  ['Charles Dickens', 'Dombey and Son', '1848', '41']\nAppending  ['Lewis Carroll', 'Alice’s Adventures in Wonderland', '1865', '40']\nAppending  ['Julian Barnes', 'The Sense of an Ending', '2011', '39']\nAppending  ['Jeanette Winterson', 'The Passion', '1987', '38']\nAppending  ['Evelyn Waugh', 'Decline and Fall', '1928', '37']\nAppending  ['Anthony Powell', 'A Dance to the Music of Time', '1975', '36']\nAppending  ['Tom McCarthy', 'Remainder', '2005', '35']\nAppending  ['Kazuo Ishiguro', 'Never Let Me Go', '2005', '34']\nAppending  ['Kenneth Grahame', 'The Wind in the Willows', '1908', '33']\nAppending  ['EM Forster', 'A Room with a View', '1908', '32']\nAppending  ['Graham Greene', 'The End of the Affair', '1951', '31']\nAppending  ['Daniel Defoe', 'Moll Flanders', '1722', '30']\nAppending  ['Monica Ali', 'Brick Lane', '2003', '29']\nAppending  ['Charlotte Brontë', 'Villette', '1853', '28']\nAppending  ['Daniel Defoe', 'Robinson Crusoe', '1719', '27']\nAppending  ['JRR Tolkien', 'The Lord of the Rings', '1954', '26']\nAppending  ['Zadie Smith', 'White Teeth', '2000', '25']\nAppending  ['Doris Lessing', 'The Golden Notebook', '1962', '24']\nAppending  ['Thomas Hardy', 'Jude the Obscure', '1895', '23']\nAppending  ['Henry Fielding', 'The History of Tom Jones, a Foundling', '1749', '22']\nAppending  ['Joseph Conrad', 'Heart of Darkness', '1899', '21']\nAppending  ['Jane Austen', 'Persuasion', '1817', '20']\nAppending  ['Jane Austen', 'Emma', '1815', '19']\nAppending  ['Kazuo Ishiguro', 'Remains of the Day', '1989', '18']\nAppending  ['EM Forster', 'Howards End', '1910', '17']\nAppending  ['Virginia Woolf', 'The Waves', '1931', '16']\nAppending  ['Ian McEwan', 'Atonement', '2001', '15']\nAppending  ['Samuel Richardson', 'Clarissa', '1748', '14']\nAppending  ['Ford Madox Ford', 'The Good Soldier', '1915', '13']\nAppending  ['George Orwell', 'Nineteen Eighty-Four', '1949', '12']\nAppending  ['Jane Austen', 'Pride and Prejudice', '1813', '11']\nAppending  ['William Makepeace Thackeray', 'Vanity Fair', '1848', '10']\nAppending  ['Mary Shelley', 'Frankenstein', '1818', '9']\nAppending  ['Charles Dickens', 'David Copperfield', '1850', '8']\nAppending  ['Emily Brontë', 'Wuthering Heights', '1847', '7']\nAppending  ['Charles Dickens', 'Bleak House', '1853', '6']\nAppending  ['Charlotte Brontë', 'Jane Eyre', '1847', '5']\nAppending  ['Charles Dickens', 'Great Expectations', '1861', '4']\nAppending  ['Virginia Woolf', 'Mrs. Dalloway', '1925', '3']\nAppending  ['Virginia Woolf', 'To the Lighthouse', '1927', '2']\nAppending  ['George Eliot', 'Middlemarch', '1874', '1']\n",
          "name": "stdout"
        }
      ]
    },
    {
      "metadata": {},
      "cell_type": "markdown",
      "source": "## Accessing Cells\nOpenpyxl offers a variety of methods for accessing cells. In the following code, we will look at methods for accessing single cells, rows of cell and columns of cells. First, you can access cells by referencing column/row position of the cell. In Excel, columns are given character values while rows are given numeric values. You can use these to access a specific cell."
    },
    {
      "metadata": {
        "trusted": true
      },
      "cell_type": "code",
      "source": "print(ws['A1'])",
      "execution_count": 67,
      "outputs": [
        {
          "output_type": "stream",
          "text": "<Cell 'Top English Novels'.A1>\n",
          "name": "stdout"
        }
      ]
    },
    {
      "metadata": {
        "trusted": true
      },
      "cell_type": "code",
      "source": "cellRef = \"C\" + str(ws.max_row)\nprint(ws[cellRef])",
      "execution_count": 68,
      "outputs": [
        {
          "output_type": "stream",
          "text": "<Cell 'Top English Novels'.C101>\n",
          "name": "stdout"
        }
      ]
    },
    {
      "metadata": {},
      "cell_type": "markdown",
      "source": "Accessing a cell in this way retrieves a cell object. This object has properties and methods that give your application to various cell attributes."
    },
    {
      "metadata": {
        "trusted": true
      },
      "cell_type": "code",
      "source": "cell = ws[cellRef]",
      "execution_count": 70,
      "outputs": []
    },
    {
      "metadata": {
        "trusted": true
      },
      "cell_type": "code",
      "source": "cell.value",
      "execution_count": 71,
      "outputs": [
        {
          "output_type": "execute_result",
          "execution_count": 71,
          "data": {
            "text/plain": "'1874'"
          },
          "metadata": {}
        }
      ]
    },
    {
      "metadata": {
        "trusted": true
      },
      "cell_type": "code",
      "source": "cell.coordinate",
      "execution_count": 72,
      "outputs": [
        {
          "output_type": "execute_result",
          "execution_count": 72,
          "data": {
            "text/plain": "'C101'"
          },
          "metadata": {}
        }
      ]
    },
    {
      "metadata": {
        "trusted": true
      },
      "cell_type": "code",
      "source": "cell.row",
      "execution_count": 73,
      "outputs": [
        {
          "output_type": "execute_result",
          "execution_count": 73,
          "data": {
            "text/plain": "101"
          },
          "metadata": {}
        }
      ]
    },
    {
      "metadata": {
        "trusted": true
      },
      "cell_type": "code",
      "source": "cell.column",
      "execution_count": 74,
      "outputs": [
        {
          "output_type": "execute_result",
          "execution_count": 74,
          "data": {
            "text/plain": "3"
          },
          "metadata": {}
        }
      ]
    },
    {
      "metadata": {},
      "cell_type": "markdown",
      "source": "It is important to keep this in mind as you will want access the .value of a cell and not the cell itself. This makes sense if you think about all of the things you can do to cells beyond simply entering a value (e.g., labels, colors, formatting, etc.), but it is not how we are accustomed to thinking about cells in Excel. \n\nSecond, we can access cells by row. When accessing cells by row, we retrieve one or more rows that contains one or more cells. Below are three different approaches to accessing rows. The first retrieves all rows and iterates through each row. The second retrieves a single row based on it’s string representation. The final method retrieves a subset of rows between some set of boundaries."
    },
    {
      "metadata": {
        "trusted": true
      },
      "cell_type": "code",
      "source": "for row in ws.rows:\n    print(row)",
      "execution_count": 83,
      "outputs": [
        {
          "output_type": "stream",
          "text": "(<Cell 'Top English Novels'.A1>, <Cell 'Top English Novels'.B1>, <Cell 'Top English Novels'.C1>, <Cell 'Top English Novels'.D1>)\n(<Cell 'Top English Novels'.A2>, <Cell 'Top English Novels'.B2>, <Cell 'Top English Novels'.C2>, <Cell 'Top English Novels'.D2>)\n(<Cell 'Top English Novels'.A3>, <Cell 'Top English Novels'.B3>, <Cell 'Top English Novels'.C3>, <Cell 'Top English Novels'.D3>)\n(<Cell 'Top English Novels'.A4>, <Cell 'Top English Novels'.B4>, <Cell 'Top English Novels'.C4>, <Cell 'Top English Novels'.D4>)\n(<Cell 'Top English Novels'.A5>, <Cell 'Top English Novels'.B5>, <Cell 'Top English Novels'.C5>, <Cell 'Top English Novels'.D5>)\n(<Cell 'Top English Novels'.A6>, <Cell 'Top English Novels'.B6>, <Cell 'Top English Novels'.C6>, <Cell 'Top English Novels'.D6>)\n(<Cell 'Top English Novels'.A7>, <Cell 'Top English Novels'.B7>, <Cell 'Top English Novels'.C7>, <Cell 'Top English Novels'.D7>)\n(<Cell 'Top English Novels'.A8>, <Cell 'Top English Novels'.B8>, <Cell 'Top English Novels'.C8>, <Cell 'Top English Novels'.D8>)\n(<Cell 'Top English Novels'.A9>, <Cell 'Top English Novels'.B9>, <Cell 'Top English Novels'.C9>, <Cell 'Top English Novels'.D9>)\n(<Cell 'Top English Novels'.A10>, <Cell 'Top English Novels'.B10>, <Cell 'Top English Novels'.C10>, <Cell 'Top English Novels'.D10>)\n(<Cell 'Top English Novels'.A11>, <Cell 'Top English Novels'.B11>, <Cell 'Top English Novels'.C11>, <Cell 'Top English Novels'.D11>)\n(<Cell 'Top English Novels'.A12>, <Cell 'Top English Novels'.B12>, <Cell 'Top English Novels'.C12>, <Cell 'Top English Novels'.D12>)\n(<Cell 'Top English Novels'.A13>, <Cell 'Top English Novels'.B13>, <Cell 'Top English Novels'.C13>, <Cell 'Top English Novels'.D13>)\n(<Cell 'Top English Novels'.A14>, <Cell 'Top English Novels'.B14>, <Cell 'Top English Novels'.C14>, <Cell 'Top English Novels'.D14>)\n(<Cell 'Top English Novels'.A15>, <Cell 'Top English Novels'.B15>, <Cell 'Top English Novels'.C15>, <Cell 'Top English Novels'.D15>)\n(<Cell 'Top English Novels'.A16>, <Cell 'Top English Novels'.B16>, <Cell 'Top English Novels'.C16>, <Cell 'Top English Novels'.D16>)\n(<Cell 'Top English Novels'.A17>, <Cell 'Top English Novels'.B17>, <Cell 'Top English Novels'.C17>, <Cell 'Top English Novels'.D17>)\n(<Cell 'Top English Novels'.A18>, <Cell 'Top English Novels'.B18>, <Cell 'Top English Novels'.C18>, <Cell 'Top English Novels'.D18>)\n(<Cell 'Top English Novels'.A19>, <Cell 'Top English Novels'.B19>, <Cell 'Top English Novels'.C19>, <Cell 'Top English Novels'.D19>)\n(<Cell 'Top English Novels'.A20>, <Cell 'Top English Novels'.B20>, <Cell 'Top English Novels'.C20>, <Cell 'Top English Novels'.D20>)\n(<Cell 'Top English Novels'.A21>, <Cell 'Top English Novels'.B21>, <Cell 'Top English Novels'.C21>, <Cell 'Top English Novels'.D21>)\n(<Cell 'Top English Novels'.A22>, <Cell 'Top English Novels'.B22>, <Cell 'Top English Novels'.C22>, <Cell 'Top English Novels'.D22>)\n(<Cell 'Top English Novels'.A23>, <Cell 'Top English Novels'.B23>, <Cell 'Top English Novels'.C23>, <Cell 'Top English Novels'.D23>)\n(<Cell 'Top English Novels'.A24>, <Cell 'Top English Novels'.B24>, <Cell 'Top English Novels'.C24>, <Cell 'Top English Novels'.D24>)\n(<Cell 'Top English Novels'.A25>, <Cell 'Top English Novels'.B25>, <Cell 'Top English Novels'.C25>, <Cell 'Top English Novels'.D25>)\n(<Cell 'Top English Novels'.A26>, <Cell 'Top English Novels'.B26>, <Cell 'Top English Novels'.C26>, <Cell 'Top English Novels'.D26>)\n(<Cell 'Top English Novels'.A27>, <Cell 'Top English Novels'.B27>, <Cell 'Top English Novels'.C27>, <Cell 'Top English Novels'.D27>)\n(<Cell 'Top English Novels'.A28>, <Cell 'Top English Novels'.B28>, <Cell 'Top English Novels'.C28>, <Cell 'Top English Novels'.D28>)\n(<Cell 'Top English Novels'.A29>, <Cell 'Top English Novels'.B29>, <Cell 'Top English Novels'.C29>, <Cell 'Top English Novels'.D29>)\n(<Cell 'Top English Novels'.A30>, <Cell 'Top English Novels'.B30>, <Cell 'Top English Novels'.C30>, <Cell 'Top English Novels'.D30>)\n(<Cell 'Top English Novels'.A31>, <Cell 'Top English Novels'.B31>, <Cell 'Top English Novels'.C31>, <Cell 'Top English Novels'.D31>)\n(<Cell 'Top English Novels'.A32>, <Cell 'Top English Novels'.B32>, <Cell 'Top English Novels'.C32>, <Cell 'Top English Novels'.D32>)\n(<Cell 'Top English Novels'.A33>, <Cell 'Top English Novels'.B33>, <Cell 'Top English Novels'.C33>, <Cell 'Top English Novels'.D33>)\n(<Cell 'Top English Novels'.A34>, <Cell 'Top English Novels'.B34>, <Cell 'Top English Novels'.C34>, <Cell 'Top English Novels'.D34>)\n(<Cell 'Top English Novels'.A35>, <Cell 'Top English Novels'.B35>, <Cell 'Top English Novels'.C35>, <Cell 'Top English Novels'.D35>)\n(<Cell 'Top English Novels'.A36>, <Cell 'Top English Novels'.B36>, <Cell 'Top English Novels'.C36>, <Cell 'Top English Novels'.D36>)\n(<Cell 'Top English Novels'.A37>, <Cell 'Top English Novels'.B37>, <Cell 'Top English Novels'.C37>, <Cell 'Top English Novels'.D37>)\n(<Cell 'Top English Novels'.A38>, <Cell 'Top English Novels'.B38>, <Cell 'Top English Novels'.C38>, <Cell 'Top English Novels'.D38>)\n(<Cell 'Top English Novels'.A39>, <Cell 'Top English Novels'.B39>, <Cell 'Top English Novels'.C39>, <Cell 'Top English Novels'.D39>)\n(<Cell 'Top English Novels'.A40>, <Cell 'Top English Novels'.B40>, <Cell 'Top English Novels'.C40>, <Cell 'Top English Novels'.D40>)\n(<Cell 'Top English Novels'.A41>, <Cell 'Top English Novels'.B41>, <Cell 'Top English Novels'.C41>, <Cell 'Top English Novels'.D41>)\n(<Cell 'Top English Novels'.A42>, <Cell 'Top English Novels'.B42>, <Cell 'Top English Novels'.C42>, <Cell 'Top English Novels'.D42>)\n(<Cell 'Top English Novels'.A43>, <Cell 'Top English Novels'.B43>, <Cell 'Top English Novels'.C43>, <Cell 'Top English Novels'.D43>)\n(<Cell 'Top English Novels'.A44>, <Cell 'Top English Novels'.B44>, <Cell 'Top English Novels'.C44>, <Cell 'Top English Novels'.D44>)\n(<Cell 'Top English Novels'.A45>, <Cell 'Top English Novels'.B45>, <Cell 'Top English Novels'.C45>, <Cell 'Top English Novels'.D45>)\n(<Cell 'Top English Novels'.A46>, <Cell 'Top English Novels'.B46>, <Cell 'Top English Novels'.C46>, <Cell 'Top English Novels'.D46>)\n(<Cell 'Top English Novels'.A47>, <Cell 'Top English Novels'.B47>, <Cell 'Top English Novels'.C47>, <Cell 'Top English Novels'.D47>)\n(<Cell 'Top English Novels'.A48>, <Cell 'Top English Novels'.B48>, <Cell 'Top English Novels'.C48>, <Cell 'Top English Novels'.D48>)\n(<Cell 'Top English Novels'.A49>, <Cell 'Top English Novels'.B49>, <Cell 'Top English Novels'.C49>, <Cell 'Top English Novels'.D49>)\n(<Cell 'Top English Novels'.A50>, <Cell 'Top English Novels'.B50>, <Cell 'Top English Novels'.C50>, <Cell 'Top English Novels'.D50>)\n(<Cell 'Top English Novels'.A51>, <Cell 'Top English Novels'.B51>, <Cell 'Top English Novels'.C51>, <Cell 'Top English Novels'.D51>)\n(<Cell 'Top English Novels'.A52>, <Cell 'Top English Novels'.B52>, <Cell 'Top English Novels'.C52>, <Cell 'Top English Novels'.D52>)\n(<Cell 'Top English Novels'.A53>, <Cell 'Top English Novels'.B53>, <Cell 'Top English Novels'.C53>, <Cell 'Top English Novels'.D53>)\n(<Cell 'Top English Novels'.A54>, <Cell 'Top English Novels'.B54>, <Cell 'Top English Novels'.C54>, <Cell 'Top English Novels'.D54>)\n(<Cell 'Top English Novels'.A55>, <Cell 'Top English Novels'.B55>, <Cell 'Top English Novels'.C55>, <Cell 'Top English Novels'.D55>)\n(<Cell 'Top English Novels'.A56>, <Cell 'Top English Novels'.B56>, <Cell 'Top English Novels'.C56>, <Cell 'Top English Novels'.D56>)\n(<Cell 'Top English Novels'.A57>, <Cell 'Top English Novels'.B57>, <Cell 'Top English Novels'.C57>, <Cell 'Top English Novels'.D57>)\n(<Cell 'Top English Novels'.A58>, <Cell 'Top English Novels'.B58>, <Cell 'Top English Novels'.C58>, <Cell 'Top English Novels'.D58>)\n(<Cell 'Top English Novels'.A59>, <Cell 'Top English Novels'.B59>, <Cell 'Top English Novels'.C59>, <Cell 'Top English Novels'.D59>)\n(<Cell 'Top English Novels'.A60>, <Cell 'Top English Novels'.B60>, <Cell 'Top English Novels'.C60>, <Cell 'Top English Novels'.D60>)\n(<Cell 'Top English Novels'.A61>, <Cell 'Top English Novels'.B61>, <Cell 'Top English Novels'.C61>, <Cell 'Top English Novels'.D61>)\n(<Cell 'Top English Novels'.A62>, <Cell 'Top English Novels'.B62>, <Cell 'Top English Novels'.C62>, <Cell 'Top English Novels'.D62>)\n(<Cell 'Top English Novels'.A63>, <Cell 'Top English Novels'.B63>, <Cell 'Top English Novels'.C63>, <Cell 'Top English Novels'.D63>)\n(<Cell 'Top English Novels'.A64>, <Cell 'Top English Novels'.B64>, <Cell 'Top English Novels'.C64>, <Cell 'Top English Novels'.D64>)\n(<Cell 'Top English Novels'.A65>, <Cell 'Top English Novels'.B65>, <Cell 'Top English Novels'.C65>, <Cell 'Top English Novels'.D65>)\n(<Cell 'Top English Novels'.A66>, <Cell 'Top English Novels'.B66>, <Cell 'Top English Novels'.C66>, <Cell 'Top English Novels'.D66>)\n(<Cell 'Top English Novels'.A67>, <Cell 'Top English Novels'.B67>, <Cell 'Top English Novels'.C67>, <Cell 'Top English Novels'.D67>)\n(<Cell 'Top English Novels'.A68>, <Cell 'Top English Novels'.B68>, <Cell 'Top English Novels'.C68>, <Cell 'Top English Novels'.D68>)\n(<Cell 'Top English Novels'.A69>, <Cell 'Top English Novels'.B69>, <Cell 'Top English Novels'.C69>, <Cell 'Top English Novels'.D69>)\n(<Cell 'Top English Novels'.A70>, <Cell 'Top English Novels'.B70>, <Cell 'Top English Novels'.C70>, <Cell 'Top English Novels'.D70>)\n(<Cell 'Top English Novels'.A71>, <Cell 'Top English Novels'.B71>, <Cell 'Top English Novels'.C71>, <Cell 'Top English Novels'.D71>)\n(<Cell 'Top English Novels'.A72>, <Cell 'Top English Novels'.B72>, <Cell 'Top English Novels'.C72>, <Cell 'Top English Novels'.D72>)\n(<Cell 'Top English Novels'.A73>, <Cell 'Top English Novels'.B73>, <Cell 'Top English Novels'.C73>, <Cell 'Top English Novels'.D73>)\n(<Cell 'Top English Novels'.A74>, <Cell 'Top English Novels'.B74>, <Cell 'Top English Novels'.C74>, <Cell 'Top English Novels'.D74>)\n(<Cell 'Top English Novels'.A75>, <Cell 'Top English Novels'.B75>, <Cell 'Top English Novels'.C75>, <Cell 'Top English Novels'.D75>)\n(<Cell 'Top English Novels'.A76>, <Cell 'Top English Novels'.B76>, <Cell 'Top English Novels'.C76>, <Cell 'Top English Novels'.D76>)\n(<Cell 'Top English Novels'.A77>, <Cell 'Top English Novels'.B77>, <Cell 'Top English Novels'.C77>, <Cell 'Top English Novels'.D77>)\n(<Cell 'Top English Novels'.A78>, <Cell 'Top English Novels'.B78>, <Cell 'Top English Novels'.C78>, <Cell 'Top English Novels'.D78>)\n(<Cell 'Top English Novels'.A79>, <Cell 'Top English Novels'.B79>, <Cell 'Top English Novels'.C79>, <Cell 'Top English Novels'.D79>)\n(<Cell 'Top English Novels'.A80>, <Cell 'Top English Novels'.B80>, <Cell 'Top English Novels'.C80>, <Cell 'Top English Novels'.D80>)\n(<Cell 'Top English Novels'.A81>, <Cell 'Top English Novels'.B81>, <Cell 'Top English Novels'.C81>, <Cell 'Top English Novels'.D81>)\n(<Cell 'Top English Novels'.A82>, <Cell 'Top English Novels'.B82>, <Cell 'Top English Novels'.C82>, <Cell 'Top English Novels'.D82>)\n(<Cell 'Top English Novels'.A83>, <Cell 'Top English Novels'.B83>, <Cell 'Top English Novels'.C83>, <Cell 'Top English Novels'.D83>)\n(<Cell 'Top English Novels'.A84>, <Cell 'Top English Novels'.B84>, <Cell 'Top English Novels'.C84>, <Cell 'Top English Novels'.D84>)\n(<Cell 'Top English Novels'.A85>, <Cell 'Top English Novels'.B85>, <Cell 'Top English Novels'.C85>, <Cell 'Top English Novels'.D85>)\n(<Cell 'Top English Novels'.A86>, <Cell 'Top English Novels'.B86>, <Cell 'Top English Novels'.C86>, <Cell 'Top English Novels'.D86>)\n(<Cell 'Top English Novels'.A87>, <Cell 'Top English Novels'.B87>, <Cell 'Top English Novels'.C87>, <Cell 'Top English Novels'.D87>)\n(<Cell 'Top English Novels'.A88>, <Cell 'Top English Novels'.B88>, <Cell 'Top English Novels'.C88>, <Cell 'Top English Novels'.D88>)\n(<Cell 'Top English Novels'.A89>, <Cell 'Top English Novels'.B89>, <Cell 'Top English Novels'.C89>, <Cell 'Top English Novels'.D89>)\n(<Cell 'Top English Novels'.A90>, <Cell 'Top English Novels'.B90>, <Cell 'Top English Novels'.C90>, <Cell 'Top English Novels'.D90>)\n(<Cell 'Top English Novels'.A91>, <Cell 'Top English Novels'.B91>, <Cell 'Top English Novels'.C91>, <Cell 'Top English Novels'.D91>)\n(<Cell 'Top English Novels'.A92>, <Cell 'Top English Novels'.B92>, <Cell 'Top English Novels'.C92>, <Cell 'Top English Novels'.D92>)\n(<Cell 'Top English Novels'.A93>, <Cell 'Top English Novels'.B93>, <Cell 'Top English Novels'.C93>, <Cell 'Top English Novels'.D93>)\n(<Cell 'Top English Novels'.A94>, <Cell 'Top English Novels'.B94>, <Cell 'Top English Novels'.C94>, <Cell 'Top English Novels'.D94>)\n(<Cell 'Top English Novels'.A95>, <Cell 'Top English Novels'.B95>, <Cell 'Top English Novels'.C95>, <Cell 'Top English Novels'.D95>)\n(<Cell 'Top English Novels'.A96>, <Cell 'Top English Novels'.B96>, <Cell 'Top English Novels'.C96>, <Cell 'Top English Novels'.D96>)\n(<Cell 'Top English Novels'.A97>, <Cell 'Top English Novels'.B97>, <Cell 'Top English Novels'.C97>, <Cell 'Top English Novels'.D97>)\n(<Cell 'Top English Novels'.A98>, <Cell 'Top English Novels'.B98>, <Cell 'Top English Novels'.C98>, <Cell 'Top English Novels'.D98>)\n(<Cell 'Top English Novels'.A99>, <Cell 'Top English Novels'.B99>, <Cell 'Top English Novels'.C99>, <Cell 'Top English Novels'.D99>)\n(<Cell 'Top English Novels'.A100>, <Cell 'Top English Novels'.B100>, <Cell 'Top English Novels'.C100>, <Cell 'Top English Novels'.D100>)\n(<Cell 'Top English Novels'.A101>, <Cell 'Top English Novels'.B101>, <Cell 'Top English Novels'.C101>, <Cell 'Top English Novels'.D101>)\n",
          "name": "stdout"
        }
      ]
    },
    {
      "metadata": {
        "trusted": true
      },
      "cell_type": "code",
      "source": "for cell in ws['22']:\n    print(cell.value)",
      "execution_count": 79,
      "outputs": [
        {
          "output_type": "stream",
          "text": "Barbara Pym\nExcellent Women\n1952\n80\n",
          "name": "stdout"
        }
      ]
    },
    {
      "metadata": {
        "trusted": true
      },
      "cell_type": "code",
      "source": "for row in ws.iter_rows(min_row=2, max_row=20):\n    print(row)",
      "execution_count": 81,
      "outputs": [
        {
          "output_type": "stream",
          "text": "(<Cell 'Top English Novels'.A2>, <Cell 'Top English Novels'.B2>, <Cell 'Top English Novels'.C2>, <Cell 'Top English Novels'.D2>)\n(<Cell 'Top English Novels'.A3>, <Cell 'Top English Novels'.B3>, <Cell 'Top English Novels'.C3>, <Cell 'Top English Novels'.D3>)\n(<Cell 'Top English Novels'.A4>, <Cell 'Top English Novels'.B4>, <Cell 'Top English Novels'.C4>, <Cell 'Top English Novels'.D4>)\n(<Cell 'Top English Novels'.A5>, <Cell 'Top English Novels'.B5>, <Cell 'Top English Novels'.C5>, <Cell 'Top English Novels'.D5>)\n(<Cell 'Top English Novels'.A6>, <Cell 'Top English Novels'.B6>, <Cell 'Top English Novels'.C6>, <Cell 'Top English Novels'.D6>)\n(<Cell 'Top English Novels'.A7>, <Cell 'Top English Novels'.B7>, <Cell 'Top English Novels'.C7>, <Cell 'Top English Novels'.D7>)\n(<Cell 'Top English Novels'.A8>, <Cell 'Top English Novels'.B8>, <Cell 'Top English Novels'.C8>, <Cell 'Top English Novels'.D8>)\n(<Cell 'Top English Novels'.A9>, <Cell 'Top English Novels'.B9>, <Cell 'Top English Novels'.C9>, <Cell 'Top English Novels'.D9>)\n(<Cell 'Top English Novels'.A10>, <Cell 'Top English Novels'.B10>, <Cell 'Top English Novels'.C10>, <Cell 'Top English Novels'.D10>)\n(<Cell 'Top English Novels'.A11>, <Cell 'Top English Novels'.B11>, <Cell 'Top English Novels'.C11>, <Cell 'Top English Novels'.D11>)\n(<Cell 'Top English Novels'.A12>, <Cell 'Top English Novels'.B12>, <Cell 'Top English Novels'.C12>, <Cell 'Top English Novels'.D12>)\n(<Cell 'Top English Novels'.A13>, <Cell 'Top English Novels'.B13>, <Cell 'Top English Novels'.C13>, <Cell 'Top English Novels'.D13>)\n(<Cell 'Top English Novels'.A14>, <Cell 'Top English Novels'.B14>, <Cell 'Top English Novels'.C14>, <Cell 'Top English Novels'.D14>)\n(<Cell 'Top English Novels'.A15>, <Cell 'Top English Novels'.B15>, <Cell 'Top English Novels'.C15>, <Cell 'Top English Novels'.D15>)\n(<Cell 'Top English Novels'.A16>, <Cell 'Top English Novels'.B16>, <Cell 'Top English Novels'.C16>, <Cell 'Top English Novels'.D16>)\n(<Cell 'Top English Novels'.A17>, <Cell 'Top English Novels'.B17>, <Cell 'Top English Novels'.C17>, <Cell 'Top English Novels'.D17>)\n(<Cell 'Top English Novels'.A18>, <Cell 'Top English Novels'.B18>, <Cell 'Top English Novels'.C18>, <Cell 'Top English Novels'.D18>)\n(<Cell 'Top English Novels'.A19>, <Cell 'Top English Novels'.B19>, <Cell 'Top English Novels'.C19>, <Cell 'Top English Novels'.D19>)\n(<Cell 'Top English Novels'.A20>, <Cell 'Top English Novels'.B20>, <Cell 'Top English Novels'.C20>, <Cell 'Top English Novels'.D20>)\n",
          "name": "stdout"
        }
      ]
    },
    {
      "metadata": {},
      "cell_type": "markdown",
      "source": "Finally, we can access cells by column. Just as when accessing cells by row, we retrieve one or more row that contains one or more cells. For columns, we have the same alternatives available to us: accessing all columns, accessing a specific column, accessing some subset of columns based on boundary columns."
    },
    {
      "metadata": {
        "trusted": true
      },
      "cell_type": "code",
      "source": "for col in ws.columns:\n    print(col)",
      "execution_count": 82,
      "outputs": [
        {
          "output_type": "stream",
          "text": "(<Cell 'Top English Novels'.A1>, <Cell 'Top English Novels'.A2>, <Cell 'Top English Novels'.A3>, <Cell 'Top English Novels'.A4>, <Cell 'Top English Novels'.A5>, <Cell 'Top English Novels'.A6>, <Cell 'Top English Novels'.A7>, <Cell 'Top English Novels'.A8>, <Cell 'Top English Novels'.A9>, <Cell 'Top English Novels'.A10>, <Cell 'Top English Novels'.A11>, <Cell 'Top English Novels'.A12>, <Cell 'Top English Novels'.A13>, <Cell 'Top English Novels'.A14>, <Cell 'Top English Novels'.A15>, <Cell 'Top English Novels'.A16>, <Cell 'Top English Novels'.A17>, <Cell 'Top English Novels'.A18>, <Cell 'Top English Novels'.A19>, <Cell 'Top English Novels'.A20>, <Cell 'Top English Novels'.A21>, <Cell 'Top English Novels'.A22>, <Cell 'Top English Novels'.A23>, <Cell 'Top English Novels'.A24>, <Cell 'Top English Novels'.A25>, <Cell 'Top English Novels'.A26>, <Cell 'Top English Novels'.A27>, <Cell 'Top English Novels'.A28>, <Cell 'Top English Novels'.A29>, <Cell 'Top English Novels'.A30>, <Cell 'Top English Novels'.A31>, <Cell 'Top English Novels'.A32>, <Cell 'Top English Novels'.A33>, <Cell 'Top English Novels'.A34>, <Cell 'Top English Novels'.A35>, <Cell 'Top English Novels'.A36>, <Cell 'Top English Novels'.A37>, <Cell 'Top English Novels'.A38>, <Cell 'Top English Novels'.A39>, <Cell 'Top English Novels'.A40>, <Cell 'Top English Novels'.A41>, <Cell 'Top English Novels'.A42>, <Cell 'Top English Novels'.A43>, <Cell 'Top English Novels'.A44>, <Cell 'Top English Novels'.A45>, <Cell 'Top English Novels'.A46>, <Cell 'Top English Novels'.A47>, <Cell 'Top English Novels'.A48>, <Cell 'Top English Novels'.A49>, <Cell 'Top English Novels'.A50>, <Cell 'Top English Novels'.A51>, <Cell 'Top English Novels'.A52>, <Cell 'Top English Novels'.A53>, <Cell 'Top English Novels'.A54>, <Cell 'Top English Novels'.A55>, <Cell 'Top English Novels'.A56>, <Cell 'Top English Novels'.A57>, <Cell 'Top English Novels'.A58>, <Cell 'Top English Novels'.A59>, <Cell 'Top English Novels'.A60>, <Cell 'Top English Novels'.A61>, <Cell 'Top English Novels'.A62>, <Cell 'Top English Novels'.A63>, <Cell 'Top English Novels'.A64>, <Cell 'Top English Novels'.A65>, <Cell 'Top English Novels'.A66>, <Cell 'Top English Novels'.A67>, <Cell 'Top English Novels'.A68>, <Cell 'Top English Novels'.A69>, <Cell 'Top English Novels'.A70>, <Cell 'Top English Novels'.A71>, <Cell 'Top English Novels'.A72>, <Cell 'Top English Novels'.A73>, <Cell 'Top English Novels'.A74>, <Cell 'Top English Novels'.A75>, <Cell 'Top English Novels'.A76>, <Cell 'Top English Novels'.A77>, <Cell 'Top English Novels'.A78>, <Cell 'Top English Novels'.A79>, <Cell 'Top English Novels'.A80>, <Cell 'Top English Novels'.A81>, <Cell 'Top English Novels'.A82>, <Cell 'Top English Novels'.A83>, <Cell 'Top English Novels'.A84>, <Cell 'Top English Novels'.A85>, <Cell 'Top English Novels'.A86>, <Cell 'Top English Novels'.A87>, <Cell 'Top English Novels'.A88>, <Cell 'Top English Novels'.A89>, <Cell 'Top English Novels'.A90>, <Cell 'Top English Novels'.A91>, <Cell 'Top English Novels'.A92>, <Cell 'Top English Novels'.A93>, <Cell 'Top English Novels'.A94>, <Cell 'Top English Novels'.A95>, <Cell 'Top English Novels'.A96>, <Cell 'Top English Novels'.A97>, <Cell 'Top English Novels'.A98>, <Cell 'Top English Novels'.A99>, <Cell 'Top English Novels'.A100>, <Cell 'Top English Novels'.A101>)\n(<Cell 'Top English Novels'.B1>, <Cell 'Top English Novels'.B2>, <Cell 'Top English Novels'.B3>, <Cell 'Top English Novels'.B4>, <Cell 'Top English Novels'.B5>, <Cell 'Top English Novels'.B6>, <Cell 'Top English Novels'.B7>, <Cell 'Top English Novels'.B8>, <Cell 'Top English Novels'.B9>, <Cell 'Top English Novels'.B10>, <Cell 'Top English Novels'.B11>, <Cell 'Top English Novels'.B12>, <Cell 'Top English Novels'.B13>, <Cell 'Top English Novels'.B14>, <Cell 'Top English Novels'.B15>, <Cell 'Top English Novels'.B16>, <Cell 'Top English Novels'.B17>, <Cell 'Top English Novels'.B18>, <Cell 'Top English Novels'.B19>, <Cell 'Top English Novels'.B20>, <Cell 'Top English Novels'.B21>, <Cell 'Top English Novels'.B22>, <Cell 'Top English Novels'.B23>, <Cell 'Top English Novels'.B24>, <Cell 'Top English Novels'.B25>, <Cell 'Top English Novels'.B26>, <Cell 'Top English Novels'.B27>, <Cell 'Top English Novels'.B28>, <Cell 'Top English Novels'.B29>, <Cell 'Top English Novels'.B30>, <Cell 'Top English Novels'.B31>, <Cell 'Top English Novels'.B32>, <Cell 'Top English Novels'.B33>, <Cell 'Top English Novels'.B34>, <Cell 'Top English Novels'.B35>, <Cell 'Top English Novels'.B36>, <Cell 'Top English Novels'.B37>, <Cell 'Top English Novels'.B38>, <Cell 'Top English Novels'.B39>, <Cell 'Top English Novels'.B40>, <Cell 'Top English Novels'.B41>, <Cell 'Top English Novels'.B42>, <Cell 'Top English Novels'.B43>, <Cell 'Top English Novels'.B44>, <Cell 'Top English Novels'.B45>, <Cell 'Top English Novels'.B46>, <Cell 'Top English Novels'.B47>, <Cell 'Top English Novels'.B48>, <Cell 'Top English Novels'.B49>, <Cell 'Top English Novels'.B50>, <Cell 'Top English Novels'.B51>, <Cell 'Top English Novels'.B52>, <Cell 'Top English Novels'.B53>, <Cell 'Top English Novels'.B54>, <Cell 'Top English Novels'.B55>, <Cell 'Top English Novels'.B56>, <Cell 'Top English Novels'.B57>, <Cell 'Top English Novels'.B58>, <Cell 'Top English Novels'.B59>, <Cell 'Top English Novels'.B60>, <Cell 'Top English Novels'.B61>, <Cell 'Top English Novels'.B62>, <Cell 'Top English Novels'.B63>, <Cell 'Top English Novels'.B64>, <Cell 'Top English Novels'.B65>, <Cell 'Top English Novels'.B66>, <Cell 'Top English Novels'.B67>, <Cell 'Top English Novels'.B68>, <Cell 'Top English Novels'.B69>, <Cell 'Top English Novels'.B70>, <Cell 'Top English Novels'.B71>, <Cell 'Top English Novels'.B72>, <Cell 'Top English Novels'.B73>, <Cell 'Top English Novels'.B74>, <Cell 'Top English Novels'.B75>, <Cell 'Top English Novels'.B76>, <Cell 'Top English Novels'.B77>, <Cell 'Top English Novels'.B78>, <Cell 'Top English Novels'.B79>, <Cell 'Top English Novels'.B80>, <Cell 'Top English Novels'.B81>, <Cell 'Top English Novels'.B82>, <Cell 'Top English Novels'.B83>, <Cell 'Top English Novels'.B84>, <Cell 'Top English Novels'.B85>, <Cell 'Top English Novels'.B86>, <Cell 'Top English Novels'.B87>, <Cell 'Top English Novels'.B88>, <Cell 'Top English Novels'.B89>, <Cell 'Top English Novels'.B90>, <Cell 'Top English Novels'.B91>, <Cell 'Top English Novels'.B92>, <Cell 'Top English Novels'.B93>, <Cell 'Top English Novels'.B94>, <Cell 'Top English Novels'.B95>, <Cell 'Top English Novels'.B96>, <Cell 'Top English Novels'.B97>, <Cell 'Top English Novels'.B98>, <Cell 'Top English Novels'.B99>, <Cell 'Top English Novels'.B100>, <Cell 'Top English Novels'.B101>)\n(<Cell 'Top English Novels'.C1>, <Cell 'Top English Novels'.C2>, <Cell 'Top English Novels'.C3>, <Cell 'Top English Novels'.C4>, <Cell 'Top English Novels'.C5>, <Cell 'Top English Novels'.C6>, <Cell 'Top English Novels'.C7>, <Cell 'Top English Novels'.C8>, <Cell 'Top English Novels'.C9>, <Cell 'Top English Novels'.C10>, <Cell 'Top English Novels'.C11>, <Cell 'Top English Novels'.C12>, <Cell 'Top English Novels'.C13>, <Cell 'Top English Novels'.C14>, <Cell 'Top English Novels'.C15>, <Cell 'Top English Novels'.C16>, <Cell 'Top English Novels'.C17>, <Cell 'Top English Novels'.C18>, <Cell 'Top English Novels'.C19>, <Cell 'Top English Novels'.C20>, <Cell 'Top English Novels'.C21>, <Cell 'Top English Novels'.C22>, <Cell 'Top English Novels'.C23>, <Cell 'Top English Novels'.C24>, <Cell 'Top English Novels'.C25>, <Cell 'Top English Novels'.C26>, <Cell 'Top English Novels'.C27>, <Cell 'Top English Novels'.C28>, <Cell 'Top English Novels'.C29>, <Cell 'Top English Novels'.C30>, <Cell 'Top English Novels'.C31>, <Cell 'Top English Novels'.C32>, <Cell 'Top English Novels'.C33>, <Cell 'Top English Novels'.C34>, <Cell 'Top English Novels'.C35>, <Cell 'Top English Novels'.C36>, <Cell 'Top English Novels'.C37>, <Cell 'Top English Novels'.C38>, <Cell 'Top English Novels'.C39>, <Cell 'Top English Novels'.C40>, <Cell 'Top English Novels'.C41>, <Cell 'Top English Novels'.C42>, <Cell 'Top English Novels'.C43>, <Cell 'Top English Novels'.C44>, <Cell 'Top English Novels'.C45>, <Cell 'Top English Novels'.C46>, <Cell 'Top English Novels'.C47>, <Cell 'Top English Novels'.C48>, <Cell 'Top English Novels'.C49>, <Cell 'Top English Novels'.C50>, <Cell 'Top English Novels'.C51>, <Cell 'Top English Novels'.C52>, <Cell 'Top English Novels'.C53>, <Cell 'Top English Novels'.C54>, <Cell 'Top English Novels'.C55>, <Cell 'Top English Novels'.C56>, <Cell 'Top English Novels'.C57>, <Cell 'Top English Novels'.C58>, <Cell 'Top English Novels'.C59>, <Cell 'Top English Novels'.C60>, <Cell 'Top English Novels'.C61>, <Cell 'Top English Novels'.C62>, <Cell 'Top English Novels'.C63>, <Cell 'Top English Novels'.C64>, <Cell 'Top English Novels'.C65>, <Cell 'Top English Novels'.C66>, <Cell 'Top English Novels'.C67>, <Cell 'Top English Novels'.C68>, <Cell 'Top English Novels'.C69>, <Cell 'Top English Novels'.C70>, <Cell 'Top English Novels'.C71>, <Cell 'Top English Novels'.C72>, <Cell 'Top English Novels'.C73>, <Cell 'Top English Novels'.C74>, <Cell 'Top English Novels'.C75>, <Cell 'Top English Novels'.C76>, <Cell 'Top English Novels'.C77>, <Cell 'Top English Novels'.C78>, <Cell 'Top English Novels'.C79>, <Cell 'Top English Novels'.C80>, <Cell 'Top English Novels'.C81>, <Cell 'Top English Novels'.C82>, <Cell 'Top English Novels'.C83>, <Cell 'Top English Novels'.C84>, <Cell 'Top English Novels'.C85>, <Cell 'Top English Novels'.C86>, <Cell 'Top English Novels'.C87>, <Cell 'Top English Novels'.C88>, <Cell 'Top English Novels'.C89>, <Cell 'Top English Novels'.C90>, <Cell 'Top English Novels'.C91>, <Cell 'Top English Novels'.C92>, <Cell 'Top English Novels'.C93>, <Cell 'Top English Novels'.C94>, <Cell 'Top English Novels'.C95>, <Cell 'Top English Novels'.C96>, <Cell 'Top English Novels'.C97>, <Cell 'Top English Novels'.C98>, <Cell 'Top English Novels'.C99>, <Cell 'Top English Novels'.C100>, <Cell 'Top English Novels'.C101>)\n(<Cell 'Top English Novels'.D1>, <Cell 'Top English Novels'.D2>, <Cell 'Top English Novels'.D3>, <Cell 'Top English Novels'.D4>, <Cell 'Top English Novels'.D5>, <Cell 'Top English Novels'.D6>, <Cell 'Top English Novels'.D7>, <Cell 'Top English Novels'.D8>, <Cell 'Top English Novels'.D9>, <Cell 'Top English Novels'.D10>, <Cell 'Top English Novels'.D11>, <Cell 'Top English Novels'.D12>, <Cell 'Top English Novels'.D13>, <Cell 'Top English Novels'.D14>, <Cell 'Top English Novels'.D15>, <Cell 'Top English Novels'.D16>, <Cell 'Top English Novels'.D17>, <Cell 'Top English Novels'.D18>, <Cell 'Top English Novels'.D19>, <Cell 'Top English Novels'.D20>, <Cell 'Top English Novels'.D21>, <Cell 'Top English Novels'.D22>, <Cell 'Top English Novels'.D23>, <Cell 'Top English Novels'.D24>, <Cell 'Top English Novels'.D25>, <Cell 'Top English Novels'.D26>, <Cell 'Top English Novels'.D27>, <Cell 'Top English Novels'.D28>, <Cell 'Top English Novels'.D29>, <Cell 'Top English Novels'.D30>, <Cell 'Top English Novels'.D31>, <Cell 'Top English Novels'.D32>, <Cell 'Top English Novels'.D33>, <Cell 'Top English Novels'.D34>, <Cell 'Top English Novels'.D35>, <Cell 'Top English Novels'.D36>, <Cell 'Top English Novels'.D37>, <Cell 'Top English Novels'.D38>, <Cell 'Top English Novels'.D39>, <Cell 'Top English Novels'.D40>, <Cell 'Top English Novels'.D41>, <Cell 'Top English Novels'.D42>, <Cell 'Top English Novels'.D43>, <Cell 'Top English Novels'.D44>, <Cell 'Top English Novels'.D45>, <Cell 'Top English Novels'.D46>, <Cell 'Top English Novels'.D47>, <Cell 'Top English Novels'.D48>, <Cell 'Top English Novels'.D49>, <Cell 'Top English Novels'.D50>, <Cell 'Top English Novels'.D51>, <Cell 'Top English Novels'.D52>, <Cell 'Top English Novels'.D53>, <Cell 'Top English Novels'.D54>, <Cell 'Top English Novels'.D55>, <Cell 'Top English Novels'.D56>, <Cell 'Top English Novels'.D57>, <Cell 'Top English Novels'.D58>, <Cell 'Top English Novels'.D59>, <Cell 'Top English Novels'.D60>, <Cell 'Top English Novels'.D61>, <Cell 'Top English Novels'.D62>, <Cell 'Top English Novels'.D63>, <Cell 'Top English Novels'.D64>, <Cell 'Top English Novels'.D65>, <Cell 'Top English Novels'.D66>, <Cell 'Top English Novels'.D67>, <Cell 'Top English Novels'.D68>, <Cell 'Top English Novels'.D69>, <Cell 'Top English Novels'.D70>, <Cell 'Top English Novels'.D71>, <Cell 'Top English Novels'.D72>, <Cell 'Top English Novels'.D73>, <Cell 'Top English Novels'.D74>, <Cell 'Top English Novels'.D75>, <Cell 'Top English Novels'.D76>, <Cell 'Top English Novels'.D77>, <Cell 'Top English Novels'.D78>, <Cell 'Top English Novels'.D79>, <Cell 'Top English Novels'.D80>, <Cell 'Top English Novels'.D81>, <Cell 'Top English Novels'.D82>, <Cell 'Top English Novels'.D83>, <Cell 'Top English Novels'.D84>, <Cell 'Top English Novels'.D85>, <Cell 'Top English Novels'.D86>, <Cell 'Top English Novels'.D87>, <Cell 'Top English Novels'.D88>, <Cell 'Top English Novels'.D89>, <Cell 'Top English Novels'.D90>, <Cell 'Top English Novels'.D91>, <Cell 'Top English Novels'.D92>, <Cell 'Top English Novels'.D93>, <Cell 'Top English Novels'.D94>, <Cell 'Top English Novels'.D95>, <Cell 'Top English Novels'.D96>, <Cell 'Top English Novels'.D97>, <Cell 'Top English Novels'.D98>, <Cell 'Top English Novels'.D99>, <Cell 'Top English Novels'.D100>, <Cell 'Top English Novels'.D101>)\n",
          "name": "stdout"
        }
      ]
    },
    {
      "metadata": {
        "trusted": true
      },
      "cell_type": "code",
      "source": "for cell in ws['D']:\n    print(cell.value)",
      "execution_count": 84,
      "outputs": [
        {
          "output_type": "stream",
          "text": "Rank\n100\n99\n98\n97\n96\n95\n94\n93\n92\n91\n90\n89\n88\n87\n86\n85\n84\n83\n82\n81\n80\n79\n78\n77\n76\n75\n74\n73\n72\n71\n70\n69\n68\n67\n66\n65\n64\n63\n62\n61\n60\n59\n58\n57\n56\n55\n54\n53\n52\n51\n50\n49\n48\n47\n46\n45\n44\n43\n42\n41\n40\n39\n38\n37\n36\n35\n34\n33\n32\n31\n30\n29\n28\n27\n26\n25\n24\n23\n22\n21\n20\n19\n18\n17\n16\n15\n14\n13\n12\n11\n10\n9\n8\n7\n6\n5\n4\n3\n2\n1\n",
          "name": "stdout"
        }
      ]
    },
    {
      "metadata": {
        "trusted": true
      },
      "cell_type": "code",
      "source": "for col in ws.iter_cols(min_col=2, max_col=4):\n    print(col)",
      "execution_count": 85,
      "outputs": [
        {
          "output_type": "stream",
          "text": "(<Cell 'Top English Novels'.B1>, <Cell 'Top English Novels'.B2>, <Cell 'Top English Novels'.B3>, <Cell 'Top English Novels'.B4>, <Cell 'Top English Novels'.B5>, <Cell 'Top English Novels'.B6>, <Cell 'Top English Novels'.B7>, <Cell 'Top English Novels'.B8>, <Cell 'Top English Novels'.B9>, <Cell 'Top English Novels'.B10>, <Cell 'Top English Novels'.B11>, <Cell 'Top English Novels'.B12>, <Cell 'Top English Novels'.B13>, <Cell 'Top English Novels'.B14>, <Cell 'Top English Novels'.B15>, <Cell 'Top English Novels'.B16>, <Cell 'Top English Novels'.B17>, <Cell 'Top English Novels'.B18>, <Cell 'Top English Novels'.B19>, <Cell 'Top English Novels'.B20>, <Cell 'Top English Novels'.B21>, <Cell 'Top English Novels'.B22>, <Cell 'Top English Novels'.B23>, <Cell 'Top English Novels'.B24>, <Cell 'Top English Novels'.B25>, <Cell 'Top English Novels'.B26>, <Cell 'Top English Novels'.B27>, <Cell 'Top English Novels'.B28>, <Cell 'Top English Novels'.B29>, <Cell 'Top English Novels'.B30>, <Cell 'Top English Novels'.B31>, <Cell 'Top English Novels'.B32>, <Cell 'Top English Novels'.B33>, <Cell 'Top English Novels'.B34>, <Cell 'Top English Novels'.B35>, <Cell 'Top English Novels'.B36>, <Cell 'Top English Novels'.B37>, <Cell 'Top English Novels'.B38>, <Cell 'Top English Novels'.B39>, <Cell 'Top English Novels'.B40>, <Cell 'Top English Novels'.B41>, <Cell 'Top English Novels'.B42>, <Cell 'Top English Novels'.B43>, <Cell 'Top English Novels'.B44>, <Cell 'Top English Novels'.B45>, <Cell 'Top English Novels'.B46>, <Cell 'Top English Novels'.B47>, <Cell 'Top English Novels'.B48>, <Cell 'Top English Novels'.B49>, <Cell 'Top English Novels'.B50>, <Cell 'Top English Novels'.B51>, <Cell 'Top English Novels'.B52>, <Cell 'Top English Novels'.B53>, <Cell 'Top English Novels'.B54>, <Cell 'Top English Novels'.B55>, <Cell 'Top English Novels'.B56>, <Cell 'Top English Novels'.B57>, <Cell 'Top English Novels'.B58>, <Cell 'Top English Novels'.B59>, <Cell 'Top English Novels'.B60>, <Cell 'Top English Novels'.B61>, <Cell 'Top English Novels'.B62>, <Cell 'Top English Novels'.B63>, <Cell 'Top English Novels'.B64>, <Cell 'Top English Novels'.B65>, <Cell 'Top English Novels'.B66>, <Cell 'Top English Novels'.B67>, <Cell 'Top English Novels'.B68>, <Cell 'Top English Novels'.B69>, <Cell 'Top English Novels'.B70>, <Cell 'Top English Novels'.B71>, <Cell 'Top English Novels'.B72>, <Cell 'Top English Novels'.B73>, <Cell 'Top English Novels'.B74>, <Cell 'Top English Novels'.B75>, <Cell 'Top English Novels'.B76>, <Cell 'Top English Novels'.B77>, <Cell 'Top English Novels'.B78>, <Cell 'Top English Novels'.B79>, <Cell 'Top English Novels'.B80>, <Cell 'Top English Novels'.B81>, <Cell 'Top English Novels'.B82>, <Cell 'Top English Novels'.B83>, <Cell 'Top English Novels'.B84>, <Cell 'Top English Novels'.B85>, <Cell 'Top English Novels'.B86>, <Cell 'Top English Novels'.B87>, <Cell 'Top English Novels'.B88>, <Cell 'Top English Novels'.B89>, <Cell 'Top English Novels'.B90>, <Cell 'Top English Novels'.B91>, <Cell 'Top English Novels'.B92>, <Cell 'Top English Novels'.B93>, <Cell 'Top English Novels'.B94>, <Cell 'Top English Novels'.B95>, <Cell 'Top English Novels'.B96>, <Cell 'Top English Novels'.B97>, <Cell 'Top English Novels'.B98>, <Cell 'Top English Novels'.B99>, <Cell 'Top English Novels'.B100>, <Cell 'Top English Novels'.B101>)\n(<Cell 'Top English Novels'.C1>, <Cell 'Top English Novels'.C2>, <Cell 'Top English Novels'.C3>, <Cell 'Top English Novels'.C4>, <Cell 'Top English Novels'.C5>, <Cell 'Top English Novels'.C6>, <Cell 'Top English Novels'.C7>, <Cell 'Top English Novels'.C8>, <Cell 'Top English Novels'.C9>, <Cell 'Top English Novels'.C10>, <Cell 'Top English Novels'.C11>, <Cell 'Top English Novels'.C12>, <Cell 'Top English Novels'.C13>, <Cell 'Top English Novels'.C14>, <Cell 'Top English Novels'.C15>, <Cell 'Top English Novels'.C16>, <Cell 'Top English Novels'.C17>, <Cell 'Top English Novels'.C18>, <Cell 'Top English Novels'.C19>, <Cell 'Top English Novels'.C20>, <Cell 'Top English Novels'.C21>, <Cell 'Top English Novels'.C22>, <Cell 'Top English Novels'.C23>, <Cell 'Top English Novels'.C24>, <Cell 'Top English Novels'.C25>, <Cell 'Top English Novels'.C26>, <Cell 'Top English Novels'.C27>, <Cell 'Top English Novels'.C28>, <Cell 'Top English Novels'.C29>, <Cell 'Top English Novels'.C30>, <Cell 'Top English Novels'.C31>, <Cell 'Top English Novels'.C32>, <Cell 'Top English Novels'.C33>, <Cell 'Top English Novels'.C34>, <Cell 'Top English Novels'.C35>, <Cell 'Top English Novels'.C36>, <Cell 'Top English Novels'.C37>, <Cell 'Top English Novels'.C38>, <Cell 'Top English Novels'.C39>, <Cell 'Top English Novels'.C40>, <Cell 'Top English Novels'.C41>, <Cell 'Top English Novels'.C42>, <Cell 'Top English Novels'.C43>, <Cell 'Top English Novels'.C44>, <Cell 'Top English Novels'.C45>, <Cell 'Top English Novels'.C46>, <Cell 'Top English Novels'.C47>, <Cell 'Top English Novels'.C48>, <Cell 'Top English Novels'.C49>, <Cell 'Top English Novels'.C50>, <Cell 'Top English Novels'.C51>, <Cell 'Top English Novels'.C52>, <Cell 'Top English Novels'.C53>, <Cell 'Top English Novels'.C54>, <Cell 'Top English Novels'.C55>, <Cell 'Top English Novels'.C56>, <Cell 'Top English Novels'.C57>, <Cell 'Top English Novels'.C58>, <Cell 'Top English Novels'.C59>, <Cell 'Top English Novels'.C60>, <Cell 'Top English Novels'.C61>, <Cell 'Top English Novels'.C62>, <Cell 'Top English Novels'.C63>, <Cell 'Top English Novels'.C64>, <Cell 'Top English Novels'.C65>, <Cell 'Top English Novels'.C66>, <Cell 'Top English Novels'.C67>, <Cell 'Top English Novels'.C68>, <Cell 'Top English Novels'.C69>, <Cell 'Top English Novels'.C70>, <Cell 'Top English Novels'.C71>, <Cell 'Top English Novels'.C72>, <Cell 'Top English Novels'.C73>, <Cell 'Top English Novels'.C74>, <Cell 'Top English Novels'.C75>, <Cell 'Top English Novels'.C76>, <Cell 'Top English Novels'.C77>, <Cell 'Top English Novels'.C78>, <Cell 'Top English Novels'.C79>, <Cell 'Top English Novels'.C80>, <Cell 'Top English Novels'.C81>, <Cell 'Top English Novels'.C82>, <Cell 'Top English Novels'.C83>, <Cell 'Top English Novels'.C84>, <Cell 'Top English Novels'.C85>, <Cell 'Top English Novels'.C86>, <Cell 'Top English Novels'.C87>, <Cell 'Top English Novels'.C88>, <Cell 'Top English Novels'.C89>, <Cell 'Top English Novels'.C90>, <Cell 'Top English Novels'.C91>, <Cell 'Top English Novels'.C92>, <Cell 'Top English Novels'.C93>, <Cell 'Top English Novels'.C94>, <Cell 'Top English Novels'.C95>, <Cell 'Top English Novels'.C96>, <Cell 'Top English Novels'.C97>, <Cell 'Top English Novels'.C98>, <Cell 'Top English Novels'.C99>, <Cell 'Top English Novels'.C100>, <Cell 'Top English Novels'.C101>)\n(<Cell 'Top English Novels'.D1>, <Cell 'Top English Novels'.D2>, <Cell 'Top English Novels'.D3>, <Cell 'Top English Novels'.D4>, <Cell 'Top English Novels'.D5>, <Cell 'Top English Novels'.D6>, <Cell 'Top English Novels'.D7>, <Cell 'Top English Novels'.D8>, <Cell 'Top English Novels'.D9>, <Cell 'Top English Novels'.D10>, <Cell 'Top English Novels'.D11>, <Cell 'Top English Novels'.D12>, <Cell 'Top English Novels'.D13>, <Cell 'Top English Novels'.D14>, <Cell 'Top English Novels'.D15>, <Cell 'Top English Novels'.D16>, <Cell 'Top English Novels'.D17>, <Cell 'Top English Novels'.D18>, <Cell 'Top English Novels'.D19>, <Cell 'Top English Novels'.D20>, <Cell 'Top English Novels'.D21>, <Cell 'Top English Novels'.D22>, <Cell 'Top English Novels'.D23>, <Cell 'Top English Novels'.D24>, <Cell 'Top English Novels'.D25>, <Cell 'Top English Novels'.D26>, <Cell 'Top English Novels'.D27>, <Cell 'Top English Novels'.D28>, <Cell 'Top English Novels'.D29>, <Cell 'Top English Novels'.D30>, <Cell 'Top English Novels'.D31>, <Cell 'Top English Novels'.D32>, <Cell 'Top English Novels'.D33>, <Cell 'Top English Novels'.D34>, <Cell 'Top English Novels'.D35>, <Cell 'Top English Novels'.D36>, <Cell 'Top English Novels'.D37>, <Cell 'Top English Novels'.D38>, <Cell 'Top English Novels'.D39>, <Cell 'Top English Novels'.D40>, <Cell 'Top English Novels'.D41>, <Cell 'Top English Novels'.D42>, <Cell 'Top English Novels'.D43>, <Cell 'Top English Novels'.D44>, <Cell 'Top English Novels'.D45>, <Cell 'Top English Novels'.D46>, <Cell 'Top English Novels'.D47>, <Cell 'Top English Novels'.D48>, <Cell 'Top English Novels'.D49>, <Cell 'Top English Novels'.D50>, <Cell 'Top English Novels'.D51>, <Cell 'Top English Novels'.D52>, <Cell 'Top English Novels'.D53>, <Cell 'Top English Novels'.D54>, <Cell 'Top English Novels'.D55>, <Cell 'Top English Novels'.D56>, <Cell 'Top English Novels'.D57>, <Cell 'Top English Novels'.D58>, <Cell 'Top English Novels'.D59>, <Cell 'Top English Novels'.D60>, <Cell 'Top English Novels'.D61>, <Cell 'Top English Novels'.D62>, <Cell 'Top English Novels'.D63>, <Cell 'Top English Novels'.D64>, <Cell 'Top English Novels'.D65>, <Cell 'Top English Novels'.D66>, <Cell 'Top English Novels'.D67>, <Cell 'Top English Novels'.D68>, <Cell 'Top English Novels'.D69>, <Cell 'Top English Novels'.D70>, <Cell 'Top English Novels'.D71>, <Cell 'Top English Novels'.D72>, <Cell 'Top English Novels'.D73>, <Cell 'Top English Novels'.D74>, <Cell 'Top English Novels'.D75>, <Cell 'Top English Novels'.D76>, <Cell 'Top English Novels'.D77>, <Cell 'Top English Novels'.D78>, <Cell 'Top English Novels'.D79>, <Cell 'Top English Novels'.D80>, <Cell 'Top English Novels'.D81>, <Cell 'Top English Novels'.D82>, <Cell 'Top English Novels'.D83>, <Cell 'Top English Novels'.D84>, <Cell 'Top English Novels'.D85>, <Cell 'Top English Novels'.D86>, <Cell 'Top English Novels'.D87>, <Cell 'Top English Novels'.D88>, <Cell 'Top English Novels'.D89>, <Cell 'Top English Novels'.D90>, <Cell 'Top English Novels'.D91>, <Cell 'Top English Novels'.D92>, <Cell 'Top English Novels'.D93>, <Cell 'Top English Novels'.D94>, <Cell 'Top English Novels'.D95>, <Cell 'Top English Novels'.D96>, <Cell 'Top English Novels'.D97>, <Cell 'Top English Novels'.D98>, <Cell 'Top English Novels'.D99>, <Cell 'Top English Novels'.D100>, <Cell 'Top English Novels'.D101>)\n",
          "name": "stdout"
        }
      ]
    },
    {
      "metadata": {},
      "cell_type": "markdown",
      "source": "The row/column approach can be combined to iterate through all cells by iterating down rows and then across columns."
    },
    {
      "metadata": {
        "trusted": true
      },
      "cell_type": "code",
      "source": "for col in ws.columns:\n    for cell in col:\n        print(cell.value)",
      "execution_count": 88,
      "outputs": [
        {
          "output_type": "stream",
          "text": "Author\nPG Wodehouse\nAli Smith\nMalcolm Lowry\nCS Lewis\nDoris Lessing\nHanif Kureishi\nJames Hogg\nWilliam Golding\nStella Gibbons\nJohn Galsworthy\nWilkie Collins\nJoyce Cary\nElizabeth Bowen\nArnold Bennett\nSybille Bedford\nPat Barker\nEvelyn Waugh\nAnthony Trollope\nEdward St Aubyn\nPaul Scott\nBarbara Pym\nPhilip Pullman\nVS Naipaul\nW Somerset Maugham\nAndrea Levy\nDH Lawrence\nThomas Hardy\nPenelope Fitzgerald\nGraham Greene\nJane Gardam\nGeorge Eliot\nJoseph Conrad\nAnthony Burgess\nJG  Ballard 1973)\nJane Austen\nVirginia Woolf\nAnthony Trollope\nMuriel Spark\nGeorge Orwell\nIris Murdoch\nDH Lawrence\nAlan Hollinghurst\nHenry Green\nFord Madox Ford\nJeanette Winterson\nJonathan Swift\nZadie Smith\nJean Rhys\nGeorge Gissing\nThomas Hardy\nEM Forster\nAS Byatt\nKingsley Amis\nLaurence Sterne\nSalman Rushdie\nSarah Waters\nHilary Mantel\nAlan Hollinghurst\nGraham Greene\nCharles Dickens\nLewis Carroll\nJulian Barnes\nJeanette Winterson\nEvelyn Waugh\nAnthony Powell\nTom McCarthy\nKazuo Ishiguro\nKenneth Grahame\nEM Forster\nGraham Greene\nDaniel Defoe\nMonica Ali\nCharlotte Brontë\nDaniel Defoe\nJRR Tolkien\nZadie Smith\nDoris Lessing\nThomas Hardy\nHenry Fielding\nJoseph Conrad\nJane Austen\nJane Austen\nKazuo Ishiguro\nEM Forster\nVirginia Woolf\nIan McEwan\nSamuel Richardson\nFord Madox Ford\nGeorge Orwell\nJane Austen\nWilliam Makepeace Thackeray\nMary Shelley\nCharles Dickens\nEmily Brontë\nCharles Dickens\nCharlotte Brontë\nCharles Dickens\nVirginia Woolf\nVirginia Woolf\nGeorge Eliot\nTitle\nThe Code of the Woosters\nThere but for the\nUnder the Volcano\nThe Chronicles of Narnia\nMemoirs of a Survivor\nThe Buddha of Suburbia\nThe Private Memoirs and Confessions of a Justified Sinner\nLord of the Flies\nCold Comfort Farm\nThe Forsyte Saga\nThe Woman in White\nThe Horse’s Mouth\nThe Death of the Heart\nThe Old Wives’ Tale\nA Legacy\nRegeneration Trilogy\nScoop\nBarchester Towers\nThe Patrick Melrose Novels\nThe Jewel in the Crown\nExcellent Women\nHis Dark Materials\nA House for Mr Biswas\nOf Human Bondage\nSmall Island\nWomen in Love\nThe Mayor of Casterbridge\nThe Blue Flower\nThe Heart of the Matter\nOld Filth\nDaniel Deronda\nNostromo\nA Clockwork Orange\nCrash\nSense and Sensibility\nOrlando\nThe Way We Live Now\nThe Prime of Miss Jean Brodie\nAnimal Farm\nThe Sea, The Sea\nSons and Lovers\nThe Line of Beauty\nLoving\nParade’s End\nOranges Are Not the Only Fruit\nGulliver’s Travels\nNW\nWide Sargasso Sea\nNew Grub Street\nTess of the d’Urbervilles\nA Passage to India\nPossession\nLucky Jim\nThe Life and Opinions of Tristram Shandy, Gentleman\nMidnight’s Children\nThe Little Stranger\nWolf Hall\nThe Swimming Pool Library\nBrighton Rock\nDombey and Son\nAlice’s Adventures in Wonderland\nThe Sense of an Ending\nThe Passion\nDecline and Fall\nA Dance to the Music of Time\nRemainder\nNever Let Me Go\nThe Wind in the Willows\nA Room with a View\nThe End of the Affair\nMoll Flanders\nBrick Lane\nVillette\nRobinson Crusoe\nThe Lord of the Rings\nWhite Teeth\nThe Golden Notebook\nJude the Obscure\nThe History of Tom Jones, a Foundling\nHeart of Darkness\nPersuasion\nEmma\nRemains of the Day\nHowards End\nThe Waves\nAtonement\nClarissa\nThe Good Soldier\nNineteen Eighty-Four\nPride and Prejudice\nVanity Fair\nFrankenstein\nDavid Copperfield\nWuthering Heights\nBleak House\nJane Eyre\nGreat Expectations\nMrs. Dalloway\nTo the Lighthouse\nMiddlemarch\nYear\n1938\n2011\n1947\n1954\n1974\n1990\n1824\n1954\n1932\n1922\n1859\n1944\n1938\n1908\n1956\n1995\n1938\n1857\n2012\n1966\n1952\n2000\n1961\n1915\n2004\n1920\n1886\n1995\n1948\n2004\n1876\n1904\n1962\n1973\n1811\n1928\n1875\n1961\n1945\n1978\n1913\n2004\n1945\n1928\n1985\n1726\n2012\n1966\n1891\n1891\n1924\n1990\n1954\n1759\n1981\n2009\n2009\n1988\n1938\n1848\n1865\n2011\n1987\n1928\n1975\n2005\n2005\n1908\n1908\n1951\n1722\n2003\n1853\n1719\n1954\n2000\n1962\n1895\n1749\n1899\n1817\n1815\n1989\n1910\n1931\n2001\n1748\n1915\n1949\n1813\n1848\n1818\n1850\n1847\n1853\n1847\n1861\n1925\n1927\n1874\nRank\n100\n99\n98\n97\n96\n95\n94\n93\n92\n91\n90\n89\n88\n87\n86\n85\n84\n83\n82\n81\n80\n79\n78\n77\n76\n75\n74\n73\n72\n71\n70\n69\n68\n67\n66\n65\n64\n63\n62\n61\n60\n59\n58\n57\n56\n55\n54\n53\n52\n51\n50\n49\n48\n47\n46\n45\n44\n43\n42\n41\n40\n39\n38\n37\n36\n35\n34\n33\n32\n31\n30\n29\n28\n27\n26\n25\n24\n23\n22\n21\n20\n19\n18\n17\n16\n15\n14\n13\n12\n11\n10\n9\n8\n7\n6\n5\n4\n3\n2\n1\n",
          "name": "stdout"
        }
      ]
    },
    {
      "metadata": {},
      "cell_type": "markdown",
      "source": "We can add data to our worksheets in a similar manner. In the example below, we add a header to cell E1 and then add a formula to all cells in that column."
    },
    {
      "metadata": {
        "trusted": true
      },
      "cell_type": "code",
      "source": "ws['E1'].value = \"Age\"\nfor cell in ws['E']:\n    if cell.row > 1:\n        cell.value = \"=2019 - C\" + str(cell.row)\n",
      "execution_count": 89,
      "outputs": []
    },
    {
      "metadata": {},
      "cell_type": "markdown",
      "source": "## Creating Charts\nOpenpyxl gives full access to Excel, including the ability to create charts. For more information on creating charts, please refer to the documentation: https://openpyxl.readthedocs.io/en/stable/charts/introduction.html.\nIn the following example, we create a chart from data in our workbook. \n\nFirst, we transform the novel list and group novels by decade. "
    },
    {
      "metadata": {
        "trusted": true
      },
      "cell_type": "code",
      "source": "decadesDict = {}\nfor cell in ws['C']:\n    if cell.row > 1:\n        decadesDict.setdefault(str(10 * int(int(cell.value)/10)),0)\n        decadesDict[str(10 * int(int(cell.value)/10))] += 1",
      "execution_count": 90,
      "outputs": []
    },
    {
      "metadata": {
        "trusted": true
      },
      "cell_type": "code",
      "source": "decadesDict",
      "execution_count": 91,
      "outputs": [
        {
          "output_type": "execute_result",
          "execution_count": 91,
          "data": {
            "text/plain": "{'1710': 1,\n '1720': 2,\n '1740': 2,\n '1750': 1,\n '1810': 5,\n '1820': 1,\n '1840': 4,\n '1850': 5,\n '1860': 2,\n '1870': 3,\n '1880': 1,\n '1890': 4,\n '1900': 4,\n '1910': 4,\n '1920': 8,\n '1930': 6,\n '1940': 6,\n '1950': 7,\n '1960': 6,\n '1970': 4,\n '1980': 5,\n '1990': 4,\n '2000': 11,\n '2010': 4}"
          },
          "metadata": {}
        }
      ]
    },
    {
      "metadata": {},
      "cell_type": "markdown",
      "source": "We then add this data to a new worksheet and build a bar chart from the results."
    },
    {
      "metadata": {
        "trusted": true
      },
      "cell_type": "code",
      "source": "wbEmpty.create_sheet('Chart')\nwsChart = wbEmpty['Chart']\nwsChart.append(['Decade', 'Count'])\nfor decade in sorted(decadesDict.keys()):\n    wsChart.append([decade, decadesDict[decade]])",
      "execution_count": 93,
      "outputs": []
    },
    {
      "metadata": {},
      "cell_type": "markdown",
      "source": "The code above initializes the chart as a Bar Chart (“bar” and 11 are values that represent the type of bar chart we are creating). The chart title and the axes titles are similarly set."
    },
    {
      "metadata": {
        "trusted": true
      },
      "cell_type": "code",
      "source": "from openpyxl.chart import BarChart, Reference",
      "execution_count": 94,
      "outputs": []
    },
    {
      "metadata": {
        "trusted": true
      },
      "cell_type": "code",
      "source": "chart = BarChart()\nchart.type = \"bar\"\nchart.style = 11\nchart.title = \"Novels by Decade\"\nchart.y_axis.title = 'Novels Published'\nchart.x_axis.title = 'Decade'",
      "execution_count": 95,
      "outputs": []
    },
    {
      "metadata": {},
      "cell_type": "markdown",
      "source": "These lines identify the data that will be graphed (the counts, including the column header). And the categories that will be used to group the data (the decades, not including the column header). This is done by constructing a string that represents the range for the data. The string should resemble the type of string used to identify a range of cells in Excel: ‘Chart’!B1:B25. "
    },
    {
      "metadata": {
        "trusted": true
      },
      "cell_type": "code",
      "source": "data = Reference(wsChart, range_string=wsChart.title + \"!B1:B\" + str(wsChart.max_row))\ncategories = Reference(wsChart, range_string=wsChart.title + \"!A2:A\" + str(wsChart.max_row))",
      "execution_count": 96,
      "outputs": []
    },
    {
      "metadata": {},
      "cell_type": "markdown",
      "source": "The following lines define additional chart parameters including height, width and position of the chart."
    },
    {
      "metadata": {
        "trusted": true
      },
      "cell_type": "code",
      "source": "chart.add_data(data, titles_from_data=True)\nchart.set_categories(categories)\nchart.height = 20\nchart.width = 10\nchart.shape = 4\nwsChart.add_chart(chart, \"D1\")",
      "execution_count": 97,
      "outputs": []
    },
    {
      "metadata": {},
      "cell_type": "markdown",
      "source": "<img src=\"http://thislondonhouse.hopto.org/Jupyter/Images/11-Excel-03.png\" width=\"50%\" />\n\n## Saving Workbooks\nTo save your workbook, simply call the .save() method and pass in a file name."
    },
    {
      "metadata": {
        "trusted": true
      },
      "cell_type": "code",
      "source": "wbEmpty.save('support/novels.xlsx')",
      "execution_count": 98,
      "outputs": []
    }
  ],
  "metadata": {
    "kernelspec": {
      "name": "python3",
      "display_name": "Python 3",
      "language": "python"
    },
    "toc": {
      "nav_menu": {},
      "number_sections": true,
      "sideBar": true,
      "skip_h1_title": false,
      "base_numbering": 1,
      "title_cell": "Table of Contents",
      "title_sidebar": "Contents",
      "toc_cell": false,
      "toc_position": {},
      "toc_section_display": true,
      "toc_window_display": true
    },
    "language_info": {
      "mimetype": "text/x-python",
      "nbconvert_exporter": "python",
      "name": "python",
      "file_extension": ".py",
      "version": "3.5.4",
      "pygments_lexer": "ipython3",
      "codemirror_mode": {
        "version": 3,
        "name": "ipython"
      }
    }
  },
  "nbformat": 4,
  "nbformat_minor": 2
}