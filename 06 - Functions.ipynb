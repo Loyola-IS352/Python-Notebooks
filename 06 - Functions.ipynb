{
 "cells": [
  {
   "cell_type": "markdown",
   "metadata": {},
   "source": [
    "# Introduction\n",
    "In this module, \n",
    "\n",
    "# Functions\n",
    "A function is a named sequence of statements that performs some programmatic task. Functions extend the functionality of python by packaging a series of statements as flexible, reusable blocks of code. Though the usefulness of functions is difficult to see, functions have several important advantages: 1) functions make your program easier to read, understand, and debug; 2) functions make a program smaller by eliminating repetitive code; 3) functions increase the reusability of your code. \n",
    "\n",
    "Python has built-in and user-defined functions. These functions are called and they take arguments and have a return value. Arguments are variables that are provided as reference values for the function. The variable passed as an argument is copied to a new variable that is temporarily created for use in the function (this copy is called a local variable, meaning that it is local to the function and any changes to it are confined to the local function and do not affect the original variable). Functions may return a value to the calling program. This is called the return value. When a value is returned, the function ends and the return value becomes accessible in the calling program/function (note: functions can call other functions).\n",
    "## Built-in Functions\n",
    "Python has many built-in functions that are either included in the base language or are accessible via libraries. Some common functions are listed below. Others can be found here: https://docs.python.org/3.6/library/functions.html"
   ]
  },
  {
   "cell_type": "code",
   "execution_count": null,
   "metadata": {},
   "outputs": [],
   "source": [
    "myFloat = 3.14159\n",
    "myInt = 7\n",
    "myString = \"Jake London\"\n",
    "myList = [8,2, 1979]"
   ]
  },
  {
   "cell_type": "markdown",
   "metadata": {},
   "source": [
    "### abs()\n",
    "abs() returns the absolute value of a number"
   ]
  },
  {
   "cell_type": "code",
   "execution_count": null,
   "metadata": {},
   "outputs": [],
   "source": [
    "abs(10)"
   ]
  },
  {
   "cell_type": "code",
   "execution_count": null,
   "metadata": {},
   "outputs": [],
   "source": [
    "abs(-10) "
   ]
  },
  {
   "cell_type": "code",
   "execution_count": null,
   "metadata": {},
   "outputs": [],
   "source": [
    "abs(myFloat) "
   ]
  },
  {
   "cell_type": "code",
   "execution_count": null,
   "metadata": {},
   "outputs": [],
   "source": [
    "absOutput = abs(myFloat * -3) \n",
    "print(absOutput)"
   ]
  },
  {
   "cell_type": "markdown",
   "metadata": {},
   "source": [
    "### len()\n",
    "len () counts the number of items in a list"
   ]
  },
  {
   "cell_type": "code",
   "execution_count": null,
   "metadata": {},
   "outputs": [],
   "source": [
    "lenJake = len(\"Jake\")"
   ]
  },
  {
   "cell_type": "code",
   "execution_count": null,
   "metadata": {},
   "outputs": [],
   "source": [
    "len(myList)"
   ]
  },
  {
   "cell_type": "code",
   "execution_count": null,
   "metadata": {},
   "outputs": [],
   "source": [
    "print(lenJake == len(myList))\n",
    "print(lenJake)\n",
    "print(len(myList))"
   ]
  },
  {
   "cell_type": "markdown",
   "metadata": {},
   "source": [
    "### min()\n",
    "min() retruns the smallest value in a list"
   ]
  },
  {
   "cell_type": "code",
   "execution_count": null,
   "metadata": {},
   "outputs": [],
   "source": [
    "min([10, 9, 8, 7, 6])"
   ]
  },
  {
   "cell_type": "code",
   "execution_count": null,
   "metadata": {},
   "outputs": [],
   "source": [
    "min(myString)"
   ]
  },
  {
   "cell_type": "markdown",
   "metadata": {},
   "source": [
    "### max()\n",
    "max() returns the largest value in a list"
   ]
  },
  {
   "cell_type": "code",
   "execution_count": null,
   "metadata": {},
   "outputs": [],
   "source": [
    "max([10, 9, 8, 7, 6])"
   ]
  },
  {
   "cell_type": "code",
   "execution_count": null,
   "metadata": {},
   "outputs": [],
   "source": [
    "max(myString)"
   ]
  },
  {
   "cell_type": "markdown",
   "metadata": {},
   "source": [
    "### sum()\n",
    "sum() adds all numbers in a list"
   ]
  },
  {
   "cell_type": "code",
   "execution_count": null,
   "metadata": {},
   "outputs": [],
   "source": [
    "sum(myList)"
   ]
  },
  {
   "cell_type": "code",
   "execution_count": null,
   "metadata": {},
   "outputs": [],
   "source": [
    "sum(myString)"
   ]
  },
  {
   "cell_type": "markdown",
   "metadata": {},
   "source": [
    "## User-defined Functions\n",
    "User-defined functions are functions that developers write to perform tasks within their applications. Often, these are common tasks that might need to be executed often throughout an application. \n",
    "\n",
    "|Term|Description|\n",
    "|-|-|\n",
    "|Function|A sub-program within your application that performs a specific command or set of commands|\n",
    "|Function Name|The callable name of your function|\n",
    "|Call|Functions are *called* by including the function name in a code statement|\n",
    "|Paremeter|Parameters are values provided to your function in the calling statement. These values are optional and, if included, are used but not modified by your function|\n",
    "|Return Value|Many functions are designed to generate some output that the main application needs to complete its task. In this case, a function *returns* a value that the calling application will want to capture in an assignment statement\n"
   ]
  },
  {
   "cell_type": "markdown",
   "metadata": {},
   "source": [
    "### Echo Function\n",
    "The following function accepts a string as an input parameter and creates an echo of the string, printing two copies of the string"
   ]
  },
  {
   "cell_type": "code",
   "execution_count": null,
   "metadata": {},
   "outputs": [],
   "source": [
    "# create an echo of an input string\n",
    "def echo(varString):\n",
    "    print(varString)\n",
    "    print(varString)\n",
    "\n",
    "echo(\"Hello\")\n",
    "echo(\"World\")"
   ]
  },
  {
   "cell_type": "markdown",
   "metadata": {},
   "source": [
    "### Circumference Function\n",
    "Functions can be particularly useful when performing complex calculations that may have uses at multiple points within your application or across multiple applications. In the following example, the getCircumference function accepts a numeric value (integer or float) representing the radius as an input parameter and returns the circumference as a floating point number."
   ]
  },
  {
   "cell_type": "code",
   "execution_count": null,
   "metadata": {},
   "outputs": [],
   "source": [
    "# calculate the circumference of a circle\n",
    "def getCircumference(radius):\n",
    "    pi = 3.14159\n",
    "    circumference = 2 * pi * radius\n",
    "    return circumference\n",
    "\n",
    "myCircumference = getCircumference(8)\n",
    "print(myCircumference)\n",
    "print(getCircumference(14))"
   ]
  },
  {
   "cell_type": "markdown",
   "metadata": {},
   "source": [
    "### User Experience\n",
    "Menus are useful when your application performs a variety of operations. The following provides the structure for a simple menu. The application has been designed to return the user to the menu after completing the operation of the chosen branch."
   ]
  },
  {
   "cell_type": "code",
   "execution_count": null,
   "metadata": {},
   "outputs": [],
   "source": [
    "# print a menu of choices and prompt user for choice and return the choice as an integer.\n",
    "def getMenu():\n",
    "    print(\"Welcome to the Menu\")\n",
    "    print(\"1. Option One\")\n",
    "    print(\"2. Option Two\")\n",
    "    print(\"3. Exit\")\n",
    "    return int(input(\"Please choose an option: \"))\n",
    "\n",
    "# perform the operations of choice one\n",
    "def doChoiceOne():\n",
    "    print(\"You chose option 1\")\n",
    "    \n",
    "# perform the operations of choice one\n",
    "def doChoiceTwo():\n",
    "    print(\"You chose option 2\")\n",
    "\n",
    "# perform the exit operations\n",
    "def doExit():\n",
    "    print(\"You chose exit.\")\n",
    "    print(\"Goodbye!\")\n",
    "\n",
    "while True:\n",
    "    myChoice = getMenu()\n",
    "    if myChoice == 1:\n",
    "        doChoiceOne()\n",
    "    elif myChoice == 2:\n",
    "        doChoiceTwo()\n",
    "    elif myChoice == 3:\n",
    "        doExit()\n",
    "        break"
   ]
  },
  {
   "cell_type": "markdown",
   "metadata": {},
   "source": [
    "### The Game of Craps\n",
    "The following functions execute the various processes that make up a craps game. Functions are created to handle betting, rolling, playing the game and managing the point-shooting scenario. "
   ]
  },
  {
   "cell_type": "code",
   "execution_count": null,
   "metadata": {},
   "outputs": [],
   "source": [
    "import random\n",
    "\n",
    "# roll the dice for the player and return dice total as integer\n",
    "def getRoll():\n",
    "    dice1 = random.randint(1,6)\n",
    "    dice2 = random.randint(1,6)\n",
    "    roll = dice1 + dice2\n",
    "    print(\"You rolled \" + str(roll) + \": \" + str(dice1) + \" + \" + str(dice2))\n",
    "    return roll\n",
    "\n",
    "# handle the point shooting and return return boolean for win(True)/loss(False)\n",
    "# user rolls two dice: user rolls point -> win\n",
    "#                      user rolls 7 -> lose\n",
    "#                      all else -> keep shooting\n",
    "def doPointShooting(point):\n",
    "    print(\"Shooter's point is \" + str(point))\n",
    "    win = False\n",
    "    while True:\n",
    "        roll = getRoll()\n",
    "        if roll in [7]:\n",
    "            win = False\n",
    "            break\n",
    "        elif roll in [point]:\n",
    "            win = True\n",
    "            break\n",
    "    return win\n",
    "\n",
    "# play the game of craps and return earnings as an integer\n",
    "# opening roll of two dice: user rolls 2, 3, 12 -> lose\n",
    "#                           user rolls 7, 11 -> win\n",
    "#                           all else -> enter point shooting\n",
    "def playCraps(bet):\n",
    "    print(\"Welcome to the game of Craps!\")\n",
    "    earnings = 0\n",
    "    win = False\n",
    "    roll = getRoll()\n",
    "    if roll in [2, 3, 12]:\n",
    "        win = False\n",
    "    elif roll in [7, 11]:\n",
    "        win = True\n",
    "    else:\n",
    "        win = doPointShooting(roll)\n",
    "    \n",
    "    if win:\n",
    "        print(\"You win!\")\n",
    "        earnings = bet * 2\n",
    "    elif not win:\n",
    "        print(\"You lose!\")\n",
    "        earnings = earnings - bet\n",
    "    return earnings\n",
    "\n",
    "# get bet from player and return bet as integer\n",
    "def getBet():\n",
    "    bet = -99\n",
    "    while not (bet > 0 and bet <= 50):\n",
    "        bet = int(input(\"Please enter a bet:\"))\n",
    "    return bet\n",
    "\n",
    "earnings = playCraps(getBet())\n",
    "print(\"Congratulations, you now have $\" + str(earnings))"
   ]
  },
  {
   "cell_type": "markdown",
   "metadata": {},
   "source": [
    "### Lowercase Function\n",
    "A more complex example of a user-defined function is listed below. This function converts a string to lower-case. The function name is toLower and it accepts one argument (input parameter), varString. Notice that the keyword def precedes the name of the function. This keyword tells Python that the following code defines a function and should only be executed if called at some other point in the application. This function has a return value. The purpose of the function is to convert uppercase letters to lowercase letters so the return value of this function is a string that has been transformed to lowercase. The return keyword defines the return value. When a value is returned or execution reaches the last line of the function, the function ends. Pay attention to the indentation. Code indented one or more level beyond the level of the def keyword make up the body of the function. These lines of code are executed every time the function is called."
   ]
  },
  {
   "cell_type": "code",
   "execution_count": null,
   "metadata": {},
   "outputs": [],
   "source": [
    "def toLower(varString):\n",
    "    returnString = \"\"\n",
    "    for letter in varString:\n",
    "        if 65 <= ord(letter) <= 92:\n",
    "            nextChar = chr(ord(letter) + 32)\n",
    "        else:\n",
    "            nextChar = letter\n",
    "        returnString = returnString + nextChar\n",
    "    return returnString\n",
    "\n",
    "myString = \"Hello World!\"\n",
    "print(toLower(myString))\n",
    "print(toLower(\"HELLO WORLD!\"))\n",
    "print(toLower(myString) == toLower(\"HELLO WORLD!\"))"
   ]
  }
 ],
 "metadata": {
  "kernelspec": {
   "display_name": "Python 3",
   "language": "python",
   "name": "python3"
  },
  "language_info": {
   "codemirror_mode": {
    "name": "ipython",
    "version": 3
   },
   "file_extension": ".py",
   "mimetype": "text/x-python",
   "name": "python",
   "nbconvert_exporter": "python",
   "pygments_lexer": "ipython3",
   "version": "3.8.1"
  },
  "toc": {
   "base_numbering": 1,
   "nav_menu": {},
   "number_sections": true,
   "sideBar": true,
   "skip_h1_title": false,
   "title_cell": "Table of Contents",
   "title_sidebar": "Contents",
   "toc_cell": false,
   "toc_position": {},
   "toc_section_display": true,
   "toc_window_display": true
  }
 },
 "nbformat": 4,
 "nbformat_minor": 4
}
