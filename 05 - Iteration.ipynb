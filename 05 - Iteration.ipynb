{
  "cells": [
    {
      "metadata": {},
      "cell_type": "markdown",
      "source": "# Iteration\nComputer applications are really good a simple, repetitive tasks. Up to this point, we’ve been limited to simple tasks, and if we needed to perform the task more than once, we needed to run the application again. In this chapter, we will learn about iteration, the most powerful capability of any programming language.\n\nConsider the following blocks of code. Both produce the same output, but they rely on different logics to achieve this outcome. The first block of code can be interpreted as \"Do this, then this and finally this.\" When we look at the output, it is clear it is doing the same thing three times, but the code suggests that these are three independent commands."
    },
    {
      "metadata": {
        "trusted": true
      },
      "cell_type": "code",
      "source": "print(\"My name is Jake\")\nprint(\"My name is Jake\")\nprint(\"My name is Jake\")",
      "execution_count": null,
      "outputs": []
    },
    {
      "metadata": {},
      "cell_type": "markdown",
      "source": "The second block of code can be interpreted as \"Do this three times.\" In this code, it is clearer we are only performing one task (printing) and that we want to do it multiple times."
    },
    {
      "metadata": {
        "trusted": true
      },
      "cell_type": "code",
      "source": "for i in range(0,3):\n    print(\"My name is Jake\")",
      "execution_count": null,
      "outputs": []
    },
    {
      "metadata": {},
      "cell_type": "markdown",
      "source": "It is important that you be able to develop vision for your applications so that you can identify the tasks and sub-tasks that must be repeated multiple times. This will allow you to organize portions of your code as loops and will make your code more efficient and easier to read. \n\n## Iterator\nOften, when we loop through some segment of code, we only want to perform the actions a set number of time. Programming languages do not have built-in ways of keeping track of how many times the code has looped, so we need to create a variable that keeps track for us. This variable is called the iterator. The easiest way to understand this variable is as a counter that we update every time the code loops. To update a variable, we simply create an assignment statement which sets our counter equal the current value of the counter plus one.\n\nConsider the following code. In the first statement, the counter (varCounter) is initialized (oftentimes as zero or one)."
    },
    {
      "metadata": {
        "trusted": true
      },
      "cell_type": "code",
      "source": "varCounter = 10",
      "execution_count": null,
      "outputs": []
    },
    {
      "metadata": {},
      "cell_type": "markdown",
      "source": "Now, think about what the following line of code does. Run the code multiple times and notice how the output is changing."
    },
    {
      "metadata": {
        "trusted": true
      },
      "cell_type": "code",
      "source": "varCounter = varCounter - 1\nprint(varCounter)",
      "execution_count": null,
      "outputs": []
    },
    {
      "metadata": {},
      "cell_type": "markdown",
      "source": "If you have a block of code that only needs to run three times (e.g., a login that only allows the user three tries at entering the correct credentials) the counter can be used to keep track of how many times the code has run and to exit when the limit is reached."
    },
    {
      "metadata": {},
      "cell_type": "markdown",
      "source": "## Loops\n### While Loops\nPython has two different kinds of loops. The while loop executes the specified code while some statement is true. Thinking back to our conditional execution, this can be thought of as an if loop such that if the specified statement is true, loop. The syntax for a while loop is below. Notice, the code that will loop is indented."
    },
    {
      "metadata": {
        "trusted": true
      },
      "cell_type": "code",
      "source": "varCounter = 0\nwhile varCounter < 5:\n    print(\"loop #\" + str(varCounter))\n    varCounter = varCounter + 1\nprint(\"done looping\")\nprint(varCounter)",
      "execution_count": null,
      "outputs": []
    },
    {
      "metadata": {},
      "cell_type": "markdown",
      "source": "### For Loops\nThe second kind of loop available in Python is the for loop. For loops execute for a specified number of times. Though both loops can often be used interchangeably, the logic for the task you are performing often determines the appropriate type of loop. If you need a loop that will execute code until some state of the application changes (e.g., you are searching a data file for a specific value), you should use a while loop. If you want to loop a known number of iterations (e.g., you wan to perform some action to every record in a data file), you should use a for loop. The following code loops five times, like the code above, but the logic of the loop is a bit different. In this loop, it loops through each number in a list of numbers—the list of numbers just happens to be five numbers long (note: the range() function creates a list of numbers that starts with the first parameter and includes every number up to the second parameter. A third parameter can be used to indicate steps in the range)."
    },
    {
      "metadata": {
        "trusted": true
      },
      "cell_type": "code",
      "source": "# range(0,5) -> [0, 1, 2, 3, 4]\nfor varCounter in range(0,5):\n    print(\"loop #\" + str(varCounter))\nprint(\"done looping\")\nprint(varCounter)",
      "execution_count": null,
      "outputs": []
    },
    {
      "metadata": {},
      "cell_type": "markdown",
      "source": "### Infinite Loops\nYou will write infinite loops. Sometimes you will write one by accident and other times you will write one because you don’t quite know how long your loop needs to run. Infinite loops can be useful but they are also dangerous. To write an infinite loop, you simply need to use the keyword True as the condition for a while loop. Because while loops run while the condition is true, a True condition will never be false and the loop will never end. You should write at least one infinite loop if only to familiarize yourself with the break feature on PyCharm. If you are writing an intentional infinite loop, you will need to include a conditional statement which breaks the loop at some specified time—either when the task is done or when you reach some certain point of execution. Break is a keyword which tells Python to exit the current block of code."
    },
    {
      "metadata": {
        "trusted": true
      },
      "cell_type": "code",
      "source": "varCounter = 0\nisFive = False\nwhile not isFive:\n    print(\"loop #\" + str(varCounter))\n    varCounter = varCounter + 1\n    myVal = int(input(\"Enter a number: \"))\n    if myVal == 5:\n        isFive = True\nprint(\"done looping\")\n",
      "execution_count": null,
      "outputs": []
    },
    {
      "metadata": {
        "trusted": true
      },
      "cell_type": "code",
      "source": "varCounter = 0\nwhile True:\n    print(\"loop #\" + str(varCounter))\n    if varCounter >= 100:\n        break\n    varCounter = varCounter + 1\nprint(\"done looping\")",
      "execution_count": null,
      "outputs": []
    },
    {
      "metadata": {},
      "cell_type": "markdown",
      "source": "## Common Loop Patterns\nBelow are some common loops. While you may not need to write a loop that performs these exact tasks, you will often write loops that do some form of the following.\n### Counting\nA loop to count the number of iterations."
    },
    {
      "metadata": {
        "trusted": true
      },
      "cell_type": "code",
      "source": "myNumbers = [26, 15, 40, 45, 25]\nmyLetters = \"abcdefghijklmnopqrstuvwxyz\" # ['a', 'b', 'c', 'd', etc.]",
      "execution_count": null,
      "outputs": []
    },
    {
      "metadata": {
        "trusted": true
      },
      "cell_type": "code",
      "source": "numberCount = 0\nfor number in myNumbers:\n    #print(\"Loop \" + str(numberCount))\n    #print(\"Number: \" + str(number))\n    numberCount = numberCount + 1\n    #print(\"Count: \" + str(numberCount))\nprint(\"I have \" + str(numberCount) + \" numbers\")",
      "execution_count": null,
      "outputs": []
    },
    {
      "metadata": {
        "trusted": true
      },
      "cell_type": "code",
      "source": "letterCount = 0\nfor letter in myLetters:\n    print(\"Loop \" + str(letterCount))\n    print(\"Letter: \" + letter)\n    letterCount = letterCount + 1\n    print(\"Count: \" + str(letterCount))\nprint(\"I have \" + str(letterCount) + \" letters\")",
      "execution_count": null,
      "outputs": []
    },
    {
      "metadata": {},
      "cell_type": "markdown",
      "source": "### Summing\nA loop that sums a series of numbers"
    },
    {
      "metadata": {
        "trusted": true
      },
      "cell_type": "code",
      "source": "numberSum = 0\nfor number in myNumbers:\n    numberSum = numberSum + number\n    print(numberSum)\nprint(\"The sum of my numbers is: \" + str(numberSum))",
      "execution_count": null,
      "outputs": []
    },
    {
      "metadata": {},
      "cell_type": "markdown",
      "source": "### Finding\nA loop that searches for a specified value"
    },
    {
      "metadata": {
        "trusted": true
      },
      "cell_type": "code",
      "source": "numberSearch = int(input(\"Enter a number: \"))\nfound = False\nfor number in myNumbers:\n    print(\"Check number: \" + str(number))\n    if number == numberSearch:\n        print(str(number) + \" = \" + str(numberSearch))\n        found = True\n        break\nif found:\n    print(\"Number \" + str(numberSearch) + \" found!\")\nelse:\n    print(\"Number \" + str(numberSearch) + \" not found.\")",
      "execution_count": null,
      "outputs": []
    },
    {
      "metadata": {},
      "cell_type": "markdown",
      "source": "### Maximum and Minimum\nA loop that find the minimum and maximum value in a series of numbers."
    },
    {
      "metadata": {
        "trusted": true
      },
      "cell_type": "code",
      "source": "minNumber = None\nmaxNumber = None\nfor number in myNumbers:\n    print(\"Current: \" + str(number))\n    print(\"Min: \" + str(minNumber))\n    print(\"Max: \" + str(maxNumber))\n    if(minNumber is None or minNumber > number):\n        minNumber = number\n    if(maxNumber is None or maxNumber < number):\n        maxNumber = number\nprint(\"The minimum number is: \" + str(minNumber))\nprint(\"The maximum number is: \" + str(maxNumber))",
      "execution_count": null,
      "outputs": []
    },
    {
      "metadata": {},
      "cell_type": "markdown",
      "source": "**Note:** Letters have *values*, too. The code below identifies the minimum and maximum letter in the string myLetters. "
    },
    {
      "metadata": {
        "trusted": true
      },
      "cell_type": "code",
      "source": "minLetter = None\nmaxLetter = None\nfor letter in myLetters:\n    #print(\"Current: \" + letter)\n    #print(\"Min: \" + str(minLetter))\n    #print(\"Max: \" + str(maxLetter))\n    if(minLetter is None or minLetter > letter):\n        minLetter = letter\n    if(maxLetter is None or maxLetter < letter):\n        maxLetter = letter\nprint(\"The minimum number is: \" + str(minLetter))\nprint(\"The maximum number is: \" + str(maxLetter))",
      "execution_count": null,
      "outputs": []
    }
  ],
  "metadata": {
    "kernelspec": {
      "name": "python3",
      "display_name": "Python 3",
      "language": "python"
    },
    "language_info": {
      "mimetype": "text/x-python",
      "nbconvert_exporter": "python",
      "name": "python",
      "pygments_lexer": "ipython3",
      "version": "3.5.4",
      "file_extension": ".py",
      "codemirror_mode": {
        "version": 3,
        "name": "ipython"
      }
    },
    "toc": {
      "nav_menu": {},
      "number_sections": true,
      "sideBar": true,
      "skip_h1_title": false,
      "base_numbering": 1,
      "title_cell": "Table of Contents",
      "title_sidebar": "Contents",
      "toc_cell": false,
      "toc_position": {},
      "toc_section_display": true,
      "toc_window_display": true
    }
  },
  "nbformat": 4,
  "nbformat_minor": 2
}