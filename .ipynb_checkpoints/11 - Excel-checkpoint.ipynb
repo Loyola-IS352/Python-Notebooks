{
  "cells": [
    {
      "metadata": {
        "trusted": false
      },
      "cell_type": "markdown",
      "source": "# Excel\nExcel is perhaps the most popular busies technology. As such, it is immensely useful that we be able to interact with Excel by either extracting data from or importing data to Excel files. To do this, we will be using the openpyxl library. This library will give us direct access to excel files. \n\nTo be effective in our use of the openpyxl library, we need to establish some terminology that is common to Excel: An Excel document is called a workbook. A single workbook is saved in a file with the .xlsx extension. Data in the workbook are stored on worksheets. Each workbook will have one or more sheet (or worksheet). The sheet the user is currently viewing (or last viewed before closing Excel) is called the active sheet. Each sheet is a collection of cells which are arranged in columns and rows. Columns are listed alphabetically such that column ‘A’ is the first column. Rows are arranged numerically such that the first row is number 1. Cells may contain number or text values."
    },
    {
      "metadata": {
        "trusted": true
      },
      "cell_type": "code",
      "source": "!pip install 'openpyxl==2.6.4'",
      "execution_count": null,
      "outputs": []
    },
    {
      "metadata": {},
      "cell_type": "markdown",
      "source": "We start by installing the openpyxl library. The screenshot below illustrates this installation in PyCharm. In the Project \n<img src=\"http://thislondonhouse.hopto.org/Jupyter/Images/11-Excel-01.png\" width=\"50%\" />\nThen search for ‘openpyxl’ and click install package.\n<img src=\"http://thislondonhouse.hopto.org/Jupyter/Images/11-Excel-02.png\" width=\"50%\" />\n\n## Accessing Workbooks\nWe open excel files using the openpyxl.load_workbook() method. This method accepts a string representing the location of an excel file and returns a workbook object. For more information see here: https://openpyxl.readthedocs.io/en/stable/tutorial.html"
    },
    {
      "metadata": {
        "trusted": true
      },
      "cell_type": "code",
      "source": "import openpyxl",
      "execution_count": null,
      "outputs": []
    },
    {
      "metadata": {
        "trusted": true
      },
      "cell_type": "code",
      "source": "xlsxFile = 'support/censuspopdata.xlsx'\nwb = openpyxl.load_workbook(xlsxFile)",
      "execution_count": null,
      "outputs": []
    },
    {
      "metadata": {},
      "cell_type": "markdown",
      "source": "Alternatively, we can create an empty workbook using the openpyxl.Workbook() method."
    },
    {
      "metadata": {
        "trusted": true
      },
      "cell_type": "code",
      "source": "wbEmpty = openpyxl.Workbook()",
      "execution_count": null,
      "outputs": []
    },
    {
      "metadata": {},
      "cell_type": "markdown",
      "source": "For the remainder of this session, we will be using the empty workbook and we will populate it with data from the novels.txt file.\n\n## Accessing Worksheets\nWorkbooks are made up of one or more worksheets. Within openpyxl, you can query the number and name of available worksheets. You can also create and delete worksheets. We can access a list of worksheet names by referencing the property .sheetnames. This property provides a list of strings that represent the sheets in the workbook. Because it is a list, it has a length and you can access individual values with index values."
    },
    {
      "metadata": {
        "trusted": true
      },
      "cell_type": "code",
      "source": "type(wbEmpty)",
      "execution_count": null,
      "outputs": []
    },
    {
      "metadata": {
        "trusted": true
      },
      "cell_type": "code",
      "source": "wbEmpty.sheetnames",
      "execution_count": null,
      "outputs": []
    },
    {
      "metadata": {
        "trusted": true
      },
      "cell_type": "code",
      "source": "sheetList = wbEmpty.sheetnames\nprint(len(sheetList))\nprint(sheetList)",
      "execution_count": null,
      "outputs": []
    },
    {
      "metadata": {
        "trusted": true
      },
      "cell_type": "code",
      "source": "wbEmpty[sheetList[0]].title",
      "execution_count": null,
      "outputs": []
    },
    {
      "metadata": {
        "trusted": true
      },
      "cell_type": "code",
      "source": "wbEmpty['Sheet'].title",
      "execution_count": null,
      "outputs": []
    },
    {
      "metadata": {
        "trusted": true
      },
      "cell_type": "code",
      "source": "wbEmpty.active.title",
      "execution_count": null,
      "outputs": []
    },
    {
      "metadata": {},
      "cell_type": "markdown",
      "source": "We create sheets using the .create_sheet() method. This method expects a string value which represents the title of the sheet. The method returns a reference to the created worksheet."
    },
    {
      "metadata": {
        "trusted": true
      },
      "cell_type": "code",
      "source": "wbEmpty.create_sheet(\"Top English Novels\")",
      "execution_count": null,
      "outputs": []
    },
    {
      "metadata": {
        "trusted": true
      },
      "cell_type": "code",
      "source": "ws = wbEmpty.create_sheet(\"Another Sheet\")",
      "execution_count": null,
      "outputs": []
    },
    {
      "metadata": {
        "trusted": true
      },
      "cell_type": "code",
      "source": "ws.title",
      "execution_count": null,
      "outputs": []
    },
    {
      "metadata": {},
      "cell_type": "markdown",
      "source": "We can delete worksheets using the .remove_sheet() method. This method expects as worksheet variable as an input parameter. The worksheet that is passed to this method is then deleted."
    },
    {
      "metadata": {
        "trusted": true
      },
      "cell_type": "code",
      "source": "wbEmpty.remove(ws)",
      "execution_count": null,
      "outputs": []
    },
    {
      "metadata": {},
      "cell_type": "markdown",
      "source": "Worksheets are referenced using string keys which represent the title of the worksheet. The resulting variable is a worksheet object which has various methods and parameters. "
    },
    {
      "metadata": {
        "trusted": true
      },
      "cell_type": "code",
      "source": "ws = wbEmpty[\"Top English Novels\"]",
      "execution_count": null,
      "outputs": []
    },
    {
      "metadata": {
        "trusted": true
      },
      "cell_type": "code",
      "source": "ws.title",
      "execution_count": null,
      "outputs": []
    },
    {
      "metadata": {
        "trusted": true
      },
      "cell_type": "code",
      "source": "ws.max_row",
      "execution_count": null,
      "outputs": []
    },
    {
      "metadata": {
        "trusted": true
      },
      "cell_type": "code",
      "source": "ws.max_column",
      "execution_count": null,
      "outputs": []
    },
    {
      "metadata": {
        "trusted": true
      },
      "cell_type": "code",
      "source": "ws.min_row",
      "execution_count": null,
      "outputs": []
    },
    {
      "metadata": {
        "trusted": true
      },
      "cell_type": "code",
      "source": "ws.min_column",
      "execution_count": null,
      "outputs": []
    },
    {
      "metadata": {},
      "cell_type": "markdown",
      "source": "We can add elements to worksheets cell-by-cell or row-by-row. The append method is used to add rows of data. The append method expects to receive a list or tuple of values with the first element being placed in column A. Each row is appended below the bottommost row. We will look at add data to individual cells in the following section."
    },
    {
      "metadata": {
        "trusted": true
      },
      "cell_type": "code",
      "source": "ws.append([\"Author\", \"Title\", \"Year\", \"Rank\"])",
      "execution_count": null,
      "outputs": []
    },
    {
      "metadata": {
        "trusted": true
      },
      "cell_type": "code",
      "source": "data = []\ndata.append(\"Author\")\ndata.append(\"Title\")\ndata.append(\"Year\")\ndata.append(\"Rank\")",
      "execution_count": null,
      "outputs": []
    },
    {
      "metadata": {
        "trusted": true
      },
      "cell_type": "code",
      "source": "data",
      "execution_count": null,
      "outputs": []
    },
    {
      "metadata": {
        "trusted": true
      },
      "cell_type": "code",
      "source": "ws.append(data)",
      "execution_count": null,
      "outputs": []
    },
    {
      "metadata": {
        "trusted": true
      },
      "cell_type": "code",
      "source": "ws.delete_rows(2)",
      "execution_count": null,
      "outputs": []
    },
    {
      "metadata": {
        "trusted": true
      },
      "cell_type": "code",
      "source": "ws.delete_rows(2,5)",
      "execution_count": null,
      "outputs": []
    },
    {
      "metadata": {},
      "cell_type": "markdown",
      "source": "Before we move on to accessing cells, we need to populate the worksheet. The following lines write the contents of our novelList to the worksheet."
    },
    {
      "metadata": {
        "trusted": true
      },
      "cell_type": "code",
      "source": "novelList = []\nwith open(\"support/novels.txt\") as fileHandler:\n    for line in fileHandler:\n        rank = line[:line.find(\".\")].strip()\n        title = line[line.find(\".\") + 1:line.find(\"(\")].strip()\n        author = line[line.find(\"(\") + 1:line.find(\",\", line.find(\"(\"))].strip()\n        year = line.strip()[-5:-1]\n        novelList.append([author, title, year, rank])",
      "execution_count": null,
      "outputs": []
    },
    {
      "metadata": {
        "trusted": true
      },
      "cell_type": "code",
      "source": "len(novelList)",
      "execution_count": null,
      "outputs": []
    },
    {
      "metadata": {
        "trusted": true
      },
      "cell_type": "code",
      "source": "type(novelList[0])",
      "execution_count": null,
      "outputs": []
    },
    {
      "metadata": {
        "trusted": true
      },
      "cell_type": "code",
      "source": "len(novelList[0])",
      "execution_count": null,
      "outputs": []
    },
    {
      "metadata": {
        "trusted": true
      },
      "cell_type": "code",
      "source": "novelList[0]",
      "execution_count": null,
      "outputs": []
    },
    {
      "metadata": {
        "trusted": true
      },
      "cell_type": "code",
      "source": "novelList[0][0]",
      "execution_count": null,
      "outputs": []
    },
    {
      "metadata": {
        "trusted": true
      },
      "cell_type": "code",
      "source": "for novel in novelList:\n    print(\"Appending \", novel)\n    ws.append(novel)",
      "execution_count": null,
      "outputs": []
    },
    {
      "metadata": {},
      "cell_type": "markdown",
      "source": "## Accessing Cells\nOpenpyxl offers a variety of methods for accessing cells. In the following code, we will look at methods for accessing single cells, rows of cell and columns of cells. First, you can access cells by referencing column/row position of the cell. In Excel, columns are given character values while rows are given numeric values. You can use these to access a specific cell."
    },
    {
      "metadata": {
        "trusted": true
      },
      "cell_type": "code",
      "source": "print(ws['A1'])",
      "execution_count": null,
      "outputs": []
    },
    {
      "metadata": {
        "trusted": true
      },
      "cell_type": "code",
      "source": "cellRef = \"C\" + str(ws.max_row)\nprint(ws[cellRef])",
      "execution_count": null,
      "outputs": []
    },
    {
      "metadata": {},
      "cell_type": "markdown",
      "source": "Accessing a cell in this way retrieves a cell object. This object has properties and methods that give your application to various cell attributes."
    },
    {
      "metadata": {
        "trusted": true
      },
      "cell_type": "code",
      "source": "cell = ws[cellRef]",
      "execution_count": null,
      "outputs": []
    },
    {
      "metadata": {
        "trusted": true
      },
      "cell_type": "code",
      "source": "cell.value",
      "execution_count": null,
      "outputs": []
    },
    {
      "metadata": {
        "trusted": true
      },
      "cell_type": "code",
      "source": "cell.coordinate",
      "execution_count": null,
      "outputs": []
    },
    {
      "metadata": {
        "trusted": true
      },
      "cell_type": "code",
      "source": "cell.row",
      "execution_count": null,
      "outputs": []
    },
    {
      "metadata": {
        "trusted": true
      },
      "cell_type": "code",
      "source": "cell.column",
      "execution_count": null,
      "outputs": []
    },
    {
      "metadata": {},
      "cell_type": "markdown",
      "source": "It is important to keep this in mind as you will want access the .value of a cell and not the cell itself. This makes sense if you think about all of the things you can do to cells beyond simply entering a value (e.g., labels, colors, formatting, etc.), but it is not how we are accustomed to thinking about cells in Excel. \n\nSecond, we can access cells by row. When accessing cells by row, we retrieve one or more rows that contains one or more cells. Below are three different approaches to accessing rows. The first retrieves all rows and iterates through each row. The second retrieves a single row based on it’s string representation. The final method retrieves a subset of rows between some set of boundaries."
    },
    {
      "metadata": {
        "trusted": true
      },
      "cell_type": "code",
      "source": "for row in ws.rows:\n    print(row)",
      "execution_count": null,
      "outputs": []
    },
    {
      "metadata": {
        "trusted": true
      },
      "cell_type": "code",
      "source": "for cell in ws['22']:\n    print(cell.value)",
      "execution_count": null,
      "outputs": []
    },
    {
      "metadata": {
        "trusted": true
      },
      "cell_type": "code",
      "source": "for row in ws.iter_rows(min_row=2, max_row=20):\n    print(row)",
      "execution_count": null,
      "outputs": []
    },
    {
      "metadata": {},
      "cell_type": "markdown",
      "source": "Finally, we can access cells by column. Just as when accessing cells by row, we retrieve one or more row that contains one or more cells. For columns, we have the same alternatives available to us: accessing all columns, accessing a specific column, accessing some subset of columns based on boundary columns."
    },
    {
      "metadata": {
        "trusted": true
      },
      "cell_type": "code",
      "source": "for col in ws.columns:\n    print(col)",
      "execution_count": null,
      "outputs": []
    },
    {
      "metadata": {
        "trusted": true
      },
      "cell_type": "code",
      "source": "for cell in ws['D']:\n    print(cell.value)",
      "execution_count": null,
      "outputs": []
    },
    {
      "metadata": {
        "trusted": true
      },
      "cell_type": "code",
      "source": "for col in ws.iter_cols(min_col=2, max_col=4):\n    print(col)",
      "execution_count": null,
      "outputs": []
    },
    {
      "metadata": {},
      "cell_type": "markdown",
      "source": "The row/column approach can be combined to iterate through all cells by iterating down rows and then across columns."
    },
    {
      "metadata": {
        "trusted": true
      },
      "cell_type": "code",
      "source": "for col in ws.columns:\n    for cell in col:\n        print(cell.value)",
      "execution_count": null,
      "outputs": []
    },
    {
      "metadata": {},
      "cell_type": "markdown",
      "source": "We can add data to our worksheets in a similar manner. In the example below, we add a header to cell E1 and then add a formula to all cells in that column."
    },
    {
      "metadata": {
        "trusted": true
      },
      "cell_type": "code",
      "source": "ws['E1'].value = \"Age\"\nfor cell in ws['E']:\n    if cell.row > 1:\n        cell.value = \"=2019 - C\" + str(cell.row)\n",
      "execution_count": null,
      "outputs": []
    },
    {
      "metadata": {},
      "cell_type": "markdown",
      "source": "## Creating Charts\nOpenpyxl gives full access to Excel, including the ability to create charts. For more information on creating charts, please refer to the documentation: https://openpyxl.readthedocs.io/en/stable/charts/introduction.html.\nIn the following example, we create a chart from data in our workbook. \n\nFirst, we transform the novel list and group novels by decade. "
    },
    {
      "metadata": {
        "trusted": true
      },
      "cell_type": "code",
      "source": "decadesDict = {}\nfor cell in ws['C']:\n    if cell.row > 1:\n        decadesDict.setdefault(str(10 * int(int(cell.value)/10)),0)\n        decadesDict[str(10 * int(int(cell.value)/10))] += 1",
      "execution_count": null,
      "outputs": []
    },
    {
      "metadata": {
        "trusted": true
      },
      "cell_type": "code",
      "source": "decadesDict",
      "execution_count": null,
      "outputs": []
    },
    {
      "metadata": {},
      "cell_type": "markdown",
      "source": "We then add this data to a new worksheet and build a bar chart from the results."
    },
    {
      "metadata": {
        "trusted": true
      },
      "cell_type": "code",
      "source": "wbEmpty.create_sheet('Chart')\nwsChart = wbEmpty['Chart']\nwsChart.append(['Decade', 'Count'])\nfor decade in sorted(decadesDict.keys()):\n    wsChart.append([decade, decadesDict[decade]])",
      "execution_count": null,
      "outputs": []
    },
    {
      "metadata": {},
      "cell_type": "markdown",
      "source": "The code above initializes the chart as a Bar Chart (“bar” and 11 are values that represent the type of bar chart we are creating). The chart title and the axes titles are similarly set."
    },
    {
      "metadata": {
        "trusted": true
      },
      "cell_type": "code",
      "source": "from openpyxl.chart import BarChart, Reference",
      "execution_count": null,
      "outputs": []
    },
    {
      "metadata": {
        "trusted": true
      },
      "cell_type": "code",
      "source": "chart = BarChart()\nchart.type = \"bar\"\nchart.style = 11\nchart.title = \"Novels by Decade\"\nchart.y_axis.title = 'Novels Published'\nchart.x_axis.title = 'Decade'",
      "execution_count": null,
      "outputs": []
    },
    {
      "metadata": {},
      "cell_type": "markdown",
      "source": "These lines identify the data that will be graphed (the counts, including the column header). And the categories that will be used to group the data (the decades, not including the column header). This is done by constructing a string that represents the range for the data. The string should resemble the type of string used to identify a range of cells in Excel: ‘Chart’!B1:B25. "
    },
    {
      "metadata": {
        "trusted": true
      },
      "cell_type": "code",
      "source": "data = Reference(wsChart, range_string=wsChart.title + \"!B1:B\" + str(wsChart.max_row))\ncategories = Reference(wsChart, range_string=wsChart.title + \"!A2:A\" + str(wsChart.max_row))",
      "execution_count": null,
      "outputs": []
    },
    {
      "metadata": {},
      "cell_type": "markdown",
      "source": "The following lines define additional chart parameters including height, width and position of the chart."
    },
    {
      "metadata": {
        "trusted": true
      },
      "cell_type": "code",
      "source": "chart.add_data(data, titles_from_data=True)\nchart.set_categories(categories)\nchart.height = 20\nchart.width = 10\nchart.shape = 4\nwsChart.add_chart(chart, \"D1\")",
      "execution_count": null,
      "outputs": []
    },
    {
      "metadata": {},
      "cell_type": "markdown",
      "source": "<img src=\"http://thislondonhouse.hopto.org/Jupyter/Images/11-Excel-03.png\" width=\"50%\" />\n\n## Saving Workbooks\nTo save your workbook, simply call the .save() method and pass in a file name."
    },
    {
      "metadata": {
        "trusted": true
      },
      "cell_type": "code",
      "source": "wbEmpty.save('support/novels.xlsx')",
      "execution_count": null,
      "outputs": []
    }
  ],
  "metadata": {
    "kernelspec": {
      "name": "python3",
      "display_name": "Python 3",
      "language": "python"
    },
    "toc": {
      "nav_menu": {},
      "number_sections": true,
      "sideBar": true,
      "skip_h1_title": false,
      "base_numbering": 1,
      "title_cell": "Table of Contents",
      "title_sidebar": "Contents",
      "toc_cell": false,
      "toc_position": {},
      "toc_section_display": true,
      "toc_window_display": true
    },
    "language_info": {
      "mimetype": "text/x-python",
      "nbconvert_exporter": "python",
      "name": "python",
      "pygments_lexer": "ipython3",
      "version": "3.5.4",
      "file_extension": ".py",
      "codemirror_mode": {
        "version": 3,
        "name": "ipython"
      }
    }
  },
  "nbformat": 4,
  "nbformat_minor": 2
}