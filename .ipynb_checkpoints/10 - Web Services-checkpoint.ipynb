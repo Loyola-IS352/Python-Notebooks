{
 "cells": [
  {
   "cell_type": "markdown",
   "metadata": {},
   "source": [
    "# Introduction\n",
    "In this module,\n",
    "\n",
    "# Web Services\n",
    "For most web services, you must register with the service before you can access their data. Additionally, in Python, many web services have community developed libraries which simplify the process of connecting to and downloading from various web services.\n",
    "This document is organized in a way that acknowledges these facts. Firsts, I illustrate how to create a twitter developer account. Then, I show how to use a community-built library (Tweepy) to connect to Twitter’s API.\n",
    "## Creating a Twitter Developer Account\n",
    "https://developer.twitter.com/en/apply-for-access\n",
    "<img src=\"http://thislondonhouse.hopto.org/Jupyter/Images/12-Twitter-01.png\" width=\"50%\" />\n",
    "Log in with your twitter account and apply for developer access.\n",
    "<img src=\"http://thislondonhouse.hopto.org/Jupyter/Images/12-Twitter-02.png\" width=\"50%\" />\n",
    "<img src=\"http://thislondonhouse.hopto.org/Jupyter/Images/12-Twitter-03.png\" width=\"50%\" />\n",
    "Request personal access and set your account name to something indicating a class project (e.g., “IS 352 Project”). \n",
    "<img src=\"http://thislondonhouse.hopto.org/Jupyter/Images/12-Twitter-04.png\" width=\"50%\" />\n",
    "When asked to describe your reasons for wanting developer access, use my answers as a template for your own answers. Be sure to indicate that we will not be writing applications that tweet, retweet or like content and that we will only be using data for aggregate purposes.\n",
    "My answers…\n",
    "1. I am using Twitter's API to teach python programming.\n",
    "2. I plan to analyze tweets to teach data collection and semantic analysis. I will show students how to connect to Twitter's API, download tweets and extract and aggregate information.\n",
    "3. My solution will not involve tweeting, retweeting or liking.\n",
    "4. No individual tweets will be displayed. All data will be presented in aggregate.\n",
    "<img src=\"http://thislondonhouse.hopto.org/Jupyter/Images/12-Twitter-05.png\" width=\"50%\" />\n",
    "After you confirm your email address, you should be granted develop access automatically.\n",
    "Click “Create an app” to get started.\n",
    "<img src=\"http://thislondonhouse.hopto.org/Jupyter/Images/12-Twitter-06.png\" width=\"50%\" />\n",
    "<img src=\"http://thislondonhouse.hopto.org/Jupyter/Images/12-Twitter-07.png\" width=\"50%\" />\n",
    "Give your app a name and a description that suggests a class project.\n",
    "<img src=\"http://thislondonhouse.hopto.org/Jupyter/Images/12-Twitter-08.png\" width=\"50%\" />\n",
    "For the website URL, I used the department’s website. If you do this, be sure to remember that your app represents Loyola and should not engage in any objectionable or impermissible behavior (as defined by the student handbook: https://www.loyola.edu/department/student-life/student-conduct).\n",
    "<img src=\"http://thislondonhouse.hopto.org/Jupyter/Images/12-Twitter-09.png\" width=\"50%\" /> \n",
    "After you create your app, you will need to click “Keys and tokens” to access the API keys that your Python app will use to authenticate with Twitter’s servers. If you do not have Access tokens and access token secrets, you will need to generate them."
   ]
  },
  {
   "cell_type": "markdown",
   "metadata": {},
   "source": [
    "## Connecting to Twitter’s API via Python\n",
    "In general, there are two common approaches to connecting to an API. The first is to use http requests to pull in data from API resources and the second is to use wrapper libraries to facilitate pulling data from the API. We will look at both in the sections below."
   ]
  },
  {
   "cell_type": "markdown",
   "metadata": {},
   "source": [
    "<blockquote class=\"twitter-tweet\"><p lang=\"en\" dir=\"ltr\">‘Men of common sense do not allow much for coincidences in making the ordinary calculations of life’ (The Signalman). <a href=\"https://t.co/jk1GQmNM7h\">pic.twitter.com/jk1GQmNM7h</a></p>&mdash; Charles Dickens (@DickensSays) <a href=\"https://twitter.com/DickensSays/status/1165316261414416384?ref_src=twsrc%5Etfw\">August 24, 2019</a></blockquote> <script async src=\"https://platform.twitter.com/widgets.js\" charset=\"utf-8\"></script>"
   ]
  },
  {
   "cell_type": "markdown",
   "metadata": {},
   "source": [
    "### HTTP Requests\n",
    "Most APIs simply allow external users access to source data via web pages. These web pages use URLs and query string parameters to request specific data. Facilitate these connections, we will use the Requests library (more info here: https://requests.kennethreitz.org/en/master/)."
   ]
  },
  {
   "cell_type": "code",
   "execution_count": null,
   "metadata": {},
   "outputs": [],
   "source": [
    "!pip install Requests"
   ]
  },
  {
   "cell_type": "markdown",
   "metadata": {},
   "source": [
    "This approach requires that we directly access API resources, so we need some reference guide which will outline the available resources and the parameters that each method requires and/or allows. For twitter, this reference is here: https://developer.twitter.com/en/docs/api-reference-index.\n",
    "\n",
    "Also, you will need your consumer/access keys/secrets to connect to the api. You will find them here: https://developer.twitter.com/en/apps/"
   ]
  },
  {
   "cell_type": "code",
   "execution_count": null,
   "metadata": {},
   "outputs": [],
   "source": [
    "consumer_key = \"\"\n",
    "consumer_secret = \"\"\n",
    "\n",
    "access_token = \"\"\n",
    "access_secret = \"\""
   ]
  },
  {
   "cell_type": "code",
   "execution_count": null,
   "metadata": {},
   "outputs": [],
   "source": [
    "import base64\n",
    "import requests\n",
    "import pprint\n",
    "\n",
    "base_url = 'https://api.twitter.com/'\n",
    "api_version = \"1.1/\"\n",
    "auth_url = base_url + 'oauth2/token'"
   ]
  },
  {
   "cell_type": "code",
   "execution_count": null,
   "metadata": {},
   "outputs": [],
   "source": [
    "key_secret = consumer_key + \":\" + consumer_secret\n",
    "key_secret = key_secret.encode('ascii')\n",
    "b64_encoded_key = base64.b64encode(key_secret)\n",
    "b64_encoded_key = b64_encoded_key.decode('ascii')\n",
    "\n",
    "auth_headers = {\n",
    "    'Authorization': 'Basic ' + b64_encoded_key,\n",
    "    'Content-Type': 'application/x-www-form-urlencoded;charset=UTF-8'\n",
    "}\n",
    "\n",
    "auth_data = {\n",
    "    'grant_type': 'client_credentials'\n",
    "}\n",
    "\n",
    "auth_resp = requests.post(auth_url, headers=auth_headers, data=auth_data)\n",
    "auth_dict = auth_resp.json()\n",
    "\n",
    "auth_headers = {\n",
    "    'Authorization': 'Bearer ' + auth_dict['access_token']\n",
    "}"
   ]
  },
  {
   "cell_type": "code",
   "execution_count": null,
   "metadata": {},
   "outputs": [],
   "source": [
    "resource_url = base_url + api_version + 'statuses/show.json'\n",
    "search_params = {\n",
    "    'id': '1165316261414416384'\n",
    "}\n",
    "\n",
    "status_resp = requests.get(resource_url, headers=auth_headers, params=search_params)\n",
    "tweet_data = status_resp.json()"
   ]
  },
  {
   "cell_type": "code",
   "execution_count": null,
   "metadata": {},
   "outputs": [],
   "source": [
    "print(type(tweet_data))\n",
    "pprint.pprint(tweet_data)"
   ]
  },
  {
   "cell_type": "code",
   "execution_count": null,
   "metadata": {},
   "outputs": [],
   "source": [
    "print(tweet_data['text'])"
   ]
  },
  {
   "cell_type": "markdown",
   "metadata": {},
   "source": [
    "**Notice, in the screenshot above, you can see the tweet id for tweets are listed in the url for the tweet. In this case, the URL for the tweet is https://twitter.com/DickensSays/status/1165316261414416384 and the tweet id is simply the number at the end of the URL.**\n",
    "\n",
    "Also, notice the data returned from Twitter is in the form of a dictionary. This means that you would use standard dictionary notation to reference different values in the returned data."
   ]
  },
  {
   "cell_type": "code",
   "execution_count": null,
   "metadata": {},
   "outputs": [],
   "source": [
    "print(tweet_data['created_at'])"
   ]
  },
  {
   "cell_type": "code",
   "execution_count": null,
   "metadata": {},
   "outputs": [],
   "source": [
    "print(tweet_data['retweet_count'])"
   ]
  },
  {
   "cell_type": "code",
   "execution_count": null,
   "metadata": {},
   "outputs": [],
   "source": [
    "print(tweet_data['favorite_count'])"
   ]
  },
  {
   "cell_type": "code",
   "execution_count": null,
   "metadata": {},
   "outputs": [],
   "source": [
    "print(tweet_data['entities'])"
   ]
  },
  {
   "cell_type": "code",
   "execution_count": null,
   "metadata": {},
   "outputs": [],
   "source": [
    "print(tweet_data['entities']['urls'][0]['expanded_url'])"
   ]
  },
  {
   "cell_type": "code",
   "execution_count": null,
   "metadata": {},
   "outputs": [],
   "source": [
    "print(tweet_data['user']['id'])\n",
    "print(tweet_data['user']['screen_name'])"
   ]
  },
  {
   "cell_type": "markdown",
   "metadata": {},
   "source": [
    "From here, you may want to use the user's id to pull in more data about that user. To do that, you would need to set a new resource url and update the search parameters accordingly."
   ]
  },
  {
   "cell_type": "code",
   "execution_count": null,
   "metadata": {},
   "outputs": [],
   "source": [
    "resource_url = base_url + api_version + 'users/show.json'\n",
    "search_params = {\n",
    "    'screen_name': tweet_data['user']['screen_name']\n",
    "}\n",
    "\n",
    "user_resp = requests.get(resource_url, headers=auth_headers, params=search_params)\n",
    "user_data = user_resp.json()\n",
    "pprint.pprint(user_data)"
   ]
  },
  {
   "cell_type": "code",
   "execution_count": null,
   "metadata": {},
   "outputs": [],
   "source": [
    "print(user_data['statuses_count'])"
   ]
  },
  {
   "cell_type": "code",
   "execution_count": null,
   "metadata": {},
   "outputs": [],
   "source": [
    "print(user_data['friends_count'])"
   ]
  },
  {
   "cell_type": "markdown",
   "metadata": {},
   "source": [
    "### Tweepy Wrapper\n",
    "The second approach is to use a third-party wrapper that will facilitate API requests. These wrappers are written and maintained by groups who are unaffiliated with the source API so the wrapper may be outdated or may not work at all if the maintainers do not update the wrapper to account for any changes in the API. Despite this, wrappers are often easier to use and provide useful features that may be difficult to implement using http requests."
   ]
  },
  {
   "cell_type": "code",
   "execution_count": null,
   "metadata": {},
   "outputs": [],
   "source": [
    "!pip install tweepy"
   ]
  },
  {
   "cell_type": "code",
   "execution_count": null,
   "metadata": {},
   "outputs": [],
   "source": [
    "import tweepy\n",
    "\n",
    "auth = tweepy.OAuthHandler(consumer_key, consumer_secret)\n",
    "auth.set_access_token(access_token, access_secret)\n",
    "api = tweepy.API(auth, wait_on_rate_limit=True, retry_count=10, retry_delay=5)"
   ]
  },
  {
   "cell_type": "code",
   "execution_count": null,
   "metadata": {},
   "outputs": [],
   "source": [
    "status_id = 1165316261414416384\n",
    "status = api.get_status(status_id)"
   ]
  },
  {
   "cell_type": "code",
   "execution_count": null,
   "metadata": {},
   "outputs": [],
   "source": [
    "print(str(status.text))"
   ]
  },
  {
   "cell_type": "markdown",
   "metadata": {},
   "source": [
    "In the example above, I import the tweepy library and set my consumer key/secret and access token/secret. I then use Tweepy’s .OAuthHandler() method to establish a secure and authenticated connection to Twitter’s servers. Next, I create an API connection that I will use to query Twitter’s servers. Finally, I use the .get_status() method to download tweet number 1165316261414416384.\n",
    " \n",
    "An obvious question is: \"How did I know the text of the tweet was accessible by printing status.text?\" The answer to that question lies in how tweepy interfaces with the Twitter API. For more information on this exchange, go here: http://docs.tweepy.org/en/v3.6.0/. In short, tweepy works by accepting the <a href=\"https://www.json.org/\">JSON</a> response for twitter, and then converting that into an object with properties that mirror those outlined in the twitter API. So, when you ask tweepy to get a status from Twitter, tweepy returns a <a href=\"https://developer.twitter.com/en/docs/tweets/data-dictionary/overview/tweet-object\">tweet object</a>."
   ]
  },
  {
   "cell_type": "code",
   "execution_count": null,
   "metadata": {},
   "outputs": [],
   "source": [
    "print(type(status))\n",
    "pprint.pprint(status._json)"
   ]
  },
  {
   "cell_type": "markdown",
   "metadata": {},
   "source": [
    "The text returned when you print the status is the text that Twitter's API returns. Tweepy uses this text to build a status object. "
   ]
  },
  {
   "cell_type": "code",
   "execution_count": null,
   "metadata": {},
   "outputs": [],
   "source": [
    "print(status.created_at)"
   ]
  },
  {
   "cell_type": "code",
   "execution_count": null,
   "metadata": {},
   "outputs": [],
   "source": [
    "print(status.retweet_count)"
   ]
  },
  {
   "cell_type": "code",
   "execution_count": null,
   "metadata": {},
   "outputs": [],
   "source": [
    "print(status.favorite_count)"
   ]
  },
  {
   "cell_type": "code",
   "execution_count": null,
   "metadata": {},
   "outputs": [],
   "source": [
    "print(status.entities)"
   ]
  },
  {
   "cell_type": "code",
   "execution_count": null,
   "metadata": {},
   "outputs": [],
   "source": [
    "print(status.entities['urls'][0]['expanded_url'])"
   ]
  },
  {
   "cell_type": "code",
   "execution_count": null,
   "metadata": {},
   "outputs": [],
   "source": [
    "print(status.user.id)\n",
    "print(status.user.screen_name)"
   ]
  },
  {
   "cell_type": "markdown",
   "metadata": {},
   "source": [
    "Similarly, when you ask tweepy to get a user from Twitter, tweepy returns a <a href=\"https://developer.twitter.com/en/docs/tweets/data-dictionary/overview/user-object\">user object</a>."
   ]
  },
  {
   "cell_type": "code",
   "execution_count": null,
   "metadata": {},
   "outputs": [],
   "source": [
    "user = api.get_user('DickensSays')\n",
    "pprint.pprint(user._json)"
   ]
  },
  {
   "cell_type": "code",
   "execution_count": null,
   "metadata": {},
   "outputs": [],
   "source": [
    "print(user.statuses_count)"
   ]
  },
  {
   "cell_type": "code",
   "execution_count": null,
   "metadata": {},
   "outputs": [],
   "source": [
    "print(user.favourites_count)"
   ]
  }
 ],
 "metadata": {
  "kernelspec": {
   "display_name": "Python 3",
   "language": "python",
   "name": "python3"
  },
  "language_info": {
   "codemirror_mode": {
    "name": "ipython",
    "version": 3
   },
   "file_extension": ".py",
   "mimetype": "text/x-python",
   "name": "python",
   "nbconvert_exporter": "python",
   "pygments_lexer": "ipython3",
   "version": "3.8.1"
  },
  "toc": {
   "base_numbering": 1,
   "nav_menu": {},
   "number_sections": true,
   "sideBar": true,
   "skip_h1_title": false,
   "title_cell": "Table of Contents",
   "title_sidebar": "Contents",
   "toc_cell": false,
   "toc_position": {},
   "toc_section_display": true,
   "toc_window_display": true
  }
 },
 "nbformat": 4,
 "nbformat_minor": 4
}
